{
 "cells": [
  {
   "cell_type": "markdown",
   "id": "74f43d9f",
   "metadata": {},
   "source": [
    "\n",
    "**<h1><span style=\"color:red\"><u>Credit score calculations</u></span></h1>**\n",
    "**Datascientest**"
   ]
  },
  {
   "cell_type": "markdown",
   "id": "ce99697a",
   "metadata": {},
   "source": [
    "### <span style=\"color:yellow\"> 0. Importation des librairies</span> "
   ]
  },
  {
   "cell_type": "code",
   "execution_count": 2,
   "id": "2e15b552",
   "metadata": {},
   "outputs": [],
   "source": [
    "import pandas as pd"
   ]
  },
  {
   "cell_type": "markdown",
   "id": "ce1b4713",
   "metadata": {},
   "source": [
    "## <span style=\"color:red\"> I. Audit des données</span> "
   ]
  },
  {
   "cell_type": "code",
   "execution_count": 24,
   "id": "d0aee3cc",
   "metadata": {
    "scrolled": true
   },
   "outputs": [
    {
     "name": "stdout",
     "output_type": "stream",
     "text": [
      "       ID Customer_ID      Month             Name  Age          SSN  \\\n",
      "0  0x160a   CUS_0xd40  September    Aaron Maashoh   23  821-00-0265   \n",
      "1  0x160b   CUS_0xd40    October    Aaron Maashoh   24  821-00-0265   \n",
      "2  0x160c   CUS_0xd40   November    Aaron Maashoh   24  821-00-0265   \n",
      "3  0x160d   CUS_0xd40   December    Aaron Maashoh  24_  821-00-0265   \n",
      "4  0x1616  CUS_0x21b1  September  Rick Rothackerj   28  004-07-5839   \n",
      "\n",
      "  Occupation Annual_Income  Monthly_Inhand_Salary  Num_Bank_Accounts  ...  \\\n",
      "0  Scientist      19114.12            1824.843333                  3  ...   \n",
      "1  Scientist      19114.12            1824.843333                  3  ...   \n",
      "2  Scientist      19114.12            1824.843333                  3  ...   \n",
      "3  Scientist      19114.12                    NaN                  3  ...   \n",
      "4    _______      34847.84            3037.986667                  2  ...   \n",
      "\n",
      "   Num_Credit_Inquiries  Credit_Mix Outstanding_Debt Credit_Utilization_Ratio  \\\n",
      "0                2022.0        Good           809.98                35.030402   \n",
      "1                   4.0        Good           809.98                33.053114   \n",
      "2                   4.0        Good           809.98                33.811894   \n",
      "3                   4.0        Good           809.98                32.430559   \n",
      "4                   5.0        Good           605.03                25.926822   \n",
      "\n",
      "       Credit_History_Age Payment_of_Min_Amount Total_EMI_per_month  \\\n",
      "0   22 Years and 9 Months                    No           49.574949   \n",
      "1  22 Years and 10 Months                    No           49.574949   \n",
      "2                     NaN                    No           49.574949   \n",
      "3   23 Years and 0 Months                    No           49.574949   \n",
      "4   27 Years and 3 Months                    No           18.816215   \n",
      "\n",
      "   Amount_invested_monthly                 Payment_Behaviour  \\\n",
      "0       236.64268203272135    Low_spent_Small_value_payments   \n",
      "1       21.465380264657146  High_spent_Medium_value_payments   \n",
      "2       148.23393788500925   Low_spent_Medium_value_payments   \n",
      "3        39.08251089460281  High_spent_Medium_value_payments   \n",
      "4       39.684018417945296   High_spent_Large_value_payments   \n",
      "\n",
      "      Monthly_Balance  \n",
      "0  186.26670208571772  \n",
      "1  361.44400385378196  \n",
      "2  264.67544623342997  \n",
      "3  343.82687322383634  \n",
      "4   485.2984336755923  \n",
      "\n",
      "[5 rows x 27 columns]\n"
     ]
    }
   ],
   "source": [
    "df = pd.read_csv(filepath_or_buffer = 'test.csv',\n",
    "                           sep = ',',\n",
    "                           header = 0)\n",
    "\n",
    "#print(df.columns)\n",
    "print(df.head())"
   ]
  },
  {
   "cell_type": "code",
   "execution_count": 25,
   "id": "4b213072",
   "metadata": {},
   "outputs": [
    {
     "data": {
      "text/plain": [
       "ID                             0\n",
       "Customer_ID                    0\n",
       "Month                          0\n",
       "Name                        5015\n",
       "Age                            0\n",
       "SSN                            0\n",
       "Occupation                     0\n",
       "Annual_Income                  0\n",
       "Monthly_Inhand_Salary       7498\n",
       "Num_Bank_Accounts              0\n",
       "Num_Credit_Card                0\n",
       "Interest_Rate                  0\n",
       "Num_of_Loan                    0\n",
       "Type_of_Loan                5704\n",
       "Delay_from_due_date            0\n",
       "Num_of_Delayed_Payment      3498\n",
       "Changed_Credit_Limit           0\n",
       "Num_Credit_Inquiries        1035\n",
       "Credit_Mix                     0\n",
       "Outstanding_Debt               0\n",
       "Credit_Utilization_Ratio       0\n",
       "Credit_History_Age          4470\n",
       "Payment_of_Min_Amount          0\n",
       "Total_EMI_per_month            0\n",
       "Amount_invested_monthly     2271\n",
       "Payment_Behaviour              0\n",
       "Monthly_Balance              562\n",
       "dtype: int64"
      ]
     },
     "execution_count": 25,
     "metadata": {},
     "output_type": "execute_result"
    }
   ],
   "source": [
    "df.isna().sum()"
   ]
  },
  {
   "cell_type": "code",
   "execution_count": 26,
   "id": "75b6920c",
   "metadata": {},
   "outputs": [
    {
     "data": {
      "text/plain": [
       "(50000, 27)"
      ]
     },
     "execution_count": 26,
     "metadata": {},
     "output_type": "execute_result"
    }
   ],
   "source": [
    "df.shape"
   ]
  },
  {
   "cell_type": "code",
   "execution_count": 15,
   "id": "bc85147a",
   "metadata": {},
   "outputs": [
    {
     "name": "stdout",
     "output_type": "stream",
     "text": [
      "<class 'pandas.core.frame.DataFrame'>\n",
      "RangeIndex: 50000 entries, 0 to 49999\n",
      "Data columns (total 27 columns):\n",
      " #   Column                    Non-Null Count  Dtype  \n",
      "---  ------                    --------------  -----  \n",
      " 0   ID                        50000 non-null  object \n",
      " 1   Customer_ID               50000 non-null  object \n",
      " 2   Month                     50000 non-null  object \n",
      " 3   Name                      44985 non-null  object \n",
      " 4   Age                       50000 non-null  object \n",
      " 5   SSN                       50000 non-null  object \n",
      " 6   Occupation                50000 non-null  object \n",
      " 7   Annual_Income             50000 non-null  object \n",
      " 8   Monthly_Inhand_Salary     42502 non-null  float64\n",
      " 9   Num_Bank_Accounts         50000 non-null  int64  \n",
      " 10  Num_Credit_Card           50000 non-null  int64  \n",
      " 11  Interest_Rate             50000 non-null  int64  \n",
      " 12  Num_of_Loan               50000 non-null  object \n",
      " 13  Type_of_Loan              44296 non-null  object \n",
      " 14  Delay_from_due_date       50000 non-null  int64  \n",
      " 15  Num_of_Delayed_Payment    46502 non-null  object \n",
      " 16  Changed_Credit_Limit      50000 non-null  object \n",
      " 17  Num_Credit_Inquiries      48965 non-null  float64\n",
      " 18  Credit_Mix                50000 non-null  object \n",
      " 19  Outstanding_Debt          50000 non-null  object \n",
      " 20  Credit_Utilization_Ratio  50000 non-null  float64\n",
      " 21  Credit_History_Age        45530 non-null  object \n",
      " 22  Payment_of_Min_Amount     50000 non-null  object \n",
      " 23  Total_EMI_per_month       50000 non-null  float64\n",
      " 24  Amount_invested_monthly   47729 non-null  object \n",
      " 25  Payment_Behaviour         50000 non-null  object \n",
      " 26  Monthly_Balance           49438 non-null  object \n",
      "dtypes: float64(4), int64(4), object(19)\n",
      "memory usage: 10.3+ MB\n"
     ]
    }
   ],
   "source": [
    "df.info() "
   ]
  },
  {
   "cell_type": "code",
   "execution_count": 27,
   "id": "bec0ffa8",
   "metadata": {},
   "outputs": [
    {
     "data": {
      "text/plain": [
       "ID                             0\n",
       "Customer_ID                    0\n",
       "Month                          0\n",
       "Name                        5015\n",
       "Age                            0\n",
       "SSN                            0\n",
       "Occupation                     0\n",
       "Annual_Income                  0\n",
       "Monthly_Inhand_Salary       7498\n",
       "Num_Bank_Accounts              0\n",
       "Num_Credit_Card                0\n",
       "Interest_Rate                  0\n",
       "Num_of_Loan                    0\n",
       "Type_of_Loan                5704\n",
       "Delay_from_due_date            0\n",
       "Num_of_Delayed_Payment      3498\n",
       "Changed_Credit_Limit           0\n",
       "Num_Credit_Inquiries        1035\n",
       "Credit_Mix                     0\n",
       "Outstanding_Debt               0\n",
       "Credit_Utilization_Ratio       0\n",
       "Credit_History_Age          4470\n",
       "Payment_of_Min_Amount          0\n",
       "Total_EMI_per_month            0\n",
       "Amount_invested_monthly     2271\n",
       "Payment_Behaviour              0\n",
       "Monthly_Balance              562\n",
       "dtype: int64"
      ]
     },
     "execution_count": 27,
     "metadata": {},
     "output_type": "execute_result"
    }
   ],
   "source": [
    "df.isnull().sum()"
   ]
  },
  {
   "cell_type": "code",
   "execution_count": 28,
   "id": "ea587600",
   "metadata": {},
   "outputs": [
    {
     "data": {
      "text/html": [
       "<div>\n",
       "<style scoped>\n",
       "    .dataframe tbody tr th:only-of-type {\n",
       "        vertical-align: middle;\n",
       "    }\n",
       "\n",
       "    .dataframe tbody tr th {\n",
       "        vertical-align: top;\n",
       "    }\n",
       "\n",
       "    .dataframe thead th {\n",
       "        text-align: right;\n",
       "    }\n",
       "</style>\n",
       "<table border=\"1\" class=\"dataframe\">\n",
       "  <thead>\n",
       "    <tr style=\"text-align: right;\">\n",
       "      <th></th>\n",
       "      <th>Monthly_Inhand_Salary</th>\n",
       "      <th>Num_Bank_Accounts</th>\n",
       "      <th>Num_Credit_Card</th>\n",
       "      <th>Interest_Rate</th>\n",
       "      <th>Delay_from_due_date</th>\n",
       "      <th>Num_Credit_Inquiries</th>\n",
       "      <th>Credit_Utilization_Ratio</th>\n",
       "      <th>Total_EMI_per_month</th>\n",
       "    </tr>\n",
       "  </thead>\n",
       "  <tbody>\n",
       "    <tr>\n",
       "      <th>count</th>\n",
       "      <td>42502.000000</td>\n",
       "      <td>50000.000000</td>\n",
       "      <td>50000.000000</td>\n",
       "      <td>50000.000000</td>\n",
       "      <td>50000.000000</td>\n",
       "      <td>48965.000000</td>\n",
       "      <td>50000.000000</td>\n",
       "      <td>50000.000000</td>\n",
       "    </tr>\n",
       "    <tr>\n",
       "      <th>mean</th>\n",
       "      <td>4182.004291</td>\n",
       "      <td>16.838260</td>\n",
       "      <td>22.921480</td>\n",
       "      <td>68.772640</td>\n",
       "      <td>21.052640</td>\n",
       "      <td>30.080200</td>\n",
       "      <td>32.279581</td>\n",
       "      <td>1491.304305</td>\n",
       "    </tr>\n",
       "    <tr>\n",
       "      <th>std</th>\n",
       "      <td>3174.109304</td>\n",
       "      <td>116.396848</td>\n",
       "      <td>129.314804</td>\n",
       "      <td>451.602363</td>\n",
       "      <td>14.860397</td>\n",
       "      <td>196.984121</td>\n",
       "      <td>5.106238</td>\n",
       "      <td>8595.647887</td>\n",
       "    </tr>\n",
       "    <tr>\n",
       "      <th>min</th>\n",
       "      <td>303.645417</td>\n",
       "      <td>-1.000000</td>\n",
       "      <td>0.000000</td>\n",
       "      <td>1.000000</td>\n",
       "      <td>-5.000000</td>\n",
       "      <td>0.000000</td>\n",
       "      <td>20.509652</td>\n",
       "      <td>0.000000</td>\n",
       "    </tr>\n",
       "    <tr>\n",
       "      <th>25%</th>\n",
       "      <td>1625.188333</td>\n",
       "      <td>3.000000</td>\n",
       "      <td>4.000000</td>\n",
       "      <td>8.000000</td>\n",
       "      <td>10.000000</td>\n",
       "      <td>4.000000</td>\n",
       "      <td>28.061040</td>\n",
       "      <td>32.222388</td>\n",
       "    </tr>\n",
       "    <tr>\n",
       "      <th>50%</th>\n",
       "      <td>3086.305000</td>\n",
       "      <td>6.000000</td>\n",
       "      <td>5.000000</td>\n",
       "      <td>13.000000</td>\n",
       "      <td>18.000000</td>\n",
       "      <td>7.000000</td>\n",
       "      <td>32.280390</td>\n",
       "      <td>74.733349</td>\n",
       "    </tr>\n",
       "    <tr>\n",
       "      <th>75%</th>\n",
       "      <td>5934.189094</td>\n",
       "      <td>7.000000</td>\n",
       "      <td>7.000000</td>\n",
       "      <td>20.000000</td>\n",
       "      <td>28.000000</td>\n",
       "      <td>10.000000</td>\n",
       "      <td>36.468591</td>\n",
       "      <td>176.157491</td>\n",
       "    </tr>\n",
       "    <tr>\n",
       "      <th>max</th>\n",
       "      <td>15204.633333</td>\n",
       "      <td>1798.000000</td>\n",
       "      <td>1499.000000</td>\n",
       "      <td>5799.000000</td>\n",
       "      <td>67.000000</td>\n",
       "      <td>2593.000000</td>\n",
       "      <td>48.540663</td>\n",
       "      <td>82398.000000</td>\n",
       "    </tr>\n",
       "  </tbody>\n",
       "</table>\n",
       "</div>"
      ],
      "text/plain": [
       "       Monthly_Inhand_Salary  Num_Bank_Accounts  Num_Credit_Card  \\\n",
       "count           42502.000000       50000.000000     50000.000000   \n",
       "mean             4182.004291          16.838260        22.921480   \n",
       "std              3174.109304         116.396848       129.314804   \n",
       "min               303.645417          -1.000000         0.000000   \n",
       "25%              1625.188333           3.000000         4.000000   \n",
       "50%              3086.305000           6.000000         5.000000   \n",
       "75%              5934.189094           7.000000         7.000000   \n",
       "max             15204.633333        1798.000000      1499.000000   \n",
       "\n",
       "       Interest_Rate  Delay_from_due_date  Num_Credit_Inquiries  \\\n",
       "count   50000.000000         50000.000000          48965.000000   \n",
       "mean       68.772640            21.052640             30.080200   \n",
       "std       451.602363            14.860397            196.984121   \n",
       "min         1.000000            -5.000000              0.000000   \n",
       "25%         8.000000            10.000000              4.000000   \n",
       "50%        13.000000            18.000000              7.000000   \n",
       "75%        20.000000            28.000000             10.000000   \n",
       "max      5799.000000            67.000000           2593.000000   \n",
       "\n",
       "       Credit_Utilization_Ratio  Total_EMI_per_month  \n",
       "count              50000.000000         50000.000000  \n",
       "mean                  32.279581          1491.304305  \n",
       "std                    5.106238          8595.647887  \n",
       "min                   20.509652             0.000000  \n",
       "25%                   28.061040            32.222388  \n",
       "50%                   32.280390            74.733349  \n",
       "75%                   36.468591           176.157491  \n",
       "max                   48.540663         82398.000000  "
      ]
     },
     "execution_count": 28,
     "metadata": {},
     "output_type": "execute_result"
    }
   ],
   "source": [
    "df.describe()"
   ]
  },
  {
   "cell_type": "code",
   "execution_count": 7,
   "id": "f7ce2667",
   "metadata": {},
   "outputs": [
    {
     "name": "stdout",
     "output_type": "stream",
     "text": [
      "<class 'pandas.core.frame.DataFrame'>\n",
      "RangeIndex: 50000 entries, 0 to 49999\n",
      "Data columns (total 27 columns):\n",
      " #   Column                    Non-Null Count  Dtype  \n",
      "---  ------                    --------------  -----  \n",
      " 0   ID                        50000 non-null  object \n",
      " 1   Customer_ID               50000 non-null  object \n",
      " 2   Month                     50000 non-null  object \n",
      " 3   Name                      44985 non-null  object \n",
      " 4   Age                       50000 non-null  object \n",
      " 5   SSN                       50000 non-null  object \n",
      " 6   Occupation                50000 non-null  object \n",
      " 7   Annual_Income             50000 non-null  object \n",
      " 8   Monthly_Inhand_Salary     42502 non-null  float64\n",
      " 9   Num_Bank_Accounts         50000 non-null  int64  \n",
      " 10  Num_Credit_Card           50000 non-null  int64  \n",
      " 11  Interest_Rate             50000 non-null  int64  \n",
      " 12  Num_of_Loan               50000 non-null  object \n",
      " 13  Type_of_Loan              44296 non-null  object \n",
      " 14  Delay_from_due_date       50000 non-null  int64  \n",
      " 15  Num_of_Delayed_Payment    46502 non-null  object \n",
      " 16  Changed_Credit_Limit      50000 non-null  object \n",
      " 17  Num_Credit_Inquiries      48965 non-null  float64\n",
      " 18  Credit_Mix                50000 non-null  object \n",
      " 19  Outstanding_Debt          50000 non-null  object \n",
      " 20  Credit_Utilization_Ratio  50000 non-null  float64\n",
      " 21  Credit_History_Age        45530 non-null  object \n",
      " 22  Payment_of_Min_Amount     50000 non-null  object \n",
      " 23  Total_EMI_per_month       50000 non-null  float64\n",
      " 24  Amount_invested_monthly   47729 non-null  object \n",
      " 25  Payment_Behaviour         50000 non-null  object \n",
      " 26  Monthly_Balance           49438 non-null  object \n",
      "dtypes: float64(4), int64(4), object(19)\n",
      "memory usage: 10.3+ MB\n"
     ]
    }
   ],
   "source": [
    "df.info() "
   ]
  },
  {
   "cell_type": "code",
   "execution_count": 9,
   "id": "9608b78d",
   "metadata": {},
   "outputs": [
    {
     "data": {
      "text/html": [
       "<div>\n",
       "<style scoped>\n",
       "    .dataframe tbody tr th:only-of-type {\n",
       "        vertical-align: middle;\n",
       "    }\n",
       "\n",
       "    .dataframe tbody tr th {\n",
       "        vertical-align: top;\n",
       "    }\n",
       "\n",
       "    .dataframe thead th {\n",
       "        text-align: right;\n",
       "    }\n",
       "</style>\n",
       "<table border=\"1\" class=\"dataframe\">\n",
       "  <thead>\n",
       "    <tr style=\"text-align: right;\">\n",
       "      <th></th>\n",
       "      <th>Monthly_Inhand_Salary</th>\n",
       "      <th>Num_Bank_Accounts</th>\n",
       "      <th>Num_Credit_Card</th>\n",
       "      <th>Interest_Rate</th>\n",
       "      <th>Delay_from_due_date</th>\n",
       "      <th>Num_Credit_Inquiries</th>\n",
       "      <th>Credit_Utilization_Ratio</th>\n",
       "      <th>Total_EMI_per_month</th>\n",
       "    </tr>\n",
       "  </thead>\n",
       "  <tbody>\n",
       "    <tr>\n",
       "      <th>count</th>\n",
       "      <td>42502.000000</td>\n",
       "      <td>50000.000000</td>\n",
       "      <td>50000.000000</td>\n",
       "      <td>50000.000000</td>\n",
       "      <td>50000.000000</td>\n",
       "      <td>48965.000000</td>\n",
       "      <td>50000.000000</td>\n",
       "      <td>50000.000000</td>\n",
       "    </tr>\n",
       "    <tr>\n",
       "      <th>mean</th>\n",
       "      <td>4182.004291</td>\n",
       "      <td>16.838260</td>\n",
       "      <td>22.921480</td>\n",
       "      <td>68.772640</td>\n",
       "      <td>21.052640</td>\n",
       "      <td>30.080200</td>\n",
       "      <td>32.279581</td>\n",
       "      <td>1491.304305</td>\n",
       "    </tr>\n",
       "    <tr>\n",
       "      <th>std</th>\n",
       "      <td>3174.109304</td>\n",
       "      <td>116.396848</td>\n",
       "      <td>129.314804</td>\n",
       "      <td>451.602363</td>\n",
       "      <td>14.860397</td>\n",
       "      <td>196.984121</td>\n",
       "      <td>5.106238</td>\n",
       "      <td>8595.647887</td>\n",
       "    </tr>\n",
       "    <tr>\n",
       "      <th>min</th>\n",
       "      <td>303.645417</td>\n",
       "      <td>-1.000000</td>\n",
       "      <td>0.000000</td>\n",
       "      <td>1.000000</td>\n",
       "      <td>-5.000000</td>\n",
       "      <td>0.000000</td>\n",
       "      <td>20.509652</td>\n",
       "      <td>0.000000</td>\n",
       "    </tr>\n",
       "    <tr>\n",
       "      <th>25%</th>\n",
       "      <td>1625.188333</td>\n",
       "      <td>3.000000</td>\n",
       "      <td>4.000000</td>\n",
       "      <td>8.000000</td>\n",
       "      <td>10.000000</td>\n",
       "      <td>4.000000</td>\n",
       "      <td>28.061040</td>\n",
       "      <td>32.222388</td>\n",
       "    </tr>\n",
       "    <tr>\n",
       "      <th>50%</th>\n",
       "      <td>3086.305000</td>\n",
       "      <td>6.000000</td>\n",
       "      <td>5.000000</td>\n",
       "      <td>13.000000</td>\n",
       "      <td>18.000000</td>\n",
       "      <td>7.000000</td>\n",
       "      <td>32.280390</td>\n",
       "      <td>74.733349</td>\n",
       "    </tr>\n",
       "    <tr>\n",
       "      <th>75%</th>\n",
       "      <td>5934.189094</td>\n",
       "      <td>7.000000</td>\n",
       "      <td>7.000000</td>\n",
       "      <td>20.000000</td>\n",
       "      <td>28.000000</td>\n",
       "      <td>10.000000</td>\n",
       "      <td>36.468591</td>\n",
       "      <td>176.157491</td>\n",
       "    </tr>\n",
       "    <tr>\n",
       "      <th>max</th>\n",
       "      <td>15204.633333</td>\n",
       "      <td>1798.000000</td>\n",
       "      <td>1499.000000</td>\n",
       "      <td>5799.000000</td>\n",
       "      <td>67.000000</td>\n",
       "      <td>2593.000000</td>\n",
       "      <td>48.540663</td>\n",
       "      <td>82398.000000</td>\n",
       "    </tr>\n",
       "  </tbody>\n",
       "</table>\n",
       "</div>"
      ],
      "text/plain": [
       "       Monthly_Inhand_Salary  Num_Bank_Accounts  Num_Credit_Card  \\\n",
       "count           42502.000000       50000.000000     50000.000000   \n",
       "mean             4182.004291          16.838260        22.921480   \n",
       "std              3174.109304         116.396848       129.314804   \n",
       "min               303.645417          -1.000000         0.000000   \n",
       "25%              1625.188333           3.000000         4.000000   \n",
       "50%              3086.305000           6.000000         5.000000   \n",
       "75%              5934.189094           7.000000         7.000000   \n",
       "max             15204.633333        1798.000000      1499.000000   \n",
       "\n",
       "       Interest_Rate  Delay_from_due_date  Num_Credit_Inquiries  \\\n",
       "count   50000.000000         50000.000000          48965.000000   \n",
       "mean       68.772640            21.052640             30.080200   \n",
       "std       451.602363            14.860397            196.984121   \n",
       "min         1.000000            -5.000000              0.000000   \n",
       "25%         8.000000            10.000000              4.000000   \n",
       "50%        13.000000            18.000000              7.000000   \n",
       "75%        20.000000            28.000000             10.000000   \n",
       "max      5799.000000            67.000000           2593.000000   \n",
       "\n",
       "       Credit_Utilization_Ratio  Total_EMI_per_month  \n",
       "count              50000.000000         50000.000000  \n",
       "mean                  32.279581          1491.304305  \n",
       "std                    5.106238          8595.647887  \n",
       "min                   20.509652             0.000000  \n",
       "25%                   28.061040            32.222388  \n",
       "50%                   32.280390            74.733349  \n",
       "75%                   36.468591           176.157491  \n",
       "max                   48.540663         82398.000000  "
      ]
     },
     "execution_count": 9,
     "metadata": {},
     "output_type": "execute_result"
    }
   ],
   "source": [
    "df.describe() #la distribution des données"
   ]
  },
  {
   "cell_type": "code",
   "execution_count": 56,
   "id": "78005757",
   "metadata": {},
   "outputs": [
    {
     "name": "stdout",
     "output_type": "stream",
     "text": [
      "0\n"
     ]
    }
   ],
   "source": [
    "print(df.duplicated().sum()) # On repère les lignes contenant des doublons"
   ]
  },
  {
   "cell_type": "code",
   "execution_count": 57,
   "id": "0afadc68",
   "metadata": {},
   "outputs": [],
   "source": [
    "df = df.dropna(axis = 0, how = 'any') # On supprime toutes les lignes contenant au moins une valeur manquante"
   ]
  },
  {
   "cell_type": "code",
   "execution_count": 61,
   "id": "a831b266",
   "metadata": {},
   "outputs": [
    {
     "data": {
      "text/plain": [
       "ID                          0\n",
       "Customer_ID                 0\n",
       "Month                       0\n",
       "Name                        0\n",
       "Age                         0\n",
       "SSN                         0\n",
       "Occupation                  0\n",
       "Annual_Income               0\n",
       "Monthly_Inhand_Salary       0\n",
       "Num_Bank_Accounts           0\n",
       "Num_Credit_Card             0\n",
       "Interest_Rate               0\n",
       "Num_of_Loan                 0\n",
       "Type_of_Loan                0\n",
       "Delay_from_due_date         0\n",
       "Num_of_Delayed_Payment      0\n",
       "Changed_Credit_Limit        0\n",
       "Num_Credit_Inquiries        0\n",
       "Credit_Mix                  0\n",
       "Outstanding_Debt            0\n",
       "Credit_Utilization_Ratio    0\n",
       "Credit_History_Age          0\n",
       "Payment_of_Min_Amount       0\n",
       "Total_EMI_per_month         0\n",
       "Amount_invested_monthly     0\n",
       "Payment_Behaviour           0\n",
       "Monthly_Balance             0\n",
       "dtype: int64"
      ]
     },
     "execution_count": 61,
     "metadata": {},
     "output_type": "execute_result"
    }
   ],
   "source": [
    "df.isna().sum(axis = 0) #les colonnes de transactions ne contiennent plus de valeurs manquantes"
   ]
  },
  {
   "cell_type": "code",
   "execution_count": 66,
   "id": "e967ac7f",
   "metadata": {},
   "outputs": [
    {
     "data": {
      "text/plain": [
       "26459"
      ]
     },
     "execution_count": 66,
     "metadata": {},
     "output_type": "execute_result"
    }
   ],
   "source": [
    "len(df['ID'].unique())#ok "
   ]
  },
  {
   "cell_type": "code",
   "execution_count": 67,
   "id": "a09ab3fc",
   "metadata": {},
   "outputs": [
    {
     "data": {
      "text/plain": [
       "10767"
      ]
     },
     "execution_count": 67,
     "metadata": {},
     "output_type": "execute_result"
    }
   ],
   "source": [
    "len(df['Customer_ID'].unique()) #nok? ok?"
   ]
  },
  {
   "cell_type": "code",
   "execution_count": 68,
   "id": "ec3ec5c0",
   "metadata": {},
   "outputs": [
    {
     "data": {
      "text/plain": [
       "array(['September', 'October', 'December', 'November'], dtype=object)"
      ]
     },
     "execution_count": 68,
     "metadata": {},
     "output_type": "execute_result"
    }
   ],
   "source": [
    "df['Month'].unique()#ok"
   ]
  },
  {
   "cell_type": "code",
   "execution_count": 69,
   "id": "7363f131",
   "metadata": {},
   "outputs": [
    {
     "data": {
      "text/plain": [
       "0          Aaron Maashoh\n",
       "1          Aaron Maashoh\n",
       "4        Rick Rothackerj\n",
       "5        Rick Rothackerj\n",
       "7        Rick Rothackerj\n",
       "              ...       \n",
       "49992     Sarah McBridec\n",
       "49993     Sarah McBridec\n",
       "49994     Sarah McBridec\n",
       "49997              Nicks\n",
       "49999              Nicks\n",
       "Name: Name, Length: 26459, dtype: object"
      ]
     },
     "execution_count": 69,
     "metadata": {},
     "output_type": "execute_result"
    }
   ],
   "source": [
    "df['Name'] #ok"
   ]
  },
  {
   "cell_type": "code",
   "execution_count": null,
   "id": "ebedbce1",
   "metadata": {},
   "outputs": [],
   "source": [
    "df['Age'].unique() # nok a traité"
   ]
  },
  {
   "cell_type": "code",
   "execution_count": 70,
   "id": "00665f50",
   "metadata": {},
   "outputs": [
    {
     "data": {
      "text/plain": [
       "0        821-00-0265\n",
       "1        821-00-0265\n",
       "4        004-07-5839\n",
       "5          #F%$D@*&8\n",
       "7        004-07-5839\n",
       "            ...     \n",
       "49992    031-35-0942\n",
       "49993    031-35-0942\n",
       "49994    031-35-0942\n",
       "49997    078-73-5990\n",
       "49999    078-73-5990\n",
       "Name: SSN, Length: 26459, dtype: object"
      ]
     },
     "execution_count": 70,
     "metadata": {},
     "output_type": "execute_result"
    }
   ],
   "source": [
    "df['SSN'] #nok '#F%$D@*&8', ...,"
   ]
  },
  {
   "cell_type": "code",
   "execution_count": 71,
   "id": "54671ea2",
   "metadata": {},
   "outputs": [
    {
     "data": {
      "text/plain": [
       "array(['Scientist', '_______', 'Teacher', 'Engineer', 'Entrepreneur',\n",
       "       'Lawyer', 'Media_Manager', 'Doctor', 'Journalist', 'Mechanic',\n",
       "       'Writer', 'Accountant', 'Architect', 'Manager', 'Musician',\n",
       "       'Developer'], dtype=object)"
      ]
     },
     "execution_count": 71,
     "metadata": {},
     "output_type": "execute_result"
    }
   ],
   "source": [
    "df['Occupation'].unique() #nok '_______'"
   ]
  },
  {
   "cell_type": "code",
   "execution_count": 72,
   "id": "b9654002",
   "metadata": {},
   "outputs": [
    {
     "data": {
      "text/plain": [
       "0        19114.12\n",
       "1        19114.12\n",
       "4        34847.84\n",
       "5        34847.84\n",
       "7        34847.84\n",
       "           ...   \n",
       "49992    20002.88\n",
       "49993    20002.88\n",
       "49994    20002.88\n",
       "49997    39628.99\n",
       "49999    39628.99\n",
       "Name: Annual_Income, Length: 26459, dtype: object"
      ]
     },
     "execution_count": 72,
     "metadata": {},
     "output_type": "execute_result"
    }
   ],
   "source": [
    "df['Annual_Income'] #nok ? dtype: object, should be Float"
   ]
  },
  {
   "cell_type": "code",
   "execution_count": 76,
   "id": "06721952",
   "metadata": {},
   "outputs": [],
   "source": [
    "df['Monthly_Inhand_Salary'] #ok Float"
   ]
  },
  {
   "cell_type": "code",
   "execution_count": 73,
   "id": "c259fda9",
   "metadata": {},
   "outputs": [],
   "source": [
    "df['Num_Bank_Accounts'].unique() #ok, Integer"
   ]
  },
  {
   "cell_type": "code",
   "execution_count": 99,
   "id": "179b4600",
   "metadata": {},
   "outputs": [
    {
     "data": {
      "text/plain": [
       "array([   4,    5,    1,    7,    6,    8,    3,  211,  182,    9,   10,\n",
       "        914,    2,  229,   11, 1365, 1289,  497,  181,  793,  517, 1084,\n",
       "        488, 1438,  784, 1279, 1036, 1196, 1446,  510, 1171,  590, 1197,\n",
       "        881,  167, 1427,  766, 1364,  513,  808,  863,  570, 1301, 1184,\n",
       "       1037,  617,  547,  591, 1274, 1465,  954,   64, 1217,  667,  930,\n",
       "        238,  554, 1499, 1271, 1266,  571, 1485, 1168,  330, 1052, 1250,\n",
       "       1096,  101,  569,  885, 1435,  265,  546,   85,  298,  258,  533,\n",
       "         51,    0,  705,  786,  217,  886,  408,  720,  633,  751,  524,\n",
       "       1348,  574,  220,  393, 1462,  712,  476, 1127,  609, 1203, 1278,\n",
       "       1323,  433, 1356,   19,  584,  455,  492,  750,  839,   54, 1392,\n",
       "        757, 1063, 1245,  144,  702,  324,   59,  332,  293,  968,  981,\n",
       "        697,  335,  725,  541,   26, 1375,  931, 1393,   30,  322,  338,\n",
       "        204, 1220, 1242,  856,  121,  366,  168, 1495, 1210,  349,  555,\n",
       "        299,   69, 1015,  199,  487,  142,   41,  883,   98,   81, 1045,\n",
       "        974,  770,  174,  829,  384,  118, 1303,  256,  377, 1093, 1312,\n",
       "       1329,  957,  877,  243,  820,  195,  724,  926,  933, 1070,  982,\n",
       "        232, 1183,  237, 1080,  660,  721, 1206, 1020, 1315, 1450,  992,\n",
       "        158,   31,  849,  715, 1498,  404,  460, 1150,  979,  392, 1156,\n",
       "        231, 1058,  355,  362,  434,  683,  910,  421,  176,  135,  285,\n",
       "        631,  147, 1405, 1261,  675,  834,  267, 1488,  897,  789,  964,\n",
       "        650,  323,  868,  778,  733, 1013,  978,  516,  911, 1055,  203,\n",
       "        367,  878, 1420,  405,  644,  788,  792, 1143, 1190,  145,  288,\n",
       "       1263,  970, 1332, 1447,  802,  889,  477,  225,  400,  273, 1359,\n",
       "        302, 1201,  333,  781, 1034,  198,  595,  760, 1133,  475,  728,\n",
       "       1066, 1436,  224, 1461,  480, 1208,  316,  128,  192,  448, 1298,\n",
       "        684,  620, 1445,  907,   75, 1240,  415,  577,  997,  681,  540,\n",
       "       1448, 1267,  704,  966,  240,   79,  922,  818, 1389,  797,  936,\n",
       "        796, 1474, 1253, 1308,   86,   96, 1071,   49, 1016,  677, 1238,\n",
       "        632,  916,  116,  638,  503,  170,  879, 1159,  457,  398, 1258,\n",
       "       1121,  732,  963,  708,  614, 1402,  122,  521, 1167,  314,  465,\n",
       "       1132,  790, 1109, 1022, 1287,  665,  127,  166,  976,   47,  816,\n",
       "       1374,   63,  924,  429, 1411, 1148,  531,  506,  313,  255,   99,\n",
       "       1032,  310,   37, 1384,  178,  468, 1180, 1095,  864, 1255,  528,\n",
       "       1126, 1089,  827,  519,  185, 1033,  647,  904,  115,  871, 1243,\n",
       "        655,  402,  719,  923,  451,  626,  381,  832, 1431, 1091, 1188,\n",
       "        304,  420,  711,  726, 1234,  205, 1221,  514,   95,  664,  807,\n",
       "         77,  222,  114,   18,  769, 1281, 1223, 1026,  950,  350,  247,\n",
       "        809, 1399, 1422,   22, 1101, 1352, 1186, 1466,  544, 1346,  903,\n",
       "       1275, 1244,  657,  164,  347,  671,  599, 1151, 1386,  654,  835,\n",
       "        777, 1041, 1219,  771, 1157,  763,  858, 1347, 1481, 1321,  873,\n",
       "        100, 1372, 1241,  813,  431,  529,   73,  119,  251,  523, 1129,\n",
       "        971,  774,  105,  729,  739,  718,  920,  745,  413,  586,  986,\n",
       "        716,  618,  197,  860,  515,  406,  843,  983,  257,  592,  689,\n",
       "        900, 1414,  481,  357,  426,   87,  163,  230,  692,  952, 1345,\n",
       "       1319, 1380,  598, 1351,  542,   66,  241,  688, 1233, 1398,  615,\n",
       "        417, 1209,  466, 1439, 1423,  955], dtype=int64)"
      ]
     },
     "execution_count": 99,
     "metadata": {},
     "output_type": "execute_result"
    }
   ],
   "source": [
    "df['Num_Credit_Card'].unique() #nok valeurs = 0, Integer"
   ]
  },
  {
   "cell_type": "code",
   "execution_count": 79,
   "id": "96e3a784",
   "metadata": {},
   "outputs": [],
   "source": [
    "df['Interest_Rate'].unique()  #ok, Integer"
   ]
  },
  {
   "cell_type": "code",
   "execution_count": 80,
   "id": "a9dd9a62",
   "metadata": {},
   "outputs": [
    {
     "data": {
      "text/plain": [
       "array(['4', '1', '3', '-100', '2', '7', '5', '6', '5_', '8', '1_', '2_',\n",
       "       '6_', '4_', '9', '965', '7_', '3_', '50', '8_', '495', '1018',\n",
       "       '1470', '9_', '481_', '617', '1237', '602', '582', '1225', '1146',\n",
       "       '286', '505', '335', '463', '864', '949', '720', '181', '1048',\n",
       "       '814', '434', '77', '639', '336', '249', '106', '1073', '1259',\n",
       "       '1365', '114', '810', '992', '1416', '1374', '746', '1487', '1147',\n",
       "       '511', '198', '1140', '876', '569', '1221', '1040', '1496', '1063',\n",
       "       '1428', '1361', '232', '653', '1448', '523', '426', '1068', '486',\n",
       "       '1027', '359', '1108', '1471', '628', '1284', '1446', '35', '483',\n",
       "       '928', '838', '1109', '1300', '1292', '547', '1385', '950', '1153',\n",
       "       '539', '1240', '376', '1481', '1287', '325', '72_', '1024', '220',\n",
       "       '478', '551', '1231', '1244', '140', '1329', '255', '326', '99',\n",
       "       '1149', '142', '641', '97', '295', '1444', '790', '624', '659',\n",
       "       '361', '813', '1095', '508', '879', '1373', '615', '1445', '612',\n",
       "       '324', '531', '339', '1057', '343', '395', '1175', '663', '135',\n",
       "       '910', '1447', '354', '477', '544', '204', '1369', '656', '534',\n",
       "       '1292_', '1436', '939', '172', '1296_'], dtype=object)"
      ]
     },
     "execution_count": 80,
     "metadata": {},
     "output_type": "execute_result"
    }
   ],
   "source": [
    "df['Num_of_Loan'].unique() #nok valeurs = '__'"
   ]
  },
  {
   "cell_type": "code",
   "execution_count": 82,
   "id": "1e9cfa19",
   "metadata": {},
   "outputs": [
    {
     "data": {
      "text/plain": [
       "0        Auto Loan, Credit-Builder Loan, Personal Loan,...\n",
       "1        Auto Loan, Credit-Builder Loan, Personal Loan,...\n",
       "4                                      Credit-Builder Loan\n",
       "5                                      Credit-Builder Loan\n",
       "7                                      Credit-Builder Loan\n",
       "                               ...                        \n",
       "49992    Personal Loan, Auto Loan, Mortgage Loan, Stude...\n",
       "49993    Personal Loan, Auto Loan, Mortgage Loan, Stude...\n",
       "49994    Personal Loan, Auto Loan, Mortgage Loan, Stude...\n",
       "49997                          Auto Loan, and Student Loan\n",
       "49999                          Auto Loan, and Student Loan\n",
       "Name: Type_of_Loan, Length: 26459, dtype: object"
      ]
     },
     "execution_count": 82,
     "metadata": {},
     "output_type": "execute_result"
    }
   ],
   "source": [
    "df['Type_of_Loan'] #ok, String"
   ]
  },
  {
   "cell_type": "code",
   "execution_count": 83,
   "id": "e8fdd7d1",
   "metadata": {},
   "outputs": [
    {
     "data": {
      "text/plain": [
       "array([ 3,  6,  5,  0, 30, 11,  2, 16,  4, 10, 23,  8,  9, 51, 45, 48, 25,\n",
       "       43, 22, 49, 55, 52, 61, 59, 31, 27, 18, 15, 53, 14, 12, 17,  7, 50,\n",
       "       44, 13, 34, 54, 20, 28, 57, 62, 24, 56, 41, 37, 19, 29,  1, 64, 36,\n",
       "       42, 60, 21, 33, 26, 38, 32, 35, 40, 46, 47, -1, 39, 66, -4, 58, -2,\n",
       "       -3, 65, 63, -5, 67], dtype=int64)"
      ]
     },
     "execution_count": 83,
     "metadata": {},
     "output_type": "execute_result"
    }
   ],
   "source": [
    "df['Delay_from_due_date'].unique() #negative values, could be?"
   ]
  },
  {
   "cell_type": "code",
   "execution_count": 84,
   "id": "ff20e2ba",
   "metadata": {},
   "outputs": [
    {
     "data": {
      "text/plain": [
       "array(['7', '9', '1', '3', '2_', '6', '8', '14', '12', '0', '19', '20',\n",
       "       '2', '10', '13', '15', '1150', '18', '23', '21', '17', '22', '11',\n",
       "       '5', '16', '11_', '15_', '4', '24', '10_', '9_', '25_', '17_',\n",
       "       '0_', '429', '12_', '20_', '-2', '-1', '2806', '25', '2465',\n",
       "       '4246', '1186', '75', '16_', '18_', '7_', '1134', '27', '26',\n",
       "       '1230', '4318', '1_', '28', '1216', '24_', '3667', '420', '2606',\n",
       "       '959', '14_', '22_', '19_', '1122', '21_', '3178', '-3', '13_',\n",
       "       '3398', '-2_', '1486', '8_', '5_', '586', '873', '2801', '4_',\n",
       "       '2503_', '3954', '376', '2354', '4343', '2279', '391', '1334',\n",
       "       '6_', '1958', '2608', '1274', '452', '227_', '26_', '2161', '377',\n",
       "       '762', '4161', '1544', '975_', '211', '518', '657', '3477', '370',\n",
       "       '1534', '1080', '23_', '3057', '1065', '2819', '-3_', '1329', '3_',\n",
       "       '-1_', '2273', '1266', '3684', '1802', '1880', '181', '3591',\n",
       "       '1356', '2672', '2001', '4298', '590', '1095', '1562', '100',\n",
       "       '3177', '2276', '4335', '2822', '832', '3529', '2942', '2802',\n",
       "       '3393', '288', '2424', '345', '2269', '179', '1513', '4118',\n",
       "       '3071', '700', '2836', '434', '2649', '1891', '2999', '2344_',\n",
       "       '1437', '3898', '2568', '1633', '2431', '538', '864', '1297',\n",
       "       '414', '4044', '427', '961', '952', '1571', '3863', '1832', '3425',\n",
       "       '1069', '1959', '1990', '1166', '3565_', '2595', '2873', '599',\n",
       "       '2286', '2018', '3589', '292', '2767', '1246', '652', '3744',\n",
       "       '3229', '3520', '1014', '707', '2392', '817', '2148_', '297',\n",
       "       '806', '3161', '1630', '2902', '4088', '2885', '1149', '1312',\n",
       "       '2055_', '861', '3803', '2464', '3064', '1761', '4133', '3392_',\n",
       "       '358', '2368', '2570', '3032', '828', '238', '3807', '1169',\n",
       "       '1703', '2287', '688', '2348', '4214', '4026', '726', '3099',\n",
       "       '2748', '2704', '2538', '3535', '1055', '1265', '1968', '3630',\n",
       "       '1290', '1833', '2123', '1888', '502', '459', '2170', '2407',\n",
       "       '3642', '4270', '3608', '1289', '2953', '3757', '2052', '4141',\n",
       "       '883', '3794', '2410', '1514', '3633', '989', '3971', '3920',\n",
       "       '1634', '481_', '97_', '225', '2346', '4313', '1889', '3622',\n",
       "       '1779', '1619', '3406', '3594', '272', '3313', '3637', '174',\n",
       "       '3240', '2450', '1970', '3913', '332', '2034'], dtype=object)"
      ]
     },
     "execution_count": 84,
     "metadata": {},
     "output_type": "execute_result"
    }
   ],
   "source": [
    "df['Num_of_Delayed_Payment'].unique() #negative values, underscore values"
   ]
  },
  {
   "cell_type": "code",
   "execution_count": 85,
   "id": "1c5e1955",
   "metadata": {},
   "outputs": [
    {
     "data": {
      "text/plain": [
       "array(['11.27', '13.27', '5.42', ..., '32.16', '25.16', '13.39'],\n",
       "      dtype=object)"
      ]
     },
     "execution_count": 85,
     "metadata": {},
     "output_type": "execute_result"
    }
   ],
   "source": [
    "df['Changed_Credit_Limit'].unique() #nok object should be Float"
   ]
  },
  {
   "cell_type": "code",
   "execution_count": 87,
   "id": "3c257e66",
   "metadata": {},
   "outputs": [
    {
     "data": {
      "text/plain": [
       "0        2022.0\n",
       "1           4.0\n",
       "4           5.0\n",
       "5           5.0\n",
       "7           5.0\n",
       "          ...  \n",
       "49992       9.0\n",
       "49993      12.0\n",
       "49994      12.0\n",
       "49997       7.0\n",
       "49999       7.0\n",
       "Name: Num_Credit_Inquiries, Length: 26459, dtype: float64"
      ]
     },
     "execution_count": 87,
     "metadata": {},
     "output_type": "execute_result"
    }
   ],
   "source": [
    "df['Num_Credit_Inquiries'] #ok Float"
   ]
  },
  {
   "cell_type": "code",
   "execution_count": 88,
   "id": "3edd1d71",
   "metadata": {},
   "outputs": [
    {
     "data": {
      "text/plain": [
       "array(['Good', '_', 'Standard', 'Bad'], dtype=object)"
      ]
     },
     "execution_count": 88,
     "metadata": {},
     "output_type": "execute_result"
    }
   ],
   "source": [
    "df['Credit_Mix'].unique() #nok '_'"
   ]
  },
  {
   "cell_type": "code",
   "execution_count": 89,
   "id": "2f0512b2",
   "metadata": {},
   "outputs": [
    {
     "data": {
      "text/plain": [
       "array(['809.98', '605.03', '1303.01', ..., '620.64', '3571.7', '502.38'],\n",
       "      dtype=object)"
      ]
     },
     "execution_count": 89,
     "metadata": {},
     "output_type": "execute_result"
    }
   ],
   "source": [
    "df['Outstanding_Debt'].unique() #nok object should be Float"
   ]
  },
  {
   "cell_type": "code",
   "execution_count": 91,
   "id": "94433e92",
   "metadata": {},
   "outputs": [
    {
     "data": {
      "text/plain": [
       "0        35.030402\n",
       "1        33.053114\n",
       "4        25.926822\n",
       "5        30.116600\n",
       "7        33.875167\n",
       "           ...    \n",
       "49992    32.391288\n",
       "49993    37.528511\n",
       "49994    27.027812\n",
       "49997    36.858542\n",
       "49999    34.108530\n",
       "Name: Credit_Utilization_Ratio, Length: 26459, dtype: float64"
      ]
     },
     "execution_count": 91,
     "metadata": {},
     "output_type": "execute_result"
    }
   ],
   "source": [
    "df['Credit_Utilization_Ratio'] #ok Float"
   ]
  },
  {
   "cell_type": "code",
   "execution_count": 92,
   "id": "69ae178c",
   "metadata": {},
   "outputs": [
    {
     "data": {
      "text/plain": [
       "array(['22 Years and 9 Months', '22 Years and 10 Months',\n",
       "       '27 Years and 3 Months', '27 Years and 4 Months',\n",
       "       '27 Years and 6 Months', '18 Years and 6 Months',\n",
       "       '17 Years and 11 Months', '18 Years and 0 Months',\n",
       "       '18 Years and 1 Months', '18 Years and 2 Months',\n",
       "       '31 Years and 4 Months', '31 Years and 5 Months',\n",
       "       '15 Years and 3 Months', '15 Years and 6 Months',\n",
       "       '22 Years and 0 Months', '22 Years and 1 Months',\n",
       "       '27 Years and 1 Months', '27 Years and 2 Months',\n",
       "       '19 Years and 10 Months', '20 Years and 0 Months',\n",
       "       '26 Years and 2 Months', '27 Years and 7 Months',\n",
       "       '9 Years and 8 Months', '18 Years and 11 Months',\n",
       "       '19 Years and 0 Months', '19 Years and 1 Months',\n",
       "       '17 Years and 6 Months', '17 Years and 8 Months',\n",
       "       '17 Years and 9 Months', '7 Years and 1 Months',\n",
       "       '7 Years and 3 Months', '18 Years and 10 Months',\n",
       "       '10 Years and 9 Months', '10 Years and 10 Months',\n",
       "       '10 Years and 11 Months', '11 Years and 0 Months',\n",
       "       '12 Years and 11 Months', '13 Years and 0 Months',\n",
       "       '13 Years and 1 Months', '18 Years and 8 Months',\n",
       "       '18 Years and 9 Months', '14 Years and 4 Months',\n",
       "       '14 Years and 5 Months', '14 Years and 6 Months',\n",
       "       '14 Years and 7 Months', '20 Years and 1 Months',\n",
       "       '30 Years and 11 Months', '31 Years and 1 Months',\n",
       "       '31 Years and 2 Months', '9 Years and 4 Months',\n",
       "       '9 Years and 6 Months', '19 Years and 5 Months',\n",
       "       '19 Years and 7 Months', '19 Years and 8 Months',\n",
       "       '9 Years and 5 Months', '9 Years and 7 Months',\n",
       "       '13 Years and 9 Months', '13 Years and 10 Months',\n",
       "       '13 Years and 11 Months', '22 Years and 2 Months',\n",
       "       '22 Years and 4 Months', '26 Years and 3 Months',\n",
       "       '26 Years and 4 Months', '14 Years and 0 Months',\n",
       "       '28 Years and 8 Months', '28 Years and 10 Months',\n",
       "       '8 Years and 7 Months', '8 Years and 8 Months',\n",
       "       '8 Years and 9 Months', '24 Years and 11 Months',\n",
       "       '25 Years and 0 Months', '25 Years and 1 Months',\n",
       "       '25 Years and 2 Months', '1 Years and 10 Months',\n",
       "       '2 Years and 0 Months', '2 Years and 1 Months',\n",
       "       '11 Years and 7 Months', '11 Years and 8 Months',\n",
       "       '11 Years and 9 Months', '11 Years and 10 Months',\n",
       "       '31 Years and 3 Months', '31 Years and 6 Months',\n",
       "       '11 Years and 1 Months', '11 Years and 2 Months',\n",
       "       '11 Years and 3 Months', '11 Years and 4 Months',\n",
       "       '14 Years and 9 Months', '21 Years and 4 Months',\n",
       "       '21 Years and 7 Months', '1 Years and 1 Months',\n",
       "       '1 Years and 2 Months', '32 Years and 5 Months',\n",
       "       '32 Years and 6 Months', '17 Years and 7 Months',\n",
       "       '13 Years and 2 Months', '13 Years and 3 Months',\n",
       "       '13 Years and 4 Months', '13 Years and 6 Months',\n",
       "       '12 Years and 3 Months', '25 Years and 4 Months',\n",
       "       '25 Years and 5 Months', '25 Years and 7 Months',\n",
       "       '13 Years and 5 Months', '19 Years and 9 Months',\n",
       "       '19 Years and 11 Months', '31 Years and 9 Months',\n",
       "       '32 Years and 0 Months', '5 Years and 10 Months',\n",
       "       '5 Years and 11 Months', '6 Years and 0 Months',\n",
       "       '6 Years and 1 Months', '3 Years and 9 Months',\n",
       "       '3 Years and 10 Months', '17 Years and 1 Months',\n",
       "       '17 Years and 2 Months', '17 Years and 3 Months',\n",
       "       '23 Years and 7 Months', '23 Years and 8 Months',\n",
       "       '23 Years and 10 Months', '9 Years and 2 Months',\n",
       "       '9 Years and 3 Months', '31 Years and 7 Months',\n",
       "       '5 Years and 1 Months', '5 Years and 2 Months',\n",
       "       '5 Years and 4 Months', '33 Years and 6 Months',\n",
       "       '33 Years and 7 Months', '12 Years and 10 Months',\n",
       "       '17 Years and 10 Months', '13 Years and 7 Months',\n",
       "       '13 Years and 8 Months', '30 Years and 5 Months',\n",
       "       '26 Years and 5 Months', '33 Years and 8 Months',\n",
       "       '33 Years and 9 Months', '26 Years and 10 Months',\n",
       "       '27 Years and 0 Months', '18 Years and 5 Months',\n",
       "       '8 Years and 1 Months', '8 Years and 2 Months',\n",
       "       '12 Years and 1 Months', '29 Years and 0 Months',\n",
       "       '29 Years and 1 Months', '29 Years and 2 Months',\n",
       "       '29 Years and 11 Months', '30 Years and 1 Months',\n",
       "       '31 Years and 0 Months', '14 Years and 1 Months',\n",
       "       '14 Years and 2 Months', '2 Years and 2 Months',\n",
       "       '2 Years and 3 Months', '33 Years and 11 Months',\n",
       "       '26 Years and 8 Months', '29 Years and 5 Months',\n",
       "       '29 Years and 6 Months', '29 Years and 7 Months',\n",
       "       '29 Years and 8 Months', '5 Years and 5 Months',\n",
       "       '5 Years and 6 Months', '32 Years and 3 Months',\n",
       "       '33 Years and 5 Months', '6 Years and 7 Months',\n",
       "       '6 Years and 8 Months', '17 Years and 0 Months',\n",
       "       '22 Years and 5 Months', '22 Years and 6 Months',\n",
       "       '20 Years and 10 Months', '20 Years and 11 Months',\n",
       "       '21 Years and 1 Months', '21 Years and 0 Months',\n",
       "       '21 Years and 2 Months', '3 Years and 0 Months',\n",
       "       '3 Years and 1 Months', '3 Years and 2 Months',\n",
       "       '2 Years and 4 Months', '16 Years and 0 Months',\n",
       "       '16 Years and 2 Months', '16 Years and 3 Months',\n",
       "       '16 Years and 11 Months', '31 Years and 8 Months',\n",
       "       '9 Years and 10 Months', '9 Years and 11 Months',\n",
       "       '10 Years and 0 Months', '10 Years and 1 Months',\n",
       "       '27 Years and 9 Months', '28 Years and 0 Months',\n",
       "       '28 Years and 6 Months', '28 Years and 7 Months',\n",
       "       '19 Years and 2 Months', '19 Years and 3 Months',\n",
       "       '25 Years and 3 Months', '8 Years and 10 Months',\n",
       "       '6 Years and 3 Months', '6 Years and 4 Months',\n",
       "       '17 Years and 4 Months', '17 Years and 5 Months',\n",
       "       '27 Years and 5 Months', '12 Years and 5 Months',\n",
       "       '12 Years and 6 Months', '12 Years and 7 Months',\n",
       "       '12 Years and 8 Months', '26 Years and 7 Months',\n",
       "       '32 Years and 2 Months', '23 Years and 5 Months',\n",
       "       '16 Years and 7 Months', '16 Years and 8 Months',\n",
       "       '16 Years and 9 Months', '18 Years and 7 Months',\n",
       "       '31 Years and 10 Months', '15 Years and 2 Months',\n",
       "       '15 Years and 4 Months', '16 Years and 6 Months',\n",
       "       '23 Years and 1 Months', '23 Years and 3 Months',\n",
       "       '23 Years and 9 Months', '23 Years and 11 Months',\n",
       "       '24 Years and 0 Months', '8 Years and 11 Months',\n",
       "       '9 Years and 0 Months', '9 Years and 9 Months',\n",
       "       '6 Years and 5 Months', '19 Years and 6 Months',\n",
       "       '25 Years and 9 Months', '20 Years and 2 Months',\n",
       "       '20 Years and 3 Months', '26 Years and 0 Months',\n",
       "       '15 Years and 11 Months', '16 Years and 1 Months',\n",
       "       '19 Years and 4 Months', '28 Years and 4 Months',\n",
       "       '28 Years and 5 Months', '32 Years and 7 Months',\n",
       "       '32 Years and 8 Months', '32 Years and 9 Months',\n",
       "       '32 Years and 10 Months', '7 Years and 7 Months',\n",
       "       '7 Years and 8 Months', '7 Years and 9 Months',\n",
       "       '16 Years and 4 Months', '16 Years and 5 Months',\n",
       "       '21 Years and 11 Months', '26 Years and 9 Months',\n",
       "       '26 Years and 11 Months', '15 Years and 5 Months',\n",
       "       '15 Years and 7 Months', '15 Years and 8 Months',\n",
       "       '15 Years and 9 Months', '21 Years and 9 Months',\n",
       "       '21 Years and 10 Months', '30 Years and 7 Months',\n",
       "       '30 Years and 9 Months', '7 Years and 11 Months',\n",
       "       '8 Years and 0 Months', '33 Years and 4 Months',\n",
       "       '22 Years and 11 Months', '23 Years and 0 Months',\n",
       "       '26 Years and 6 Months', '28 Years and 9 Months',\n",
       "       '10 Years and 5 Months', '10 Years and 8 Months',\n",
       "       '14 Years and 8 Months', '29 Years and 3 Months',\n",
       "       '29 Years and 4 Months', '2 Years and 11 Months',\n",
       "       '6 Years and 2 Months', '24 Years and 4 Months',\n",
       "       '24 Years and 6 Months', '24 Years and 7 Months',\n",
       "       '3 Years and 4 Months', '3 Years and 7 Months',\n",
       "       '15 Years and 0 Months', '10 Years and 2 Months',\n",
       "       '29 Years and 10 Months', '30 Years and 0 Months',\n",
       "       '12 Years and 2 Months', '23 Years and 2 Months',\n",
       "       '18 Years and 3 Months', '16 Years and 10 Months',\n",
       "       '8 Years and 3 Months', '8 Years and 4 Months',\n",
       "       '8 Years and 5 Months', '8 Years and 6 Months',\n",
       "       '24 Years and 3 Months', '24 Years and 5 Months',\n",
       "       '20 Years and 5 Months', '28 Years and 1 Months',\n",
       "       '6 Years and 9 Months', '6 Years and 10 Months',\n",
       "       '14 Years and 3 Months', '9 Years and 1 Months',\n",
       "       '25 Years and 8 Months', '25 Years and 10 Months',\n",
       "       '27 Years and 8 Months', '30 Years and 2 Months',\n",
       "       '28 Years and 11 Months', '30 Years and 3 Months',\n",
       "       '0 Years and 10 Months', '11 Years and 6 Months',\n",
       "       '7 Years and 10 Months', '22 Years and 3 Months',\n",
       "       '33 Years and 0 Months', '30 Years and 8 Months',\n",
       "       '23 Years and 4 Months', '3 Years and 11 Months',\n",
       "       '4 Years and 0 Months', '4 Years and 1 Months',\n",
       "       '26 Years and 1 Months', '7 Years and 0 Months',\n",
       "       '20 Years and 6 Months', '20 Years and 7 Months',\n",
       "       '20 Years and 8 Months', '11 Years and 5 Months',\n",
       "       '12 Years and 9 Months', '11 Years and 11 Months',\n",
       "       '12 Years and 0 Months', '14 Years and 11 Months',\n",
       "       '15 Years and 1 Months', '22 Years and 7 Months',\n",
       "       '22 Years and 8 Months', '18 Years and 4 Months',\n",
       "       '21 Years and 8 Months', '1 Years and 6 Months',\n",
       "       '1 Years and 7 Months', '24 Years and 9 Months',\n",
       "       '24 Years and 10 Months', '25 Years and 6 Months',\n",
       "       '28 Years and 3 Months', '25 Years and 11 Months',\n",
       "       '5 Years and 0 Months', '5 Years and 3 Months',\n",
       "       '7 Years and 2 Months', '7 Years and 4 Months',\n",
       "       '31 Years and 11 Months', '32 Years and 1 Months',\n",
       "       '4 Years and 7 Months', '4 Years and 10 Months',\n",
       "       '20 Years and 4 Months', '7 Years and 6 Months',\n",
       "       '12 Years and 4 Months', '27 Years and 11 Months',\n",
       "       '28 Years and 2 Months', '21 Years and 6 Months',\n",
       "       '23 Years and 6 Months', '2 Years and 7 Months',\n",
       "       '10 Years and 4 Months', '10 Years and 6 Months',\n",
       "       '10 Years and 7 Months', '2 Years and 5 Months',\n",
       "       '2 Years and 8 Months', '30 Years and 4 Months',\n",
       "       '30 Years and 6 Months', '29 Years and 9 Months',\n",
       "       '33 Years and 10 Months', '6 Years and 6 Months',\n",
       "       '2 Years and 6 Months', '21 Years and 3 Months',\n",
       "       '32 Years and 11 Months', '20 Years and 9 Months',\n",
       "       '5 Years and 9 Months', '15 Years and 10 Months',\n",
       "       '21 Years and 5 Months', '10 Years and 3 Months',\n",
       "       '14 Years and 10 Months', '1 Years and 11 Months',\n",
       "       '33 Years and 1 Months', '33 Years and 2 Months',\n",
       "       '1 Years and 3 Months', '1 Years and 5 Months',\n",
       "       '27 Years and 10 Months', '24 Years and 8 Months',\n",
       "       '32 Years and 4 Months', '30 Years and 10 Months',\n",
       "       '4 Years and 3 Months', '24 Years and 1 Months',\n",
       "       '24 Years and 2 Months', '1 Years and 9 Months',\n",
       "       '5 Years and 8 Months', '2 Years and 10 Months',\n",
       "       '3 Years and 3 Months', '1 Years and 8 Months',\n",
       "       '4 Years and 4 Months', '4 Years and 5 Months',\n",
       "       '2 Years and 9 Months', '6 Years and 11 Months',\n",
       "       '1 Years and 4 Months', '0 Years and 11 Months',\n",
       "       '4 Years and 9 Months', '4 Years and 11 Months',\n",
       "       '1 Years and 0 Months', '3 Years and 5 Months',\n",
       "       '3 Years and 6 Months', '33 Years and 3 Months',\n",
       "       '3 Years and 8 Months', '7 Years and 5 Months',\n",
       "       '5 Years and 7 Months', '4 Years and 2 Months',\n",
       "       '4 Years and 6 Months', '4 Years and 8 Months',\n",
       "       '34 Years and 0 Months'], dtype=object)"
      ]
     },
     "execution_count": 92,
     "metadata": {},
     "output_type": "execute_result"
    }
   ],
   "source": [
    "df['Credit_History_Age'].unique() # need to trasforme"
   ]
  },
  {
   "cell_type": "code",
   "execution_count": 93,
   "id": "9ea24d4c",
   "metadata": {},
   "outputs": [
    {
     "data": {
      "text/plain": [
       "array(['No', 'NM', 'Yes'], dtype=object)"
      ]
     },
     "execution_count": 93,
     "metadata": {},
     "output_type": "execute_result"
    }
   ],
   "source": [
    "df['Payment_of_Min_Amount'].unique() #nok need to trasforme'NM'-->'No'"
   ]
  },
  {
   "cell_type": "code",
   "execution_count": 95,
   "id": "64d778f2",
   "metadata": {},
   "outputs": [
    {
     "data": {
      "text/plain": [
       "0        49.574949\n",
       "1        49.574949\n",
       "4        18.816215\n",
       "5        18.816215\n",
       "7        18.816215\n",
       "           ...    \n",
       "49992    60.964772\n",
       "49993    60.964772\n",
       "49994    60.964772\n",
       "49997    35.104023\n",
       "49999    35.104023\n",
       "Name: Total_EMI_per_month, Length: 26459, dtype: float64"
      ]
     },
     "execution_count": 95,
     "metadata": {},
     "output_type": "execute_result"
    }
   ],
   "source": [
    "df['Total_EMI_per_month'] #ok Float"
   ]
  },
  {
   "cell_type": "code",
   "execution_count": 96,
   "id": "f804f5cc",
   "metadata": {},
   "outputs": [
    {
     "data": {
      "text/plain": [
       "array(['236.64268203272135', '21.465380264657146', '39.684018417945296',\n",
       "       ..., '71.79442082882734', '50.84684680498023',\n",
       "       '220.45787812168732'], dtype=object)"
      ]
     },
     "execution_count": 96,
     "metadata": {},
     "output_type": "execute_result"
    }
   ],
   "source": [
    "df['Amount_invested_monthly'].unique() #nok trasforme '236.64268203272135' -> 236.64268203272135"
   ]
  },
  {
   "cell_type": "code",
   "execution_count": 97,
   "id": "a04cb09d",
   "metadata": {},
   "outputs": [
    {
     "data": {
      "text/plain": [
       "array(['Low_spent_Small_value_payments',\n",
       "       'High_spent_Medium_value_payments',\n",
       "       'High_spent_Large_value_payments',\n",
       "       'Low_spent_Large_value_payments', '!@9#%8',\n",
       "       'Low_spent_Medium_value_payments',\n",
       "       'High_spent_Small_value_payments'], dtype=object)"
      ]
     },
     "execution_count": 97,
     "metadata": {},
     "output_type": "execute_result"
    }
   ],
   "source": [
    "df['Payment_Behaviour'].unique() #nok '!@9#%8'"
   ]
  },
  {
   "cell_type": "code",
   "execution_count": 98,
   "id": "f4b14589",
   "metadata": {},
   "outputs": [
    {
     "data": {
      "text/plain": [
       "array(['186.26670208571772', '361.44400385378196', '485.2984336755923',\n",
       "       ..., '341.179047488264', '349.7263321025098', '360.37968260123847'],\n",
       "      dtype=object)"
      ]
     },
     "execution_count": 98,
     "metadata": {},
     "output_type": "execute_result"
    }
   ],
   "source": [
    "df['Monthly_Balance'].unique() #nok trasforme '236.64268203272135' -> 236.64268203272135"
   ]
  },
  {
   "cell_type": "code",
   "execution_count": null,
   "id": "6fef52b2",
   "metadata": {},
   "outputs": [],
   "source": [
    "\n"
   ]
  },
  {
   "cell_type": "code",
   "execution_count": null,
   "id": "46a64813",
   "metadata": {},
   "outputs": [],
   "source": []
  }
 ],
 "metadata": {
  "kernelspec": {
   "display_name": "Python 3 (ipykernel)",
   "language": "python",
   "name": "python3"
  },
  "language_info": {
   "codemirror_mode": {
    "name": "ipython",
    "version": 3
   },
   "file_extension": ".py",
   "mimetype": "text/x-python",
   "name": "python",
   "nbconvert_exporter": "python",
   "pygments_lexer": "ipython3",
   "version": "3.9.12"
  }
 },
 "nbformat": 4,
 "nbformat_minor": 5
}
