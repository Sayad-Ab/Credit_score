{
 "cells": [
  {
   "cell_type": "markdown",
   "id": "79e6a2b4",
   "metadata": {},
   "source": [
    "\n",
    "**<h1><span style=\"color:red\"><u>Credit score calculations</u></span></h1>**\n",
    "**Datascientest**"
   ]
  },
  {
   "cell_type": "markdown",
   "id": "f64ac77f",
   "metadata": {},
   "source": [
    "### <span style=\"color:yellow\"> 0. Importation des librairies</span> "
   ]
  },
  {
   "cell_type": "code",
   "execution_count": 100,
   "id": "c2a73f16",
   "metadata": {},
   "outputs": [],
   "source": [
    "import pandas as pd"
   ]
  },
  {
   "cell_type": "markdown",
   "id": "f3a495b5",
   "metadata": {},
   "source": [
    "## <span style=\"color:red\"> I. Audit des données</span> "
   ]
  },
  {
   "cell_type": "code",
   "execution_count": 164,
   "id": "f6f15aa3",
   "metadata": {
    "scrolled": true
   },
   "outputs": [
    {
     "name": "stdout",
     "output_type": "stream",
     "text": [
      "       ID Customer_ID      Month             Name  Age          SSN  \\\n",
      "0  0x160a   CUS_0xd40  September    Aaron Maashoh   23  821-00-0265   \n",
      "1  0x160b   CUS_0xd40    October    Aaron Maashoh   24  821-00-0265   \n",
      "2  0x160c   CUS_0xd40   November    Aaron Maashoh   24  821-00-0265   \n",
      "3  0x160d   CUS_0xd40   December    Aaron Maashoh  24_  821-00-0265   \n",
      "4  0x1616  CUS_0x21b1  September  Rick Rothackerj   28  004-07-5839   \n",
      "\n",
      "  Occupation Annual_Income  Monthly_Inhand_Salary  Num_Bank_Accounts  ...  \\\n",
      "0  Scientist      19114.12            1824.843333                  3  ...   \n",
      "1  Scientist      19114.12            1824.843333                  3  ...   \n",
      "2  Scientist      19114.12            1824.843333                  3  ...   \n",
      "3  Scientist      19114.12                    NaN                  3  ...   \n",
      "4    _______      34847.84            3037.986667                  2  ...   \n",
      "\n",
      "   Num_Credit_Inquiries  Credit_Mix Outstanding_Debt Credit_Utilization_Ratio  \\\n",
      "0                2022.0        Good           809.98                35.030402   \n",
      "1                   4.0        Good           809.98                33.053114   \n",
      "2                   4.0        Good           809.98                33.811894   \n",
      "3                   4.0        Good           809.98                32.430559   \n",
      "4                   5.0        Good           605.03                25.926822   \n",
      "\n",
      "       Credit_History_Age Payment_of_Min_Amount Total_EMI_per_month  \\\n",
      "0   22 Years and 9 Months                    No           49.574949   \n",
      "1  22 Years and 10 Months                    No           49.574949   \n",
      "2                     NaN                    No           49.574949   \n",
      "3   23 Years and 0 Months                    No           49.574949   \n",
      "4   27 Years and 3 Months                    No           18.816215   \n",
      "\n",
      "   Amount_invested_monthly                 Payment_Behaviour  \\\n",
      "0       236.64268203272135    Low_spent_Small_value_payments   \n",
      "1       21.465380264657146  High_spent_Medium_value_payments   \n",
      "2       148.23393788500925   Low_spent_Medium_value_payments   \n",
      "3        39.08251089460281  High_spent_Medium_value_payments   \n",
      "4       39.684018417945296   High_spent_Large_value_payments   \n",
      "\n",
      "      Monthly_Balance  \n",
      "0  186.26670208571772  \n",
      "1  361.44400385378196  \n",
      "2  264.67544623342997  \n",
      "3  343.82687322383634  \n",
      "4   485.2984336755923  \n",
      "\n",
      "[5 rows x 27 columns]\n"
     ]
    }
   ],
   "source": [
    "df = pd.read_csv(filepath_or_buffer = 'test.csv',\n",
    "                           sep = ',',\n",
    "                           header = 0)\n",
    "\n",
    "#print(df.columns)\n",
    "print(df.head())"
   ]
  },
  {
   "cell_type": "code",
   "execution_count": 102,
   "id": "5a75dcee",
   "metadata": {},
   "outputs": [
    {
     "data": {
      "text/plain": [
       "ID                             0\n",
       "Customer_ID                    0\n",
       "Month                          0\n",
       "Name                        5015\n",
       "Age                            0\n",
       "SSN                            0\n",
       "Occupation                     0\n",
       "Annual_Income                  0\n",
       "Monthly_Inhand_Salary       7498\n",
       "Num_Bank_Accounts              0\n",
       "Num_Credit_Card                0\n",
       "Interest_Rate                  0\n",
       "Num_of_Loan                    0\n",
       "Type_of_Loan                5704\n",
       "Delay_from_due_date            0\n",
       "Num_of_Delayed_Payment      3498\n",
       "Changed_Credit_Limit           0\n",
       "Num_Credit_Inquiries        1035\n",
       "Credit_Mix                     0\n",
       "Outstanding_Debt               0\n",
       "Credit_Utilization_Ratio       0\n",
       "Credit_History_Age          4470\n",
       "Payment_of_Min_Amount          0\n",
       "Total_EMI_per_month            0\n",
       "Amount_invested_monthly     2271\n",
       "Payment_Behaviour              0\n",
       "Monthly_Balance              562\n",
       "dtype: int64"
      ]
     },
     "execution_count": 102,
     "metadata": {},
     "output_type": "execute_result"
    }
   ],
   "source": [
    "df.isna().sum()"
   ]
  },
  {
   "cell_type": "code",
   "execution_count": 103,
   "id": "cda08c2e",
   "metadata": {},
   "outputs": [
    {
     "data": {
      "text/plain": [
       "(50000, 27)"
      ]
     },
     "execution_count": 103,
     "metadata": {},
     "output_type": "execute_result"
    }
   ],
   "source": [
    "df.shape"
   ]
  },
  {
   "cell_type": "code",
   "execution_count": 15,
   "id": "59a823b6",
   "metadata": {},
   "outputs": [
    {
     "name": "stdout",
     "output_type": "stream",
     "text": [
      "<class 'pandas.core.frame.DataFrame'>\n",
      "RangeIndex: 50000 entries, 0 to 49999\n",
      "Data columns (total 27 columns):\n",
      " #   Column                    Non-Null Count  Dtype  \n",
      "---  ------                    --------------  -----  \n",
      " 0   ID                        50000 non-null  object \n",
      " 1   Customer_ID               50000 non-null  object \n",
      " 2   Month                     50000 non-null  object \n",
      " 3   Name                      44985 non-null  object \n",
      " 4   Age                       50000 non-null  object \n",
      " 5   SSN                       50000 non-null  object \n",
      " 6   Occupation                50000 non-null  object \n",
      " 7   Annual_Income             50000 non-null  object \n",
      " 8   Monthly_Inhand_Salary     42502 non-null  float64\n",
      " 9   Num_Bank_Accounts         50000 non-null  int64  \n",
      " 10  Num_Credit_Card           50000 non-null  int64  \n",
      " 11  Interest_Rate             50000 non-null  int64  \n",
      " 12  Num_of_Loan               50000 non-null  object \n",
      " 13  Type_of_Loan              44296 non-null  object \n",
      " 14  Delay_from_due_date       50000 non-null  int64  \n",
      " 15  Num_of_Delayed_Payment    46502 non-null  object \n",
      " 16  Changed_Credit_Limit      50000 non-null  object \n",
      " 17  Num_Credit_Inquiries      48965 non-null  float64\n",
      " 18  Credit_Mix                50000 non-null  object \n",
      " 19  Outstanding_Debt          50000 non-null  object \n",
      " 20  Credit_Utilization_Ratio  50000 non-null  float64\n",
      " 21  Credit_History_Age        45530 non-null  object \n",
      " 22  Payment_of_Min_Amount     50000 non-null  object \n",
      " 23  Total_EMI_per_month       50000 non-null  float64\n",
      " 24  Amount_invested_monthly   47729 non-null  object \n",
      " 25  Payment_Behaviour         50000 non-null  object \n",
      " 26  Monthly_Balance           49438 non-null  object \n",
      "dtypes: float64(4), int64(4), object(19)\n",
      "memory usage: 10.3+ MB\n"
     ]
    }
   ],
   "source": [
    "df.info() "
   ]
  },
  {
   "cell_type": "code",
   "execution_count": 165,
   "id": "9fcc786b",
   "metadata": {},
   "outputs": [
    {
     "data": {
      "text/plain": [
       "ID                             0\n",
       "Customer_ID                    0\n",
       "Month                          0\n",
       "Name                        5015\n",
       "Age                            0\n",
       "SSN                            0\n",
       "Occupation                     0\n",
       "Annual_Income                  0\n",
       "Monthly_Inhand_Salary       7498\n",
       "Num_Bank_Accounts              0\n",
       "Num_Credit_Card                0\n",
       "Interest_Rate                  0\n",
       "Num_of_Loan                    0\n",
       "Type_of_Loan                5704\n",
       "Delay_from_due_date            0\n",
       "Num_of_Delayed_Payment      3498\n",
       "Changed_Credit_Limit           0\n",
       "Num_Credit_Inquiries        1035\n",
       "Credit_Mix                     0\n",
       "Outstanding_Debt               0\n",
       "Credit_Utilization_Ratio       0\n",
       "Credit_History_Age          4470\n",
       "Payment_of_Min_Amount          0\n",
       "Total_EMI_per_month            0\n",
       "Amount_invested_monthly     2271\n",
       "Payment_Behaviour              0\n",
       "Monthly_Balance              562\n",
       "dtype: int64"
      ]
     },
     "execution_count": 165,
     "metadata": {},
     "output_type": "execute_result"
    }
   ],
   "source": [
    "df.isnull().sum()"
   ]
  },
  {
   "cell_type": "code",
   "execution_count": 28,
   "id": "01a553d3",
   "metadata": {},
   "outputs": [
    {
     "data": {
      "text/html": [
       "<div>\n",
       "<style scoped>\n",
       "    .dataframe tbody tr th:only-of-type {\n",
       "        vertical-align: middle;\n",
       "    }\n",
       "\n",
       "    .dataframe tbody tr th {\n",
       "        vertical-align: top;\n",
       "    }\n",
       "\n",
       "    .dataframe thead th {\n",
       "        text-align: right;\n",
       "    }\n",
       "</style>\n",
       "<table border=\"1\" class=\"dataframe\">\n",
       "  <thead>\n",
       "    <tr style=\"text-align: right;\">\n",
       "      <th></th>\n",
       "      <th>Monthly_Inhand_Salary</th>\n",
       "      <th>Num_Bank_Accounts</th>\n",
       "      <th>Num_Credit_Card</th>\n",
       "      <th>Interest_Rate</th>\n",
       "      <th>Delay_from_due_date</th>\n",
       "      <th>Num_Credit_Inquiries</th>\n",
       "      <th>Credit_Utilization_Ratio</th>\n",
       "      <th>Total_EMI_per_month</th>\n",
       "    </tr>\n",
       "  </thead>\n",
       "  <tbody>\n",
       "    <tr>\n",
       "      <th>count</th>\n",
       "      <td>42502.000000</td>\n",
       "      <td>50000.000000</td>\n",
       "      <td>50000.000000</td>\n",
       "      <td>50000.000000</td>\n",
       "      <td>50000.000000</td>\n",
       "      <td>48965.000000</td>\n",
       "      <td>50000.000000</td>\n",
       "      <td>50000.000000</td>\n",
       "    </tr>\n",
       "    <tr>\n",
       "      <th>mean</th>\n",
       "      <td>4182.004291</td>\n",
       "      <td>16.838260</td>\n",
       "      <td>22.921480</td>\n",
       "      <td>68.772640</td>\n",
       "      <td>21.052640</td>\n",
       "      <td>30.080200</td>\n",
       "      <td>32.279581</td>\n",
       "      <td>1491.304305</td>\n",
       "    </tr>\n",
       "    <tr>\n",
       "      <th>std</th>\n",
       "      <td>3174.109304</td>\n",
       "      <td>116.396848</td>\n",
       "      <td>129.314804</td>\n",
       "      <td>451.602363</td>\n",
       "      <td>14.860397</td>\n",
       "      <td>196.984121</td>\n",
       "      <td>5.106238</td>\n",
       "      <td>8595.647887</td>\n",
       "    </tr>\n",
       "    <tr>\n",
       "      <th>min</th>\n",
       "      <td>303.645417</td>\n",
       "      <td>-1.000000</td>\n",
       "      <td>0.000000</td>\n",
       "      <td>1.000000</td>\n",
       "      <td>-5.000000</td>\n",
       "      <td>0.000000</td>\n",
       "      <td>20.509652</td>\n",
       "      <td>0.000000</td>\n",
       "    </tr>\n",
       "    <tr>\n",
       "      <th>25%</th>\n",
       "      <td>1625.188333</td>\n",
       "      <td>3.000000</td>\n",
       "      <td>4.000000</td>\n",
       "      <td>8.000000</td>\n",
       "      <td>10.000000</td>\n",
       "      <td>4.000000</td>\n",
       "      <td>28.061040</td>\n",
       "      <td>32.222388</td>\n",
       "    </tr>\n",
       "    <tr>\n",
       "      <th>50%</th>\n",
       "      <td>3086.305000</td>\n",
       "      <td>6.000000</td>\n",
       "      <td>5.000000</td>\n",
       "      <td>13.000000</td>\n",
       "      <td>18.000000</td>\n",
       "      <td>7.000000</td>\n",
       "      <td>32.280390</td>\n",
       "      <td>74.733349</td>\n",
       "    </tr>\n",
       "    <tr>\n",
       "      <th>75%</th>\n",
       "      <td>5934.189094</td>\n",
       "      <td>7.000000</td>\n",
       "      <td>7.000000</td>\n",
       "      <td>20.000000</td>\n",
       "      <td>28.000000</td>\n",
       "      <td>10.000000</td>\n",
       "      <td>36.468591</td>\n",
       "      <td>176.157491</td>\n",
       "    </tr>\n",
       "    <tr>\n",
       "      <th>max</th>\n",
       "      <td>15204.633333</td>\n",
       "      <td>1798.000000</td>\n",
       "      <td>1499.000000</td>\n",
       "      <td>5799.000000</td>\n",
       "      <td>67.000000</td>\n",
       "      <td>2593.000000</td>\n",
       "      <td>48.540663</td>\n",
       "      <td>82398.000000</td>\n",
       "    </tr>\n",
       "  </tbody>\n",
       "</table>\n",
       "</div>"
      ],
      "text/plain": [
       "       Monthly_Inhand_Salary  Num_Bank_Accounts  Num_Credit_Card  \\\n",
       "count           42502.000000       50000.000000     50000.000000   \n",
       "mean             4182.004291          16.838260        22.921480   \n",
       "std              3174.109304         116.396848       129.314804   \n",
       "min               303.645417          -1.000000         0.000000   \n",
       "25%              1625.188333           3.000000         4.000000   \n",
       "50%              3086.305000           6.000000         5.000000   \n",
       "75%              5934.189094           7.000000         7.000000   \n",
       "max             15204.633333        1798.000000      1499.000000   \n",
       "\n",
       "       Interest_Rate  Delay_from_due_date  Num_Credit_Inquiries  \\\n",
       "count   50000.000000         50000.000000          48965.000000   \n",
       "mean       68.772640            21.052640             30.080200   \n",
       "std       451.602363            14.860397            196.984121   \n",
       "min         1.000000            -5.000000              0.000000   \n",
       "25%         8.000000            10.000000              4.000000   \n",
       "50%        13.000000            18.000000              7.000000   \n",
       "75%        20.000000            28.000000             10.000000   \n",
       "max      5799.000000            67.000000           2593.000000   \n",
       "\n",
       "       Credit_Utilization_Ratio  Total_EMI_per_month  \n",
       "count              50000.000000         50000.000000  \n",
       "mean                  32.279581          1491.304305  \n",
       "std                    5.106238          8595.647887  \n",
       "min                   20.509652             0.000000  \n",
       "25%                   28.061040            32.222388  \n",
       "50%                   32.280390            74.733349  \n",
       "75%                   36.468591           176.157491  \n",
       "max                   48.540663         82398.000000  "
      ]
     },
     "execution_count": 28,
     "metadata": {},
     "output_type": "execute_result"
    }
   ],
   "source": [
    "df.describe()"
   ]
  },
  {
   "cell_type": "code",
   "execution_count": 166,
   "id": "7678c4cf",
   "metadata": {},
   "outputs": [
    {
     "name": "stdout",
     "output_type": "stream",
     "text": [
      "0\n"
     ]
    }
   ],
   "source": [
    "print(df.duplicated().sum()) # On repère les lignes contenant des doublons"
   ]
  },
  {
   "cell_type": "code",
   "execution_count": 167,
   "id": "e783d2c9",
   "metadata": {},
   "outputs": [],
   "source": [
    "df = df.dropna(axis = 0, how = 'any') # On supprime toutes les lignes contenant au moins une valeur manquante"
   ]
  },
  {
   "cell_type": "code",
   "execution_count": 108,
   "id": "3d29fc93",
   "metadata": {},
   "outputs": [
    {
     "data": {
      "text/plain": [
       "ID                          0\n",
       "Customer_ID                 0\n",
       "Month                       0\n",
       "Name                        0\n",
       "Age                         0\n",
       "SSN                         0\n",
       "Occupation                  0\n",
       "Annual_Income               0\n",
       "Monthly_Inhand_Salary       0\n",
       "Num_Bank_Accounts           0\n",
       "Num_Credit_Card             0\n",
       "Interest_Rate               0\n",
       "Num_of_Loan                 0\n",
       "Type_of_Loan                0\n",
       "Delay_from_due_date         0\n",
       "Num_of_Delayed_Payment      0\n",
       "Changed_Credit_Limit        0\n",
       "Num_Credit_Inquiries        0\n",
       "Credit_Mix                  0\n",
       "Outstanding_Debt            0\n",
       "Credit_Utilization_Ratio    0\n",
       "Credit_History_Age          0\n",
       "Payment_of_Min_Amount       0\n",
       "Total_EMI_per_month         0\n",
       "Amount_invested_monthly     0\n",
       "Payment_Behaviour           0\n",
       "Monthly_Balance             0\n",
       "dtype: int64"
      ]
     },
     "execution_count": 108,
     "metadata": {},
     "output_type": "execute_result"
    }
   ],
   "source": [
    "df.isna().sum(axis = 0) #les colonnes de transactions ne contiennent plus de valeurs manquantes"
   ]
  },
  {
   "cell_type": "code",
   "execution_count": 168,
   "id": "7bc5a113",
   "metadata": {},
   "outputs": [
    {
     "data": {
      "text/plain": [
       "26459"
      ]
     },
     "execution_count": 168,
     "metadata": {},
     "output_type": "execute_result"
    }
   ],
   "source": [
    "len(df['ID'].unique())#ok "
   ]
  },
  {
   "cell_type": "code",
   "execution_count": 169,
   "id": "7baa5335",
   "metadata": {},
   "outputs": [
    {
     "data": {
      "text/plain": [
       "10767"
      ]
     },
     "execution_count": 169,
     "metadata": {},
     "output_type": "execute_result"
    }
   ],
   "source": [
    "len(df['Customer_ID'].unique()) #nok? ok?"
   ]
  },
  {
   "cell_type": "code",
   "execution_count": 170,
   "id": "72487767",
   "metadata": {},
   "outputs": [
    {
     "data": {
      "text/plain": [
       "array(['September', 'October', 'December', 'November'], dtype=object)"
      ]
     },
     "execution_count": 170,
     "metadata": {},
     "output_type": "execute_result"
    }
   ],
   "source": [
    "df['Month'].unique()#ok"
   ]
  },
  {
   "cell_type": "code",
   "execution_count": 171,
   "id": "f5b80e4d",
   "metadata": {},
   "outputs": [
    {
     "data": {
      "text/plain": [
       "0          Aaron Maashoh\n",
       "1          Aaron Maashoh\n",
       "4        Rick Rothackerj\n",
       "5        Rick Rothackerj\n",
       "7        Rick Rothackerj\n",
       "              ...       \n",
       "49992     Sarah McBridec\n",
       "49993     Sarah McBridec\n",
       "49994     Sarah McBridec\n",
       "49997              Nicks\n",
       "49999              Nicks\n",
       "Name: Name, Length: 26459, dtype: object"
      ]
     },
     "execution_count": 171,
     "metadata": {},
     "output_type": "execute_result"
    }
   ],
   "source": [
    "df['Name'] #ok"
   ]
  },
  {
   "cell_type": "code",
   "execution_count": 172,
   "id": "2e638b73",
   "metadata": {},
   "outputs": [
    {
     "data": {
      "text/plain": [
       "0        23\n",
       "1        24\n",
       "4        28\n",
       "5        28\n",
       "7        28\n",
       "         ..\n",
       "49992    29\n",
       "49993    29\n",
       "49994    29\n",
       "49997    25\n",
       "49999    25\n",
       "Name: Age, Length: 25663, dtype: int32"
      ]
     },
     "execution_count": 172,
     "metadata": {},
     "output_type": "execute_result"
    }
   ],
   "source": [
    "#df['Age'].unique() # nok a traité\n",
    "df[\"Age\"] = df[\"Age\"].apply(lambda x: x.replace(\"_\", \"\"))\n",
    "df[\"Age\"] = df[\"Age\"].astype(int)\n",
    "df = df[(df['Age'] > 0) & (df['Age']<110)]  \n",
    "df['Age']\n"
   ]
  },
  {
   "cell_type": "code",
   "execution_count": 173,
   "id": "5b331c1a",
   "metadata": {},
   "outputs": [
    {
     "data": {
      "text/plain": [
       "0        821-00-0265\n",
       "1        821-00-0265\n",
       "4        004-07-5839\n",
       "7        004-07-5839\n",
       "9        486-85-3974\n",
       "            ...     \n",
       "49992    031-35-0942\n",
       "49993    031-35-0942\n",
       "49994    031-35-0942\n",
       "49997    078-73-5990\n",
       "49999    078-73-5990\n",
       "Name: SSN, Length: 24195, dtype: object"
      ]
     },
     "execution_count": 173,
     "metadata": {},
     "output_type": "execute_result"
    }
   ],
   "source": [
    "#df['SSN'] #nok '#F%$D@*&8', ...,\n",
    "df=df.loc[df[\"SSN\"].str.match(\"[0-9][0-9][0-9]\\-[0-9][0-9]\\-[0-9][0-9][0-9][0-9]\")]\n",
    "df['SSN']"
   ]
  },
  {
   "cell_type": "code",
   "execution_count": 174,
   "id": "46fc742a",
   "metadata": {},
   "outputs": [
    {
     "data": {
      "text/plain": [
       "0           Scientist\n",
       "1           Scientist\n",
       "7             Teacher\n",
       "9            Engineer\n",
       "12       Entrepreneur\n",
       "             ...     \n",
       "49991          Writer\n",
       "49992       Architect\n",
       "49993       Architect\n",
       "49997        Mechanic\n",
       "49999        Mechanic\n",
       "Name: Occupation, Length: 22496, dtype: object"
      ]
     },
     "execution_count": 174,
     "metadata": {},
     "output_type": "execute_result"
    }
   ],
   "source": [
    "#df['Occupation'].unique() #nok  \"________\" maybe put 'secret'\n",
    "df = df[df[\"Occupation\"] != \"_______\"]\n",
    "df['Occupation']"
   ]
  },
  {
   "cell_type": "code",
   "execution_count": 175,
   "id": "a6e358ec",
   "metadata": {},
   "outputs": [
    {
     "data": {
      "text/plain": [
       "0         19114.12\n",
       "1         19114.12\n",
       "7         34847.84\n",
       "9        143162.64\n",
       "12        30689.89\n",
       "           ...    \n",
       "49991     37188.10\n",
       "49992     20002.88\n",
       "49993     20002.88\n",
       "49997     39628.99\n",
       "49999     39628.99\n",
       "Name: Annual_Income, Length: 22496, dtype: float64"
      ]
     },
     "execution_count": 175,
     "metadata": {},
     "output_type": "execute_result"
    }
   ],
   "source": [
    "df['Annual_Income'] = df['Annual_Income'].apply(lambda x: x.replace(\"_\", \"\"))\n",
    "df[\"Annual_Income\"] = df[\"Annual_Income\"].astype(float) #nok ? dtype: object, should be Float\n",
    "df['Annual_Income']"
   ]
  },
  {
   "cell_type": "code",
   "execution_count": 176,
   "id": "a08b4bc3",
   "metadata": {},
   "outputs": [
    {
     "data": {
      "text/plain": [
       "0         1824.843333\n",
       "1         1824.843333\n",
       "7         3037.986667\n",
       "9        12187.220000\n",
       "12        2612.490833\n",
       "             ...     \n",
       "49991     3097.008333\n",
       "49992     1929.906667\n",
       "49993     1929.906667\n",
       "49997     3359.415833\n",
       "49999     3359.415833\n",
       "Name: Monthly_Inhand_Salary, Length: 22496, dtype: float64"
      ]
     },
     "execution_count": 176,
     "metadata": {},
     "output_type": "execute_result"
    }
   ],
   "source": [
    "df['Monthly_Inhand_Salary'] #ok Float"
   ]
  },
  {
   "cell_type": "code",
   "execution_count": 177,
   "id": "30c5a20c",
   "metadata": {},
   "outputs": [
    {
     "data": {
      "text/plain": [
       "array([   3,    2,    1,    0,    8,    5,    6,    7,  936,    9,   10,\n",
       "          4,  845, 1444,  142,  736,  521, 1005,  368,  420,  500,  579,\n",
       "       1193,  125, 1619, 1667, 1507,  661, 1124,  250, 1190, 1520, 1709,\n",
       "         76, 1686, 1691,  382,  185,  333, 1025,  275, 1088, 1266,  216,\n",
       "         57, 1285, 1102, 1153,  218,  565, 1316,  968, 1101,  393, 1022,\n",
       "       1305,  766,  954,  417,  150,  600, 1527,  312, 1371,  495, 1556,\n",
       "        826, 1038,  329, 1220,  415,  168, 1402, 1361,  566,   64,  881,\n",
       "        590, 1585, 1000,  615, 1068,  717,   21,  182, 1491, 1115, 1218,\n",
       "        670, 1603,  665,  879, 1518, 1447,  900,  239, 1502,   -1,  326,\n",
       "        656,   53,  915,  616,  637,  703, 1721,  511,  137, 1204,  640,\n",
       "       1661,   11, 1135,  209,  552,  865, 1551,  803,   54,  413, 1694,\n",
       "       1618, 1150, 1011, 1087,  188, 1139,  119,  589, 1717,   96, 1246,\n",
       "        983,  681,  580, 1382,  837,  620, 1774, 1642, 1578,  184, 1268,\n",
       "         51, 1532, 1572,  405,  888, 1659,  404,  781, 1606,  911,   74,\n",
       "       1028,  367, 1570, 1711, 1232, 1020,  909, 1117, 1567, 1441, 1328,\n",
       "        474,  302,   63, 1488,  429,   71,  950, 1276,  130,  345,   79,\n",
       "       1327, 1783,  827,  685,  477, 1250,  940, 1295,  928, 1719,  308,\n",
       "       1372, 1318,  252,  711, 1592, 1334,  274, 1435, 1462,  780, 1563,\n",
       "       1471,  114,   23,  568,  956, 1406, 1134, 1259, 1292,  365,  466,\n",
       "        769, 1773,  219,   95, 1473, 1492,  204, 1037,  714, 1293, 1750,\n",
       "        988,  829,  932, 1493, 1106,   41, 1258,  910, 1194, 1692,  258,\n",
       "         94, 1364, 1149,  789,  456, 1633,   70,  399,  515, 1111,  201,\n",
       "       1341,  190, 1256, 1099, 1623,   99, 1057, 1157,  540, 1326,  394,\n",
       "        880,   90, 1657, 1335,  322, 1211, 1431,  433, 1395,  997,  422,\n",
       "        800, 1366, 1396,  499, 1540, 1061,  278, 1727], dtype=int64)"
      ]
     },
     "execution_count": 177,
     "metadata": {},
     "output_type": "execute_result"
    }
   ],
   "source": [
    "df['Num_Bank_Accounts'].unique() #ok, Integer"
   ]
  },
  {
   "cell_type": "code",
   "execution_count": 178,
   "id": "6317ccda",
   "metadata": {},
   "outputs": [
    {
     "data": {
      "text/plain": [
       "array([   4,    5,    1,    7,    6,    8,    3,  211,  182,    9,   10,\n",
       "        914,    2,   11, 1365, 1289,  497,  181,  517, 1084,  488,  784,\n",
       "       1279, 1036,  510, 1171,  590, 1197,  881,  167, 1427,  766,  513,\n",
       "        808,  863,  570, 1301, 1184, 1037,  617,  547,  591, 1274, 1465,\n",
       "        954,   64, 1217,  238, 1499, 1266, 1485, 1168,  330, 1052, 1250,\n",
       "       1096,  101,  569,  885, 1435,  546,   85,  298,  258,  533,   51,\n",
       "          0,  217,  886,  408,  720,  751,  524, 1348,  574,  393, 1462,\n",
       "        712,  476, 1127,  609, 1278, 1323,  433, 1356,   19,  584,  455,\n",
       "        750,  839,   54, 1392,  757, 1245,  144,  702,  324,   59,  293,\n",
       "        968,  697,  335,  725,  541,   26,  931, 1393,   30,  322,  338,\n",
       "        204, 1220, 1242,  856,  121,  366,  168, 1495, 1210,  349,  332,\n",
       "        555,  299,   69, 1015,  199,  487,   41,  883,   98,   81, 1045,\n",
       "        974,  770,  174,  829,  384,  118, 1303, 1093, 1312, 1329,  957,\n",
       "        877,  243,  820,  195,  724,  926, 1070,  982,  232, 1183,  237,\n",
       "       1080,  660,  721, 1020, 1315,  992,  158,   31,  849,  715, 1498,\n",
       "        404,  793,  460, 1150,  979,  392, 1156,  231, 1058,  355,  362,\n",
       "        434,  683,  910,  176,  135,  285,  631,  147, 1405, 1261,  675,\n",
       "        834,  267, 1488,  897,  789,  964,  650,  868,  778,  733, 1013,\n",
       "        516,  911, 1055,  203,  367,  878,  644,  788,  142,  792, 1143,\n",
       "        288, 1263,  256,  970, 1332,  802,  889, 1447,  477,  225,  400,\n",
       "        273, 1359,  302, 1201,  333,  781, 1034,  595,  760, 1133,  728,\n",
       "       1066, 1436, 1461,  480, 1208,  316,  128,  192,  448, 1298,  684,\n",
       "        620, 1445,  907,   75, 1240,  415,  577,  997,  681,  540, 1448,\n",
       "        966,   79,  922,  818, 1389,  797,  796, 1474, 1253, 1063, 1308,\n",
       "       1446,  571,  704,   96, 1190, 1071,   49, 1016,  677, 1238,  632,\n",
       "        116,  638,  170,  879, 1159,  457,  398, 1258,  732,  708,  614,\n",
       "       1402,  122,  521, 1167,  314,  465, 1132,  790,  265, 1109, 1022,\n",
       "       1287,  665,  127,  166,   47,  816, 1374,  429, 1411, 1148,  531,\n",
       "        506,  255, 1032,  310,   37, 1384, 1438,  178,  468, 1180, 1095,\n",
       "        864, 1255,  528, 1089,  827,  519,  185, 1033,  904,  115,  871,\n",
       "       1243,  655,  402,  719,  451,  626,  381,  832, 1431, 1188,  304,\n",
       "        420,  711,  726, 1221,  514,   95,  664,  807,   77,  222,  114,\n",
       "         18,  769, 1281, 1223, 1026,  950,  350,  247, 1399, 1422,   22,\n",
       "       1101, 1352, 1186, 1466,  544,  903, 1275, 1244,  657,  164,  347,\n",
       "        671,  599, 1151, 1386,  654,  835,  777, 1041, 1219,  771,  763,\n",
       "        858, 1347, 1481, 1321,  873,  100, 1372, 1241,  813,  431,  529,\n",
       "         73,  251,  523, 1129,  105,  729,  739,  718,  920,  745,  413,\n",
       "        586,  986,  716,  618,  198,  197,  860,  515,  924,  406,  843,\n",
       "        257,  592,  689,  900, 1234, 1414,  481,  426,   87,  163,  230,\n",
       "        692,  952, 1345, 1319, 1380,  598, 1351,  542,   66,  688, 1233,\n",
       "       1398,  615,  417,   99,  466, 1439,  955], dtype=int64)"
      ]
     },
     "execution_count": 178,
     "metadata": {},
     "output_type": "execute_result"
    }
   ],
   "source": [
    "df['Num_Credit_Card'].unique() #nok valeurs = 0, Integer\n",
    "#Un numéro de carte de crédit nul est en général surement une erreur bien\n",
    "#qu’ici étant donné les autres numéros il pourrait bien être voulu"
   ]
  },
  {
   "cell_type": "code",
   "execution_count": 179,
   "id": "d7234866",
   "metadata": {},
   "outputs": [
    {
     "data": {
      "text/plain": [
       "array([   3,    6,    8,    4,   15,    7,   12,   20,    1,   14, 3097,\n",
       "         17,   10,   31,   25,   18,   19,    9,   24,   32,    5, 4224,\n",
       "         33,   11,   16,   21,   29, 5104,   28,   30, 1616,   23,   34,\n",
       "         27,    2,   13,   26, 1072, 1830,  810,   22, 5031, 2716, 4384,\n",
       "       4801, 3281, 1503, 2682, 4563, 2228, 1925, 3252,  144, 3154, 2241,\n",
       "       1295,  436, 4116, 2705, 2183, 4916, 3467,   88, 2239,  953, 4251,\n",
       "       4895, 3701, 4623, 3561, 1047, 1363, 5476,  985, 1481, 2679, 4137,\n",
       "       3249, 2126, 1475, 2317, 4507, 1392, 4718, 1504, 1128, 1826, 3388,\n",
       "       1136, 1447, 1191,  371, 5237, 2108, 2333, 1209, 4271, 4930, 3747,\n",
       "       5458,  964, 2375, 1187, 2486,  643, 3153, 1048, 4668, 4038,  115,\n",
       "       4878, 3851, 5541,  400,  303,  545, 3646, 5194, 5502, 2426, 2857,\n",
       "       3866,  992,  103,  488, 1457,  832, 2184, 1735, 1895, 3972, 5054,\n",
       "        307, 4536, 5129, 2290, 4387, 3169, 5584, 5725, 1672, 5569, 3651,\n",
       "       2668,  187,  843, 3675,  923, 4402, 2127,  739, 3609, 5214, 5627,\n",
       "       3402, 1587, 5077, 2157, 3150, 3921,  125, 1414, 5551, 4935, 4924,\n",
       "       1425, 2106, 3267, 4737,  247, 5137, 5662, 2139, 5307, 3279, 1166,\n",
       "       4345, 3977,  234, 4914, 3631,  823, 2953, 1540, 1831,  673,  976,\n",
       "       1083,  423, 4515, 4391,  998, 2298, 3211, 1960, 5480, 5197, 4522,\n",
       "       1175, 3022, 3998, 2222, 3234, 5490, 5539, 5192,  817, 5304,  273,\n",
       "       2318,  462, 1033, 1586, 5408, 4403, 5003, 1228, 1966, 2914,  139,\n",
       "       2667, 4356, 1398, 3748, 1472, 3936, 4768, 3231,   89, 4266,  496,\n",
       "       1644, 1164, 5747, 2811, 5640, 1582, 4645, 5637, 5574,  365, 4872,\n",
       "       5147, 2299, 3377, 1247, 1323, 2517,  850, 5510, 1417, 2664, 2501,\n",
       "       3981,  113, 1308, 3719, 4873,   59, 3111, 5042, 3938, 5523, 1888,\n",
       "       2607, 3487, 5531, 1297, 1085,  813, 2922, 2489, 5759, 4576, 1651,\n",
       "       2801, 3120, 4135,  840, 1415, 2854, 3394, 5515, 3213, 1922, 3222,\n",
       "       2462, 3040, 2358, 1319, 1833, 3168, 5713, 5180, 2719, 2725,  485,\n",
       "       4854, 2041, 2326,  520, 4024, 5152, 1399, 3605, 4217, 5656, 3577,\n",
       "       3193, 2016,  718, 3016, 5011,  828,  782, 2384, 4868, 5682, 3810,\n",
       "       2452, 3624, 4969, 2561, 2425, 5578,  483, 5060, 4026,  143,  408,\n",
       "       2796,  516, 2978, 3107, 4609, 2410, 2623, 3417, 3250,  409, 5421,\n",
       "       5513, 5748, 4159, 3511, 1682, 2644, 4907, 1342, 3805, 2911,  413,\n",
       "       4790,  648, 2088, 3860, 4003, 3585, 2208, 1851, 3867, 4398, 4297,\n",
       "       1122, 4094, 1685, 5191, 3527, 1372, 3004, 1203,  209, 1993, 3710,\n",
       "       5272, 3877, 1163, 3601, 5256,  767, 1838, 4082, 1543, 2708, 3280,\n",
       "       2980, 4917, 3448, 4478, 1971, 3285, 5678, 1731,  633, 4359, 2674,\n",
       "       5391, 3961, 2390, 2419,  527, 1023, 5552, 3505, 5543, 2344, 4378,\n",
       "       5435, 2516, 3059, 1138, 2930, 1706, 5096,  374, 2221, 4595, 2483,\n",
       "       1670,  504,  569,  691, 4509, 1951, 4673, 2931, 1098,  565, 1962,\n",
       "       1906,  508,  454, 2695, 1635, 3947, 3130, 2110, 3515, 3653, 5406,\n",
       "       4671, 4360, 1656, 3941, 1694,  924,  110,  226, 1196, 5121, 1149,\n",
       "       3072, 3399, 3522, 3466,  900,  447, 1877,  239, 5670, 1931, 5261,\n",
       "       2658, 4252], dtype=int64)"
      ]
     },
     "execution_count": 179,
     "metadata": {},
     "output_type": "execute_result"
    }
   ],
   "source": [
    "df['Interest_Rate'].unique()  #ok, Integer"
   ]
  },
  {
   "cell_type": "code",
   "execution_count": 180,
   "id": "9ee61204",
   "metadata": {},
   "outputs": [
    {
     "data": {
      "text/plain": [
       "array(['4', '1', '3', '100', '2', '5', '6', '8', '7', '9', '965', '50',\n",
       "       '495', '1018', '1470', '481', '617', '1237', '602', '582', '1225',\n",
       "       '1146', '505', '463', '864', '949', '720', '181', '1048', '814',\n",
       "       '434', '77', '639', '336', '249', '106', '1259', '1365', '114',\n",
       "       '810', '992', '1416', '1374', '746', '1487', '1147', '511', '198',\n",
       "       '1140', '876', '569', '1221', '1040', '1496', '1063', '1428',\n",
       "       '1361', '232', '653', '1448', '426', '1068', '486', '1027', '1108',\n",
       "       '1471', '628', '1284', '1446', '35', '483', '928', '1300', '547',\n",
       "       '950', '1153', '539', '1240', '376', '1481', '1287', '325', '72',\n",
       "       '1024', '220', '478', '551', '1244', '140', '1329', '255', '326',\n",
       "       '1149', '641', '97', '295', '790', '624', '659', '361', '813',\n",
       "       '1095', '508', '879', '1373', '1445', '612', '324', '531', '339',\n",
       "       '1057', '343', '395', '1175', '663', '135', '1447', '354', '477',\n",
       "       '544', '204', '1369', '534', '1292', '1436', '939'], dtype=object)"
      ]
     },
     "execution_count": 180,
     "metadata": {},
     "output_type": "execute_result"
    }
   ],
   "source": [
    "df['Num_of_Loan'] = df['Num_of_Loan'].apply(lambda x: x.replace(\"_\", \"\"))#nok valeurs = '_'\n",
    "df['Num_of_Loan'] = df['Num_of_Loan'].apply(lambda x: x.replace(\"-\", \"\"))\n",
    "df['Num_of_Loan'].unique() "
   ]
  },
  {
   "cell_type": "code",
   "execution_count": 181,
   "id": "2218775c",
   "metadata": {},
   "outputs": [
    {
     "data": {
      "text/plain": [
       "0        Auto Loan, Credit-Builder Loan, Personal Loan,...\n",
       "1        Auto Loan, Credit-Builder Loan, Personal Loan,...\n",
       "7                                      Credit-Builder Loan\n",
       "9                  Auto Loan, Auto Loan, and Not Specified\n",
       "12                                           Not Specified\n",
       "                               ...                        \n",
       "49991    Home Equity Loan, Mortgage Loan, and Student Loan\n",
       "49992    Personal Loan, Auto Loan, Mortgage Loan, Stude...\n",
       "49993    Personal Loan, Auto Loan, Mortgage Loan, Stude...\n",
       "49997                          Auto Loan, and Student Loan\n",
       "49999                          Auto Loan, and Student Loan\n",
       "Name: Type_of_Loan, Length: 22496, dtype: object"
      ]
     },
     "execution_count": 181,
     "metadata": {},
     "output_type": "execute_result"
    }
   ],
   "source": [
    "df['Type_of_Loan'] #ok, String"
   ]
  },
  {
   "cell_type": "code",
   "execution_count": 182,
   "id": "8edd6577",
   "metadata": {},
   "outputs": [
    {
     "data": {
      "text/plain": [
       "array([ 3,  6,  5, 30, 11,  2, 16,  4, 10,  8,  9, 51, 45, 48, 25, 43, 22,\n",
       "       49, 55, 52, 61, 59, 31, 27, 18, 15, 53, 14, 12, 17,  7, 50, 44, 13,\n",
       "       34, 20, 28, 23, 57, 62, 24, 56, 41, 37, 19,  1, 64, 36, 42, 60, 21,\n",
       "       33, 26, 38, 29, 32, 35, 40, 54, 47, 46, 39, 66, 58, 65, 67, 63],\n",
       "      dtype=int64)"
      ]
     },
     "execution_count": 182,
     "metadata": {},
     "output_type": "execute_result"
    }
   ],
   "source": [
    "df = df[df['Delay_from_due_date'] > 0]  #negative values, could be? \n",
    "df['Delay_from_due_date'].unique()"
   ]
  },
  {
   "cell_type": "code",
   "execution_count": 183,
   "id": "591e9824",
   "metadata": {},
   "outputs": [
    {
     "data": {
      "text/plain": [
       "array(['7', '9', '2', '3', '6', '8', '14', '12', '0', '19', '20', '10',\n",
       "       '15', '1150', '18', '23', '21', '17', '22', '11', '13', '5', '16',\n",
       "       '4', '25', '24', '429', '1', '2806', '4246', '75', '1134', '27',\n",
       "       '26', '1230', '4318', '28', '1216', '3667', '420', '2606', '1122',\n",
       "       '3178', '3398', '1486', '586', '873', '2801', '2503', '3954',\n",
       "       '376', '2354', '4343', '2279', '391', '1334', '1958', '2608',\n",
       "       '1274', '452', '227', '2161', '377', '1544', '975', '211', '518',\n",
       "       '657', '3477', '370', '1534', '1080', '3057', '2819', '1329',\n",
       "       '3684', '1802', '1880', '181', '3591', '1356', '2672', '2001',\n",
       "       '4298', '590', '1095', '1562', '100', '2276', '2822', '832',\n",
       "       '3529', '2942', '2802', '3393', '288', '2424', '345', '2269',\n",
       "       '179', '1513', '3071', '700', '2836', '434', '2649', '1891',\n",
       "       '2999', '2344', '1437', '1633', '2431', '864', '1297', '414',\n",
       "       '4044', '427', '952', '1571', '3863', '1832', '3425', '1959',\n",
       "       '1990', '1166', '3565', '2595', '2873', '2286', '2018', '3589',\n",
       "       '292', '2767', '1246', '652', '3744', '3229', '3520', '707',\n",
       "       '2392', '817', '806', '3161', '2902', '4088', '1149', '1312',\n",
       "       '2055', '861', '3803', '3064', '1761', '4133', '3392', '358',\n",
       "       '2368', '2570', '3032', '828', '238', '3807', '1169', '1703',\n",
       "       '2287', '688', '4214', '4026', '726', '3099', '2748', '2704',\n",
       "       '3535', '1055', '1265', '3630', '1290', '1833', '459', '2170',\n",
       "       '2407', '4270', '3608', '1289', '2953', '3757', '2052', '4141',\n",
       "       '883', '2410', '989', '3920', '1634', '481', '97', '2346', '4313',\n",
       "       '3622', '1779', '1619', '3406', '3594', '272', '3637', '174',\n",
       "       '2450', '3913', '332', '2034'], dtype=object)"
      ]
     },
     "execution_count": 183,
     "metadata": {},
     "output_type": "execute_result"
    }
   ],
   "source": [
    "\n",
    "#Un délai négatif pourrait signifier que la date de paiement a été dépassé sans paiement\n",
    "#dans Num_of_Delayed_payment il s’agit probablement d’erreurs\n",
    "\n",
    "df['Num_of_Delayed_Payment'] = df['Num_of_Delayed_Payment'].apply(lambda x: x.replace(\"_\", \"\"))\n",
    "df['Num_of_Delayed_Payment'] = df['Num_of_Delayed_Payment'].apply(lambda x: x.replace(\"-\", \"\"))\n",
    "df['Num_of_Delayed_Payment'].unique() #negative values, underscore values"
   ]
  },
  {
   "cell_type": "code",
   "execution_count": 189,
   "id": "fd9b7064",
   "metadata": {},
   "outputs": [
    {
     "data": {
      "text/plain": [
       "array([11.27, 13.27,  7.42, ...,  7.95, 25.16, 13.39])"
      ]
     },
     "execution_count": 189,
     "metadata": {},
     "output_type": "execute_result"
    }
   ],
   "source": [
    "\n",
    "df['Changed_Credit_Limit'] = df['Changed_Credit_Limit'].apply(lambda x: x.replace(\"_\", \"0\"))\n",
    "df['Changed_Credit_Limit'] = df['Changed_Credit_Limit'].astype(float)\n",
    "\n",
    "df['Changed_Credit_Limit'].unique() #nok object should be Float"
   ]
  },
  {
   "cell_type": "code",
   "execution_count": 190,
   "id": "60e84b79",
   "metadata": {},
   "outputs": [
    {
     "data": {
      "text/plain": [
       "0        2022.0\n",
       "1           4.0\n",
       "7           5.0\n",
       "9           3.0\n",
       "12          4.0\n",
       "          ...  \n",
       "49991       3.0\n",
       "49992       9.0\n",
       "49993      12.0\n",
       "49997       7.0\n",
       "49999       7.0\n",
       "Name: Num_Credit_Inquiries, Length: 22132, dtype: float64"
      ]
     },
     "execution_count": 190,
     "metadata": {},
     "output_type": "execute_result"
    }
   ],
   "source": [
    "df['Num_Credit_Inquiries'] #ok Float"
   ]
  },
  {
   "cell_type": "code",
   "execution_count": 193,
   "id": "c5a0121c",
   "metadata": {},
   "outputs": [
    {
     "data": {
      "text/plain": [
       "array(['Good', 'Standard', 'Bad'], dtype=object)"
      ]
     },
     "execution_count": 193,
     "metadata": {},
     "output_type": "execute_result"
    }
   ],
   "source": [
    "df['Credit_Mix'] = df['Credit_Mix'].apply(lambda x: x.replace(\"_\", \"Standard\"))\n",
    "df['Credit_Mix'].unique() #nok '_'"
   ]
  },
  {
   "cell_type": "code",
   "execution_count": 195,
   "id": "0b042ffa",
   "metadata": {},
   "outputs": [
    {
     "data": {
      "text/plain": [
       "array([ 809.98,  605.03, 1303.01, ...,  620.64, 3571.7 ,  502.38])"
      ]
     },
     "execution_count": 195,
     "metadata": {},
     "output_type": "execute_result"
    }
   ],
   "source": [
    "df['Outstanding_Debt'] = df['Outstanding_Debt'].apply(lambda x: x.replace(\"_\", \"\")) #nok object should be Float\n",
    "df['Outstanding_Debt'] = df['Outstanding_Debt'].astype(float)\n",
    "df['Outstanding_Debt'].unique()"
   ]
  },
  {
   "cell_type": "code",
   "execution_count": 91,
   "id": "fac36e34",
   "metadata": {},
   "outputs": [
    {
     "data": {
      "text/plain": [
       "0        35.030402\n",
       "1        33.053114\n",
       "4        25.926822\n",
       "5        30.116600\n",
       "7        33.875167\n",
       "           ...    \n",
       "49992    32.391288\n",
       "49993    37.528511\n",
       "49994    27.027812\n",
       "49997    36.858542\n",
       "49999    34.108530\n",
       "Name: Credit_Utilization_Ratio, Length: 26459, dtype: float64"
      ]
     },
     "execution_count": 91,
     "metadata": {},
     "output_type": "execute_result"
    }
   ],
   "source": [
    "df['Credit_Utilization_Ratio'] #ok Float"
   ]
  },
  {
   "cell_type": "code",
   "execution_count": 206,
   "id": "a24ae8b9",
   "metadata": {},
   "outputs": [
    {
     "data": {
      "text/html": [
       "<div>\n",
       "<style scoped>\n",
       "    .dataframe tbody tr th:only-of-type {\n",
       "        vertical-align: middle;\n",
       "    }\n",
       "\n",
       "    .dataframe tbody tr th {\n",
       "        vertical-align: top;\n",
       "    }\n",
       "\n",
       "    .dataframe thead th {\n",
       "        text-align: right;\n",
       "    }\n",
       "</style>\n",
       "<table border=\"1\" class=\"dataframe\">\n",
       "  <thead>\n",
       "    <tr style=\"text-align: right;\">\n",
       "      <th></th>\n",
       "      <th>ID</th>\n",
       "      <th>Customer_ID</th>\n",
       "      <th>Month</th>\n",
       "      <th>Name</th>\n",
       "      <th>Age</th>\n",
       "      <th>SSN</th>\n",
       "      <th>Occupation</th>\n",
       "      <th>Annual_Income</th>\n",
       "      <th>Monthly_Inhand_Salary</th>\n",
       "      <th>Num_Bank_Accounts</th>\n",
       "      <th>...</th>\n",
       "      <th>Credit_Mix</th>\n",
       "      <th>Outstanding_Debt</th>\n",
       "      <th>Credit_Utilization_Ratio</th>\n",
       "      <th>Payment_of_Min_Amount</th>\n",
       "      <th>Total_EMI_per_month</th>\n",
       "      <th>Amount_invested_monthly</th>\n",
       "      <th>Payment_Behaviour</th>\n",
       "      <th>Monthly_Balance</th>\n",
       "      <th>Credit_History_Age_Years</th>\n",
       "      <th>Credit_History_Age_Months</th>\n",
       "    </tr>\n",
       "  </thead>\n",
       "  <tbody>\n",
       "    <tr>\n",
       "      <th>0</th>\n",
       "      <td>0x160a</td>\n",
       "      <td>CUS_0xd40</td>\n",
       "      <td>September</td>\n",
       "      <td>Aaron Maashoh</td>\n",
       "      <td>23</td>\n",
       "      <td>821-00-0265</td>\n",
       "      <td>Scientist</td>\n",
       "      <td>19114.12</td>\n",
       "      <td>1824.843333</td>\n",
       "      <td>3</td>\n",
       "      <td>...</td>\n",
       "      <td>Good</td>\n",
       "      <td>809.98</td>\n",
       "      <td>35.030402</td>\n",
       "      <td>No</td>\n",
       "      <td>49.574949</td>\n",
       "      <td>236.64268203272135</td>\n",
       "      <td>Low_spent_Small_value_payments</td>\n",
       "      <td>186.26670208571772</td>\n",
       "      <td>22</td>\n",
       "      <td>9</td>\n",
       "    </tr>\n",
       "    <tr>\n",
       "      <th>1</th>\n",
       "      <td>0x160b</td>\n",
       "      <td>CUS_0xd40</td>\n",
       "      <td>October</td>\n",
       "      <td>Aaron Maashoh</td>\n",
       "      <td>24</td>\n",
       "      <td>821-00-0265</td>\n",
       "      <td>Scientist</td>\n",
       "      <td>19114.12</td>\n",
       "      <td>1824.843333</td>\n",
       "      <td>3</td>\n",
       "      <td>...</td>\n",
       "      <td>Good</td>\n",
       "      <td>809.98</td>\n",
       "      <td>33.053114</td>\n",
       "      <td>No</td>\n",
       "      <td>49.574949</td>\n",
       "      <td>21.465380264657146</td>\n",
       "      <td>High_spent_Medium_value_payments</td>\n",
       "      <td>361.44400385378196</td>\n",
       "      <td>22</td>\n",
       "      <td>10</td>\n",
       "    </tr>\n",
       "  </tbody>\n",
       "</table>\n",
       "<p>2 rows × 28 columns</p>\n",
       "</div>"
      ],
      "text/plain": [
       "       ID Customer_ID      Month           Name  Age          SSN Occupation  \\\n",
       "0  0x160a   CUS_0xd40  September  Aaron Maashoh   23  821-00-0265  Scientist   \n",
       "1  0x160b   CUS_0xd40    October  Aaron Maashoh   24  821-00-0265  Scientist   \n",
       "\n",
       "   Annual_Income  Monthly_Inhand_Salary  Num_Bank_Accounts  ...  Credit_Mix  \\\n",
       "0       19114.12            1824.843333                  3  ...        Good   \n",
       "1       19114.12            1824.843333                  3  ...        Good   \n",
       "\n",
       "   Outstanding_Debt Credit_Utilization_Ratio Payment_of_Min_Amount  \\\n",
       "0            809.98                35.030402                    No   \n",
       "1            809.98                33.053114                    No   \n",
       "\n",
       "   Total_EMI_per_month Amount_invested_monthly  \\\n",
       "0            49.574949      236.64268203272135   \n",
       "1            49.574949      21.465380264657146   \n",
       "\n",
       "                  Payment_Behaviour     Monthly_Balance  \\\n",
       "0    Low_spent_Small_value_payments  186.26670208571772   \n",
       "1  High_spent_Medium_value_payments  361.44400385378196   \n",
       "\n",
       "  Credit_History_Age_Years  Credit_History_Age_Months  \n",
       "0                       22                          9  \n",
       "1                       22                         10  \n",
       "\n",
       "[2 rows x 28 columns]"
      ]
     },
     "execution_count": 206,
     "metadata": {},
     "output_type": "execute_result"
    }
   ],
   "source": [
    "#df['Credit_History_Age']\n",
    "\n",
    "df['Credit_History_Age_Years'] = df['Credit_History_Age'].apply(lambda date: date.split(' ')[0])\n",
    "df['Credit_History_Age_Months'] = df['Credit_History_Age'].apply(lambda date: date.split(' ')[3])\n",
    "df['Credit_History_Age_Months'] = df['Credit_History_Age_Months'].astype(int)\n",
    "df['Credit_History_Age_Years'] = df['Credit_History_Age_Years'].astype(int)\n",
    "df=df.drop(['Credit_History_Age'], axis=1)\n",
    "\n",
    "#df['Credit_History_Age_Years'].unique()\n",
    "#df['Credit_History_Age_Months'].unique()"
   ]
  },
  {
   "cell_type": "code",
   "execution_count": 208,
   "id": "21349cb2",
   "metadata": {},
   "outputs": [
    {
     "data": {
      "text/plain": [
       "array(['No', 'Yes'], dtype=object)"
      ]
     },
     "execution_count": 208,
     "metadata": {},
     "output_type": "execute_result"
    }
   ],
   "source": [
    "df['Payment_of_Min_Amount'] = df['Payment_of_Min_Amount'].apply(lambda x: x.replace('NM', 'No'))#nok need to trasforme'NM'-->'No'\n",
    "df['Payment_of_Min_Amount'].unique() "
   ]
  },
  {
   "cell_type": "code",
   "execution_count": 95,
   "id": "a0ef9bd5",
   "metadata": {},
   "outputs": [
    {
     "data": {
      "text/plain": [
       "0        49.574949\n",
       "1        49.574949\n",
       "4        18.816215\n",
       "5        18.816215\n",
       "7        18.816215\n",
       "           ...    \n",
       "49992    60.964772\n",
       "49993    60.964772\n",
       "49994    60.964772\n",
       "49997    35.104023\n",
       "49999    35.104023\n",
       "Name: Total_EMI_per_month, Length: 26459, dtype: float64"
      ]
     },
     "execution_count": 95,
     "metadata": {},
     "output_type": "execute_result"
    }
   ],
   "source": [
    "df['Total_EMI_per_month'] #ok Float"
   ]
  },
  {
   "cell_type": "code",
   "execution_count": 210,
   "id": "e2a40def",
   "metadata": {},
   "outputs": [
    {
     "data": {
      "text/plain": [
       "array([236.64268203,  21.46538026, 153.53448761, ..., 107.21074165,\n",
       "        71.79442083, 220.45787812])"
      ]
     },
     "execution_count": 210,
     "metadata": {},
     "output_type": "execute_result"
    }
   ],
   "source": [
    "df['Amount_invested_monthly'] = df['Amount_invested_monthly'].apply(lambda x: x.replace(\"_\", \"\"))\n",
    "df['Amount_invested_monthly'] = df['Amount_invested_monthly'].astype(float) #nok trasforme '236.64268203272135' -> 236.64268203272135\n",
    "df['Amount_invested_monthly'].unique() "
   ]
  },
  {
   "cell_type": "code",
   "execution_count": 211,
   "id": "0468ef97",
   "metadata": {},
   "outputs": [
    {
     "data": {
      "text/plain": [
       "array(['Low_spent_Small_value_payments',\n",
       "       'High_spent_Medium_value_payments',\n",
       "       'Low_spent_Large_value_payments',\n",
       "       'High_spent_Large_value_payments',\n",
       "       'Low_spent_Medium_value_payments',\n",
       "       'High_spent_Small_value_payments'], dtype=object)"
      ]
     },
     "execution_count": 211,
     "metadata": {},
     "output_type": "execute_result"
    }
   ],
   "source": [
    "df['Payment_Behaviour'] = df['Payment_Behaviour'].apply(lambda x: x.replace('!@9#%8', df['Payment_Behaviour'].mode()[0])) #nok '!@9#%8'\n",
    "df['Payment_Behaviour'].unique() "
   ]
  },
  {
   "cell_type": "code",
   "execution_count": 213,
   "id": "b33ae159",
   "metadata": {},
   "outputs": [
    {
     "data": {
      "text/plain": [
       "array([186.26670209, 361.44400385, 421.44796448, ..., 350.23147346,\n",
       "       349.7263321 , 360.3796826 ])"
      ]
     },
     "execution_count": 213,
     "metadata": {},
     "output_type": "execute_result"
    }
   ],
   "source": [
    "df['Monthly_Balance'] = df['Monthly_Balance'].apply(lambda x: x.replace(\"_\", \"\"))\n",
    "df['Monthly_Balance'] = df['Monthly_Balance'].astype(float)  #nok trasforme '236.64268203272135' -> 236.64268203272135\n",
    "df['Monthly_Balance'].unique()\n"
   ]
  },
  {
   "cell_type": "code",
   "execution_count": 215,
   "id": "428df44b",
   "metadata": {},
   "outputs": [
    {
     "name": "stdout",
     "output_type": "stream",
     "text": [
      "<class 'pandas.core.frame.DataFrame'>\n",
      "Int64Index: 22132 entries, 0 to 49999\n",
      "Data columns (total 28 columns):\n",
      " #   Column                     Non-Null Count  Dtype  \n",
      "---  ------                     --------------  -----  \n",
      " 0   ID                         22132 non-null  object \n",
      " 1   Customer_ID                22132 non-null  object \n",
      " 2   Month                      22132 non-null  object \n",
      " 3   Name                       22132 non-null  object \n",
      " 4   Age                        22132 non-null  int32  \n",
      " 5   SSN                        22132 non-null  object \n",
      " 6   Occupation                 22132 non-null  object \n",
      " 7   Annual_Income              22132 non-null  float64\n",
      " 8   Monthly_Inhand_Salary      22132 non-null  float64\n",
      " 9   Num_Bank_Accounts          22132 non-null  int64  \n",
      " 10  Num_Credit_Card            22132 non-null  int64  \n",
      " 11  Interest_Rate              22132 non-null  int64  \n",
      " 12  Num_of_Loan                22132 non-null  object \n",
      " 13  Type_of_Loan               22132 non-null  object \n",
      " 14  Delay_from_due_date        22132 non-null  int64  \n",
      " 15  Num_of_Delayed_Payment     22132 non-null  object \n",
      " 16  Changed_Credit_Limit       22132 non-null  float64\n",
      " 17  Num_Credit_Inquiries       22132 non-null  float64\n",
      " 18  Credit_Mix                 22132 non-null  object \n",
      " 19  Outstanding_Debt           22132 non-null  float64\n",
      " 20  Credit_Utilization_Ratio   22132 non-null  float64\n",
      " 21  Payment_of_Min_Amount      22132 non-null  object \n",
      " 22  Total_EMI_per_month        22132 non-null  float64\n",
      " 23  Amount_invested_monthly    22132 non-null  float64\n",
      " 24  Payment_Behaviour          22132 non-null  object \n",
      " 25  Monthly_Balance            22132 non-null  float64\n",
      " 26  Credit_History_Age_Years   22132 non-null  int32  \n",
      " 27  Credit_History_Age_Months  22132 non-null  int32  \n",
      "dtypes: float64(9), int32(3), int64(4), object(12)\n",
      "memory usage: 4.6+ MB\n"
     ]
    }
   ],
   "source": [
    "df.info()"
   ]
  },
  {
   "cell_type": "code",
   "execution_count": null,
   "id": "cc935cef",
   "metadata": {},
   "outputs": [],
   "source": []
  }
 ],
 "metadata": {
  "kernelspec": {
   "display_name": "Python 3 (ipykernel)",
   "language": "python",
   "name": "python3"
  },
  "language_info": {
   "codemirror_mode": {
    "name": "ipython",
    "version": 3
   },
   "file_extension": ".py",
   "mimetype": "text/x-python",
   "name": "python",
   "nbconvert_exporter": "python",
   "pygments_lexer": "ipython3",
   "version": "3.9.12"
  }
 },
 "nbformat": 4,
 "nbformat_minor": 5
}
