{
 "cells": [
  {
   "cell_type": "markdown",
   "id": "9d8cfdb0",
   "metadata": {},
   "source": [
    "\n",
    "**<h1><span style=\"color:red\"><u>Credit score calculations</u></span></h1>**\n",
    "**Datascientest**"
   ]
  },
  {
   "cell_type": "markdown",
   "id": "3ed3df9e",
   "metadata": {},
   "source": [
    "### <span style=\"color:yellow\"> 0. Importation des librairies</span> "
   ]
  },
  {
   "cell_type": "code",
   "execution_count": 1,
   "id": "0df5ddbb",
   "metadata": {},
   "outputs": [],
   "source": [
    "import pandas as pd"
   ]
  },
  {
   "cell_type": "markdown",
   "id": "e1ad73ca",
   "metadata": {},
   "source": [
    "## <span style=\"color:red\"> I. Audit des données</span> "
   ]
  },
  {
   "cell_type": "code",
   "execution_count": 2,
   "id": "eefb4bc5",
   "metadata": {
    "scrolled": true
   },
   "outputs": [
    {
     "name": "stdout",
     "output_type": "stream",
     "text": [
      "       ID Customer_ID      Month             Name  Age          SSN  \\\n",
      "0  0x160a   CUS_0xd40  September    Aaron Maashoh   23  821-00-0265   \n",
      "1  0x160b   CUS_0xd40    October    Aaron Maashoh   24  821-00-0265   \n",
      "2  0x160c   CUS_0xd40   November    Aaron Maashoh   24  821-00-0265   \n",
      "3  0x160d   CUS_0xd40   December    Aaron Maashoh  24_  821-00-0265   \n",
      "4  0x1616  CUS_0x21b1  September  Rick Rothackerj   28  004-07-5839   \n",
      "\n",
      "  Occupation Annual_Income  Monthly_Inhand_Salary  Num_Bank_Accounts  ...  \\\n",
      "0  Scientist      19114.12            1824.843333                  3  ...   \n",
      "1  Scientist      19114.12            1824.843333                  3  ...   \n",
      "2  Scientist      19114.12            1824.843333                  3  ...   \n",
      "3  Scientist      19114.12                    NaN                  3  ...   \n",
      "4    _______      34847.84            3037.986667                  2  ...   \n",
      "\n",
      "   Num_Credit_Inquiries  Credit_Mix Outstanding_Debt Credit_Utilization_Ratio  \\\n",
      "0                2022.0        Good           809.98                35.030402   \n",
      "1                   4.0        Good           809.98                33.053114   \n",
      "2                   4.0        Good           809.98                33.811894   \n",
      "3                   4.0        Good           809.98                32.430559   \n",
      "4                   5.0        Good           605.03                25.926822   \n",
      "\n",
      "       Credit_History_Age Payment_of_Min_Amount Total_EMI_per_month  \\\n",
      "0   22 Years and 9 Months                    No           49.574949   \n",
      "1  22 Years and 10 Months                    No           49.574949   \n",
      "2                     NaN                    No           49.574949   \n",
      "3   23 Years and 0 Months                    No           49.574949   \n",
      "4   27 Years and 3 Months                    No           18.816215   \n",
      "\n",
      "   Amount_invested_monthly                 Payment_Behaviour  \\\n",
      "0       236.64268203272135    Low_spent_Small_value_payments   \n",
      "1       21.465380264657146  High_spent_Medium_value_payments   \n",
      "2       148.23393788500925   Low_spent_Medium_value_payments   \n",
      "3        39.08251089460281  High_spent_Medium_value_payments   \n",
      "4       39.684018417945296   High_spent_Large_value_payments   \n",
      "\n",
      "      Monthly_Balance  \n",
      "0  186.26670208571772  \n",
      "1  361.44400385378196  \n",
      "2  264.67544623342997  \n",
      "3  343.82687322383634  \n",
      "4   485.2984336755923  \n",
      "\n",
      "[5 rows x 27 columns]\n"
     ]
    }
   ],
   "source": [
    "df = pd.read_csv(filepath_or_buffer = 'test.csv',\n",
    "                           sep = ',',\n",
    "                           header = 0)\n",
    "\n",
    "#print(df.columns)\n",
    "print(df.head())"
   ]
  },
  {
   "cell_type": "code",
   "execution_count": 3,
   "id": "53d12598",
   "metadata": {},
   "outputs": [
    {
     "data": {
      "text/plain": [
       "ID                             0\n",
       "Customer_ID                    0\n",
       "Month                          0\n",
       "Name                        5015\n",
       "Age                            0\n",
       "SSN                            0\n",
       "Occupation                     0\n",
       "Annual_Income                  0\n",
       "Monthly_Inhand_Salary       7498\n",
       "Num_Bank_Accounts              0\n",
       "Num_Credit_Card                0\n",
       "Interest_Rate                  0\n",
       "Num_of_Loan                    0\n",
       "Type_of_Loan                5704\n",
       "Delay_from_due_date            0\n",
       "Num_of_Delayed_Payment      3498\n",
       "Changed_Credit_Limit           0\n",
       "Num_Credit_Inquiries        1035\n",
       "Credit_Mix                     0\n",
       "Outstanding_Debt               0\n",
       "Credit_Utilization_Ratio       0\n",
       "Credit_History_Age          4470\n",
       "Payment_of_Min_Amount          0\n",
       "Total_EMI_per_month            0\n",
       "Amount_invested_monthly     2271\n",
       "Payment_Behaviour              0\n",
       "Monthly_Balance              562\n",
       "dtype: int64"
      ]
     },
     "execution_count": 3,
     "metadata": {},
     "output_type": "execute_result"
    }
   ],
   "source": [
    "df.isna().sum()\n",
    "#df.isnull().sum()"
   ]
  },
  {
   "cell_type": "code",
   "execution_count": 4,
   "id": "7f86f86d",
   "metadata": {},
   "outputs": [
    {
     "data": {
      "text/plain": [
       "(50000, 27)"
      ]
     },
     "execution_count": 4,
     "metadata": {},
     "output_type": "execute_result"
    }
   ],
   "source": [
    "df.shape"
   ]
  },
  {
   "cell_type": "code",
   "execution_count": 5,
   "id": "e0286c88",
   "metadata": {},
   "outputs": [
    {
     "name": "stdout",
     "output_type": "stream",
     "text": [
      "<class 'pandas.core.frame.DataFrame'>\n",
      "RangeIndex: 50000 entries, 0 to 49999\n",
      "Data columns (total 27 columns):\n",
      " #   Column                    Non-Null Count  Dtype  \n",
      "---  ------                    --------------  -----  \n",
      " 0   ID                        50000 non-null  object \n",
      " 1   Customer_ID               50000 non-null  object \n",
      " 2   Month                     50000 non-null  object \n",
      " 3   Name                      44985 non-null  object \n",
      " 4   Age                       50000 non-null  object \n",
      " 5   SSN                       50000 non-null  object \n",
      " 6   Occupation                50000 non-null  object \n",
      " 7   Annual_Income             50000 non-null  object \n",
      " 8   Monthly_Inhand_Salary     42502 non-null  float64\n",
      " 9   Num_Bank_Accounts         50000 non-null  int64  \n",
      " 10  Num_Credit_Card           50000 non-null  int64  \n",
      " 11  Interest_Rate             50000 non-null  int64  \n",
      " 12  Num_of_Loan               50000 non-null  object \n",
      " 13  Type_of_Loan              44296 non-null  object \n",
      " 14  Delay_from_due_date       50000 non-null  int64  \n",
      " 15  Num_of_Delayed_Payment    46502 non-null  object \n",
      " 16  Changed_Credit_Limit      50000 non-null  object \n",
      " 17  Num_Credit_Inquiries      48965 non-null  float64\n",
      " 18  Credit_Mix                50000 non-null  object \n",
      " 19  Outstanding_Debt          50000 non-null  object \n",
      " 20  Credit_Utilization_Ratio  50000 non-null  float64\n",
      " 21  Credit_History_Age        45530 non-null  object \n",
      " 22  Payment_of_Min_Amount     50000 non-null  object \n",
      " 23  Total_EMI_per_month       50000 non-null  float64\n",
      " 24  Amount_invested_monthly   47729 non-null  object \n",
      " 25  Payment_Behaviour         50000 non-null  object \n",
      " 26  Monthly_Balance           49438 non-null  object \n",
      "dtypes: float64(4), int64(4), object(19)\n",
      "memory usage: 10.3+ MB\n"
     ]
    }
   ],
   "source": [
    "df.info() "
   ]
  },
  {
   "cell_type": "code",
   "execution_count": 6,
   "id": "456f4f12",
   "metadata": {},
   "outputs": [
    {
     "data": {
      "text/html": [
       "<div>\n",
       "<style scoped>\n",
       "    .dataframe tbody tr th:only-of-type {\n",
       "        vertical-align: middle;\n",
       "    }\n",
       "\n",
       "    .dataframe tbody tr th {\n",
       "        vertical-align: top;\n",
       "    }\n",
       "\n",
       "    .dataframe thead th {\n",
       "        text-align: right;\n",
       "    }\n",
       "</style>\n",
       "<table border=\"1\" class=\"dataframe\">\n",
       "  <thead>\n",
       "    <tr style=\"text-align: right;\">\n",
       "      <th></th>\n",
       "      <th>Monthly_Inhand_Salary</th>\n",
       "      <th>Num_Bank_Accounts</th>\n",
       "      <th>Num_Credit_Card</th>\n",
       "      <th>Interest_Rate</th>\n",
       "      <th>Delay_from_due_date</th>\n",
       "      <th>Num_Credit_Inquiries</th>\n",
       "      <th>Credit_Utilization_Ratio</th>\n",
       "      <th>Total_EMI_per_month</th>\n",
       "    </tr>\n",
       "  </thead>\n",
       "  <tbody>\n",
       "    <tr>\n",
       "      <th>count</th>\n",
       "      <td>42502.000000</td>\n",
       "      <td>50000.000000</td>\n",
       "      <td>50000.000000</td>\n",
       "      <td>50000.000000</td>\n",
       "      <td>50000.000000</td>\n",
       "      <td>48965.000000</td>\n",
       "      <td>50000.000000</td>\n",
       "      <td>50000.000000</td>\n",
       "    </tr>\n",
       "    <tr>\n",
       "      <th>mean</th>\n",
       "      <td>4182.004291</td>\n",
       "      <td>16.838260</td>\n",
       "      <td>22.921480</td>\n",
       "      <td>68.772640</td>\n",
       "      <td>21.052640</td>\n",
       "      <td>30.080200</td>\n",
       "      <td>32.279581</td>\n",
       "      <td>1491.304305</td>\n",
       "    </tr>\n",
       "    <tr>\n",
       "      <th>std</th>\n",
       "      <td>3174.109304</td>\n",
       "      <td>116.396848</td>\n",
       "      <td>129.314804</td>\n",
       "      <td>451.602363</td>\n",
       "      <td>14.860397</td>\n",
       "      <td>196.984121</td>\n",
       "      <td>5.106238</td>\n",
       "      <td>8595.647887</td>\n",
       "    </tr>\n",
       "    <tr>\n",
       "      <th>min</th>\n",
       "      <td>303.645417</td>\n",
       "      <td>-1.000000</td>\n",
       "      <td>0.000000</td>\n",
       "      <td>1.000000</td>\n",
       "      <td>-5.000000</td>\n",
       "      <td>0.000000</td>\n",
       "      <td>20.509652</td>\n",
       "      <td>0.000000</td>\n",
       "    </tr>\n",
       "    <tr>\n",
       "      <th>25%</th>\n",
       "      <td>1625.188333</td>\n",
       "      <td>3.000000</td>\n",
       "      <td>4.000000</td>\n",
       "      <td>8.000000</td>\n",
       "      <td>10.000000</td>\n",
       "      <td>4.000000</td>\n",
       "      <td>28.061040</td>\n",
       "      <td>32.222388</td>\n",
       "    </tr>\n",
       "    <tr>\n",
       "      <th>50%</th>\n",
       "      <td>3086.305000</td>\n",
       "      <td>6.000000</td>\n",
       "      <td>5.000000</td>\n",
       "      <td>13.000000</td>\n",
       "      <td>18.000000</td>\n",
       "      <td>7.000000</td>\n",
       "      <td>32.280390</td>\n",
       "      <td>74.733349</td>\n",
       "    </tr>\n",
       "    <tr>\n",
       "      <th>75%</th>\n",
       "      <td>5934.189094</td>\n",
       "      <td>7.000000</td>\n",
       "      <td>7.000000</td>\n",
       "      <td>20.000000</td>\n",
       "      <td>28.000000</td>\n",
       "      <td>10.000000</td>\n",
       "      <td>36.468591</td>\n",
       "      <td>176.157491</td>\n",
       "    </tr>\n",
       "    <tr>\n",
       "      <th>max</th>\n",
       "      <td>15204.633333</td>\n",
       "      <td>1798.000000</td>\n",
       "      <td>1499.000000</td>\n",
       "      <td>5799.000000</td>\n",
       "      <td>67.000000</td>\n",
       "      <td>2593.000000</td>\n",
       "      <td>48.540663</td>\n",
       "      <td>82398.000000</td>\n",
       "    </tr>\n",
       "  </tbody>\n",
       "</table>\n",
       "</div>"
      ],
      "text/plain": [
       "       Monthly_Inhand_Salary  Num_Bank_Accounts  Num_Credit_Card  \\\n",
       "count           42502.000000       50000.000000     50000.000000   \n",
       "mean             4182.004291          16.838260        22.921480   \n",
       "std              3174.109304         116.396848       129.314804   \n",
       "min               303.645417          -1.000000         0.000000   \n",
       "25%              1625.188333           3.000000         4.000000   \n",
       "50%              3086.305000           6.000000         5.000000   \n",
       "75%              5934.189094           7.000000         7.000000   \n",
       "max             15204.633333        1798.000000      1499.000000   \n",
       "\n",
       "       Interest_Rate  Delay_from_due_date  Num_Credit_Inquiries  \\\n",
       "count   50000.000000         50000.000000          48965.000000   \n",
       "mean       68.772640            21.052640             30.080200   \n",
       "std       451.602363            14.860397            196.984121   \n",
       "min         1.000000            -5.000000              0.000000   \n",
       "25%         8.000000            10.000000              4.000000   \n",
       "50%        13.000000            18.000000              7.000000   \n",
       "75%        20.000000            28.000000             10.000000   \n",
       "max      5799.000000            67.000000           2593.000000   \n",
       "\n",
       "       Credit_Utilization_Ratio  Total_EMI_per_month  \n",
       "count              50000.000000         50000.000000  \n",
       "mean                  32.279581          1491.304305  \n",
       "std                    5.106238          8595.647887  \n",
       "min                   20.509652             0.000000  \n",
       "25%                   28.061040            32.222388  \n",
       "50%                   32.280390            74.733349  \n",
       "75%                   36.468591           176.157491  \n",
       "max                   48.540663         82398.000000  "
      ]
     },
     "execution_count": 6,
     "metadata": {},
     "output_type": "execute_result"
    }
   ],
   "source": [
    "df.describe()"
   ]
  },
  {
   "cell_type": "code",
   "execution_count": 7,
   "id": "62ff90d7",
   "metadata": {},
   "outputs": [
    {
     "name": "stdout",
     "output_type": "stream",
     "text": [
      "0\n"
     ]
    }
   ],
   "source": [
    "print(df.duplicated().sum()) # On repère les lignes contenant des doublons"
   ]
  },
  {
   "cell_type": "code",
   "execution_count": 8,
   "id": "629afe43",
   "metadata": {},
   "outputs": [
    {
     "data": {
      "text/plain": [
       "0         0x160a\n",
       "1         0x160b\n",
       "2         0x160c\n",
       "3         0x160d\n",
       "4         0x1616\n",
       "          ...   \n",
       "49995    0x25fe5\n",
       "49996    0x25fee\n",
       "49997    0x25fef\n",
       "49998    0x25ff0\n",
       "49999    0x25ff1\n",
       "Name: ID, Length: 50000, dtype: object"
      ]
     },
     "execution_count": 8,
     "metadata": {},
     "output_type": "execute_result"
    }
   ],
   "source": [
    "df['ID']#ok "
   ]
  },
  {
   "cell_type": "code",
   "execution_count": 9,
   "id": "d9e942b6",
   "metadata": {},
   "outputs": [
    {
     "data": {
      "text/plain": [
       "50000"
      ]
     },
     "execution_count": 9,
     "metadata": {},
     "output_type": "execute_result"
    }
   ],
   "source": [
    "len(df['Customer_ID']) #ok"
   ]
  },
  {
   "cell_type": "code",
   "execution_count": 10,
   "id": "aa035106",
   "metadata": {},
   "outputs": [
    {
     "data": {
      "text/plain": [
       "array(['September', 'October', 'November', 'December'], dtype=object)"
      ]
     },
     "execution_count": 10,
     "metadata": {},
     "output_type": "execute_result"
    }
   ],
   "source": [
    "df['Month'].unique()#ok"
   ]
  },
  {
   "cell_type": "code",
   "execution_count": 11,
   "id": "609eda22",
   "metadata": {},
   "outputs": [
    {
     "data": {
      "text/plain": [
       "0"
      ]
     },
     "execution_count": 11,
     "metadata": {},
     "output_type": "execute_result"
    }
   ],
   "source": [
    "df['Name'] = df['Name'].fillna('MrX')\n",
    "df['Name'].isna().sum()\n",
    "#df['Name']"
   ]
  },
  {
   "cell_type": "code",
   "execution_count": 12,
   "id": "40fa65ba",
   "metadata": {},
   "outputs": [
    {
     "data": {
      "text/plain": [
       "0        23\n",
       "1        24\n",
       "2        24\n",
       "3        24\n",
       "4        28\n",
       "         ..\n",
       "49994    29\n",
       "49996    25\n",
       "49997    25\n",
       "49998    25\n",
       "49999    25\n",
       "Name: Age, Length: 48599, dtype: int32"
      ]
     },
     "execution_count": 12,
     "metadata": {},
     "output_type": "execute_result"
    }
   ],
   "source": [
    "#df['Age'].unique() # nok a traité\n",
    "df[\"Age\"] = df[\"Age\"].apply(lambda x: x.replace(\"_\", \"\"))\n",
    "df[\"Age\"] = df[\"Age\"].astype(int)\n",
    "df = df[(df['Age'] > 0) & (df['Age']<110)]  \n",
    "df['Age']"
   ]
  },
  {
   "cell_type": "code",
   "execution_count": 13,
   "id": "f7e01f1d",
   "metadata": {},
   "outputs": [
    {
     "data": {
      "text/plain": [
       "0        821-00-0265\n",
       "1        821-00-0265\n",
       "2        821-00-0265\n",
       "3        821-00-0265\n",
       "4        004-07-5839\n",
       "            ...     \n",
       "49994    031-35-0942\n",
       "49996    078-73-5990\n",
       "49997    078-73-5990\n",
       "49998    078-73-5990\n",
       "49999    078-73-5990\n",
       "Name: SSN, Length: 45854, dtype: object"
      ]
     },
     "execution_count": 13,
     "metadata": {},
     "output_type": "execute_result"
    }
   ],
   "source": [
    "#df['SSN'] #nok '#F%$D@*&8', ...,\n",
    "df=df.loc[df[\"SSN\"].str.match(\"[0-9][0-9][0-9]\\-[0-9][0-9]\\-[0-9][0-9][0-9][0-9]\")]\n",
    "df['SSN']"
   ]
  },
  {
   "cell_type": "code",
   "execution_count": 14,
   "id": "07f4c3e8",
   "metadata": {},
   "outputs": [
    {
     "data": {
      "text/plain": [
       "array(['Scientist', 'Teacher', 'Engineer', 'Entrepreneur', 'Developer',\n",
       "       'Lawyer', 'Media_Manager', 'Doctor', 'Journalist', 'Manager',\n",
       "       'Accountant', 'Musician', 'Mechanic', 'Writer', 'Architect'],\n",
       "      dtype=object)"
      ]
     },
     "execution_count": 14,
     "metadata": {},
     "output_type": "execute_result"
    }
   ],
   "source": [
    "df = df[df[\"Occupation\"] != \"_______\"]\n",
    "df['Occupation'].unique()"
   ]
  },
  {
   "cell_type": "code",
   "execution_count": 15,
   "id": "74b987c5",
   "metadata": {},
   "outputs": [
    {
     "data": {
      "text/plain": [
       "0        19114.12\n",
       "1        19114.12\n",
       "2        19114.12\n",
       "3        19114.12\n",
       "6        34847.84\n",
       "           ...   \n",
       "49993    20002.88\n",
       "49996    39628.99\n",
       "49997    39628.99\n",
       "49998    39628.99\n",
       "49999    39628.99\n",
       "Name: Annual_Income, Length: 42704, dtype: float64"
      ]
     },
     "execution_count": 15,
     "metadata": {},
     "output_type": "execute_result"
    }
   ],
   "source": [
    "df['Annual_Income'] = df['Annual_Income'].apply(lambda x: x.replace(\"_\", \"\"))\n",
    "df[\"Annual_Income\"] = df[\"Annual_Income\"].astype(float) #nok ? dtype: object, should be Float\n",
    "df['Annual_Income']"
   ]
  },
  {
   "cell_type": "code",
   "execution_count": 16,
   "id": "896f4f62",
   "metadata": {},
   "outputs": [
    {
     "data": {
      "text/plain": [
       "0        1824.843333\n",
       "1        1824.843333\n",
       "2        1824.843333\n",
       "3        3085.853333\n",
       "6        3037.986667\n",
       "            ...     \n",
       "49993    1929.906667\n",
       "49996    3085.853333\n",
       "49997    3359.415833\n",
       "49998    3085.853333\n",
       "49999    3359.415833\n",
       "Name: Monthly_Inhand_Salary, Length: 42704, dtype: float64"
      ]
     },
     "execution_count": 16,
     "metadata": {},
     "output_type": "execute_result"
    }
   ],
   "source": [
    "df['Monthly_Inhand_Salary'] = df['Monthly_Inhand_Salary'].fillna(df['Monthly_Inhand_Salary'].median())\n",
    "df['Monthly_Inhand_Salary']#ok Float"
   ]
  },
  {
   "cell_type": "code",
   "execution_count": 17,
   "id": "e3059574",
   "metadata": {},
   "outputs": [
    {
     "data": {
      "text/plain": [
       "0         3\n",
       "1         3\n",
       "2         3\n",
       "3         3\n",
       "6         2\n",
       "         ..\n",
       "49993    10\n",
       "49996     4\n",
       "49997     4\n",
       "49998     4\n",
       "49999     4\n",
       "Name: Num_Bank_Accounts, Length: 42704, dtype: int64"
      ]
     },
     "execution_count": 17,
     "metadata": {},
     "output_type": "execute_result"
    }
   ],
   "source": [
    "df['Num_Bank_Accounts'] #ok, Integer"
   ]
  },
  {
   "cell_type": "code",
   "execution_count": 18,
   "id": "fb0daaa1",
   "metadata": {},
   "outputs": [
    {
     "data": {
      "text/plain": [
       "array([   4,    5,    1,    7,    6,    8,    3,  211,  182,    9,    2,\n",
       "         10,  914, 1304, 1226,  840, 1354,   11,  644, 1365, 1092, 1289,\n",
       "        497,  181,  517, 1084,  488,  784, 1279, 1036, 1434, 1369, 1000,\n",
       "        905,  510,  557, 1171,  439, 1173, 1002,  590, 1197,  881,  167,\n",
       "       1427,  766,  548, 1384,   45,  513,  808,  863,  570, 1301, 1184,\n",
       "         51, 1133, 1037,  764,  617,  547,    0,  591,  878, 1274, 1465,\n",
       "       1345,  953,  954,   64, 1217,  210, 1052,  284,  238, 1499, 1019,\n",
       "        574, 1266,  535, 1485, 1168, 1241,  743,  330, 1250, 1193, 1096,\n",
       "         68,  986,  101, 1269,  569, 1087,  885,  828, 1135, 1435,   49,\n",
       "        546,   85,  298,  209,  462,  258,   88,  533,  783, 1065,  487,\n",
       "       1343,  217,  886, 1272,  408,  720,  751,  842,  524, 1348,  108,\n",
       "       1157,  393, 1462,  712,  476, 1180, 1127,  609, 1278, 1323,  958,\n",
       "        465,   44,  433,  754, 1029,  177,  333, 1356,   19,  305,  584,\n",
       "        455,  190,  268,  342,  750,  554,  654,  839,   54, 1392,  757,\n",
       "        691,   67, 1038, 1245,  144, 1415,  702,  324, 1091,   59,   50,\n",
       "        632, 1303,   23,  293,  968,  697,  335,  725,  541,  693, 1419,\n",
       "        187,   26,  931,  705, 1393,   30,  322,  338,  204, 1220,   79,\n",
       "       1242,  512,  856, 1062,  656,  121,  544,  537,  436,  366,  611,\n",
       "        168,  197, 1495, 1210,  349,  853,   24,  332,  555,  119,  299,\n",
       "         69, 1015, 1063,  319,  199, 1101,  794,   41,  887,  883,   98,\n",
       "        467,   81,  241,  176, 1045,  974,  869, 1436,  545,  440,  448,\n",
       "        770,  174,  829,  926,  701,  737,  707,  384, 1115,  118, 1125,\n",
       "       1191, 1428,  276,  558,  165, 1249,  804, 1093, 1312, 1329,  641,\n",
       "        292,  630,  957,  877,  980,   56,  446,  348,  243, 1339,  847,\n",
       "        820,  195,  724,  692, 1407, 1070, 1174,  982,  785,  232, 1183,\n",
       "        237, 1080,  660,  721, 1020,  471, 1315, 1014,  992,  158,   31,\n",
       "        113,  849,  715, 1498,  404,  793,  987,  460, 1150,  979,  392,\n",
       "       1156,  231,  374, 1058, 1353,  355,  362,  911,  434,  683,  910,\n",
       "       1340,  575,  135,  285,  631,  147, 1405,  274,  800,   20,  845,\n",
       "        811,  489,  441, 1261, 1142,  675,  422,  445,  834, 1260,   78,\n",
       "        267, 1488,  897, 1320,  789,  964,  977,   77,  650,  402,  868,\n",
       "       1313,  778,  733, 1013,  765,  610,   42,  516,  112, 1055,  449,\n",
       "        341, 1147,  746,  203,  367,  940,  788,  142,  792, 1239, 1143,\n",
       "        288, 1263,  681,  256,  216,  970,  581, 1332,  396,  383,  802,\n",
       "        889, 1447,  477,  225, 1486,  400, 1474,  273,  664, 1359,  302,\n",
       "       1201, 1232, 1439,  380,  781, 1034,  595,  729,  760, 1222,  728,\n",
       "       1066,  149, 1234,  899, 1461,  480, 1473, 1208,  744,  316,  529,\n",
       "       1363, 1379, 1172,  126, 1468,  128,  259,  192, 1298,  684,  620,\n",
       "       1444, 1445, 1176,  130,  103,  907,   75, 1240,  253,  415,  742,\n",
       "        753,  577, 1417,  997,  540, 1448,  843, 1109,  966, 1009,  922,\n",
       "       1463,  818,  873, 1389,  185,  797,  796,  421,   71,  280, 1253,\n",
       "        505,  924, 1308, 1446,  571,  357, 1124,  942,  704,   96, 1190,\n",
       "       1071,  173,  470, 1016,  819,  935,  677,  870, 1238,  116,  876,\n",
       "        638, 1169,  816,  170,  879, 1159,  457,  398, 1380, 1247,  331,\n",
       "        576, 1258,  717,  732,  708,  614, 1402,  122, 1381,  880, 1307,\n",
       "        543,  521,  257, 1325,  399, 1167,  606,  314, 1352,  283, 1132,\n",
       "       1031,  790, 1230,  265, 1022,  996,  310, 1287,  665,  206,  127,\n",
       "        379, 1318,  166, 1235, 1152,   38,  710,  492,   47, 1374,  429,\n",
       "       1426, 1411, 1484, 1148,  531,  309,  506,  224, 1337,  102,  652,\n",
       "        255,  572,  214,  807, 1032,  191,   37, 1438,  178,  514,  468,\n",
       "       1095,  864, 1360, 1212, 1255,  749,  528,  637, 1089,  827,  519,\n",
       "       1033,  624,  904,  115, 1116, 1305,  871, 1243, 1264,  655,   36,\n",
       "       1491,  287,  719,  412,  836,  592,  451,  626,  381,  157,  832,\n",
       "       1203,  444, 1431, 1086, 1188,  304,  420, 1139,  711,  726, 1221,\n",
       "         95, 1229,  323,  971,   58,  222,  114,   18,  769, 1281, 1223,\n",
       "       1026,  950,  350,  411,  247, 1202, 1361,  207, 1481, 1399, 1422,\n",
       "         22,  625, 1076,  483,  491, 1186,  227, 1328, 1297,  589,  160,\n",
       "       1299,   87, 1358, 1466,  903, 1262, 1275, 1459,   35, 1244,  358,\n",
       "        657,  164,  347,  671,  599, 1151, 1386,  153,  835,  777,  961,\n",
       "       1041, 1219,  771, 1335,  763,  282,  858, 1347, 1429, 1083, 1321,\n",
       "       1179,  100, 1372,  813,  855,  431,  249,   73,  251,  523, 1129,\n",
       "        105,  739,  244,  718,  920,  745,  413,  586, 1187,  716, 1069,\n",
       "        618,  198,  473,  860,  615,  894,  515,  230,  262,  169,  406,\n",
       "       1231,   89, 1390, 1195,  959,  689, 1121,  963,  703,  900,  884,\n",
       "        266,  139, 1414,  481,  668,  426, 1416,  163,  952,  582,  502,\n",
       "        709, 1042, 1319, 1017,  598,  846,  416, 1351,  865, 1296,  375,\n",
       "        852,  542,   66,  495,  688, 1233, 1398,  417,  934,   99,  466,\n",
       "        955], dtype=int64)"
      ]
     },
     "execution_count": 18,
     "metadata": {},
     "output_type": "execute_result"
    }
   ],
   "source": [
    "df['Num_Credit_Card'].unique() #nok , Integer ???a voir\n",
    "#Un numéro de carte de crédit nul est en général surement une erreur bien\n",
    "#qu’ici étant donné les autres numéros il pourrait bien être voulu"
   ]
  },
  {
   "cell_type": "code",
   "execution_count": 19,
   "id": "78731dfc",
   "metadata": {},
   "outputs": [
    {
     "data": {
      "text/plain": [
       "array([   3,    6,    8,    4,    5,   15,    7,   12,   20,    1, 1766,\n",
       "         14,   32, 3097,   16,   17,   10,   31,   25,   18,   19,    9,\n",
       "         24,   13, 4224,   33,   11,   21,   29, 5104,   28,   30, 1616,\n",
       "       1854, 5455,   23,   34,    2,  514,  375,   27,  432,   26, 1072,\n",
       "       1830,  810,   22, 5031, 2716, 4384, 4801, 3281, 4903, 4694, 3790,\n",
       "       1064, 1503, 2682, 1641, 4563, 5736,  984, 3669, 1386, 2228, 1925,\n",
       "       2026, 3252,  144, 3154, 2241, 1295, 1666, 5187,  436,  468, 4116,\n",
       "       2705, 2315, 3044, 2921, 5430, 2183, 4916, 4394, 3467, 3046, 1721,\n",
       "         88, 4089,  662, 2239,  953, 3028, 1470, 4251, 3053, 4895,  136,\n",
       "       2336,  548, 1294, 2251, 3701, 4623,  378, 2295, 3561, 1621,  240,\n",
       "       5165, 1047, 4588,  703, 1363, 1129, 3670, 5432, 3600, 5027, 3123,\n",
       "       5476, 1284, 5701,  985, 1481, 1542, 3217, 2679, 4137, 3249, 2126,\n",
       "       3167, 4264, 1475, 1565, 2332,  787, 2317, 4507, 3151, 1392, 4675,\n",
       "       4718, 1504,  820, 1128, 1826, 3388, 4318, 4561, 3834,  347, 4208,\n",
       "       1136, 1447, 1191,  371, 5237, 2108, 2333, 1209,  679, 2520, 5667,\n",
       "       4134, 4271, 4930, 4452, 3747, 5458,  964, 2375, 2449, 1187, 2486,\n",
       "        537, 2272,  643, 1743, 4854, 3153, 5128, 1048, 2123,  567, 4668,\n",
       "       4038, 1843,  115, 4878, 1065, 3851, 3786, 5014, 5541, 3817, 3505,\n",
       "       2579,  400, 2913,  303, 4560,  545, 2431, 3646,  666, 3277, 5194,\n",
       "       2039, 5502, 5267, 2426, 1345, 2857, 3866,  778, 4155,  992,  507,\n",
       "        103,  488, 1457, 5022,  832, 2184, 1735,  317, 1736, 1895, 3972,\n",
       "       5054,  307, 4536,  952, 5129, 1195, 1399, 2290, 4387, 2739, 3169,\n",
       "       3948, 5584, 5725, 1672, 5569, 3651, 4199, 1694, 2668, 4280, 4843,\n",
       "        187,  843, 3675,  923, 4402, 1335, 1923, 3755, 2127,  739,  639,\n",
       "       1215,  156, 3609, 5214, 5679, 5465, 5627, 5405, 3402, 1587, 2907,\n",
       "       5077, 4049, 1098, 2157, 3150, 3921, 4786, 2076, 3768,  125, 5671,\n",
       "       2159, 3844, 1414, 2351, 5551, 4935, 1609, 4924, 3210, 1425, 4821,\n",
       "       2106, 3267, 4757, 4737, 5291,  247, 5137, 5662, 2139, 5307, 1573,\n",
       "       3279, 1166, 5613, 2304, 4345, 5074, 5379, 3977,  234, 4914, 3631,\n",
       "       3535,  823, 2953, 1540, 1831,  673, 1954, 2381,  976, 1083,  423,\n",
       "       4515, 5593, 2163, 4391,  998, 4865, 5471, 1519, 3418, 2298, 3211,\n",
       "       1960, 5480, 4750, 2237, 2988, 1224, 5197, 5689, 4522,  649, 1175,\n",
       "       2395, 1882, 4302, 3022, 3469, 3998, 2904,  225, 2222, 3234,  113,\n",
       "       1434, 5490,  430, 5110,  580, 5539, 2627, 5192,  817,  105, 2192,\n",
       "       5304, 1530,  273, 2318, 3833,  462, 1033, 1586, 5408,  178, 4403,\n",
       "       5792, 3415, 5003, 2996, 1228, 1966, 2914, 5190,  139,  147, 4091,\n",
       "       3392, 2510,  446, 3013, 3483, 2667, 4356, 4574, 1398, 3748, 1472,\n",
       "       3936, 4768, 1243, 5426, 3231, 5168,   89, 4266,  496, 5661, 2171,\n",
       "       1644, 1164, 5747, 1992, 2811,  138, 5640, 1582, 4645, 5637, 5380,\n",
       "       5714,  591, 1311, 5574,  726, 2910, 3275,  365, 4872, 5147, 2299,\n",
       "       3377, 1247, 4608, 2122, 1323, 2517,  850, 5510, 5439,  610, 1132,\n",
       "       1417, 2664, 2501, 3981, 4616, 1308, 3719, 1661, 4295, 4653, 4873,\n",
       "         59, 3111,  236, 5042, 1460, 2525, 3938, 5523, 1888, 1299, 5494,\n",
       "       2607, 3487,  856, 5531,  453, 1035, 1388, 3457, 1297, 1085, 4550,\n",
       "       1631,  813, 2922, 3713, 2489, 5759, 4813, 3332, 4576,  150, 1651,\n",
       "       2801, 3120, 4135,  840, 1415, 2982, 2854, 3394, 5515, 3213, 3800,\n",
       "       1899, 1922, 3861, 1066, 3222, 2462, 3040, 2358, 1671, 1319, 1833,\n",
       "       3168, 5713, 5180, 2719, 2915,  948, 2725,  485,  586, 2041, 1880,\n",
       "       4808, 2326,  520,  693,  441, 1148, 1590, 4024, 2648, 5152, 2800,\n",
       "       3605, 4217, 5656, 3577, 3193, 2979, 2016,  718, 2663, 3016, 5011,\n",
       "       1961, 4337,  828,  782, 2384, 4868, 4014, 5682, 3810, 2452, 3624,\n",
       "       1624, 1115, 2146, 4969, 2561, 2425, 5578,  483, 4381,  665, 5626,\n",
       "       2665, 5060, 1632, 4026,  504,  143,  408, 3438, 2796,  539, 4956,\n",
       "        516, 2550, 2978, 1155, 3107, 3161,  130, 4609, 2410, 4769, 2623,\n",
       "       3417, 2807, 3250, 4880,  409,  877, 5421, 5513,  553, 5748, 4159,\n",
       "       5773, 3511,  648, 1682, 3477, 2644, 4907, 1381, 4031, 1342, 3805,\n",
       "       4539, 2911,  413, 4790, 3703, 2088, 5550, 3860, 4003, 3585, 3446,\n",
       "       2208, 4196, 5029, 1851, 5311, 3867, 4398, 4297, 3216,  626, 4166,\n",
       "       1122, 4094,  766, 1685, 5066, 3011, 5191, 3527, 5286, 1372, 2562,\n",
       "       3004, 1203, 2179, 2134,  209, 1993, 3138, 3710, 5272, 3877, 4332,\n",
       "       1790, 1163, 3601,  275, 5256, 3518, 3881,  767, 1838, 4082, 1543,\n",
       "        124,  598, 5418, 2708, 4104, 3280, 2490, 2980, 4917, 2740, 3448,\n",
       "       3353, 2469, 4170, 4478, 1501, 1971,  238, 2976, 2602,  106, 3285,\n",
       "       5678, 4824, 2285, 4828, 1731,  633, 4359, 3629, 2200, 2674, 5391,\n",
       "       5752, 1723, 3961, 2603, 3009, 2390, 1494, 2419, 4629, 2856,  527,\n",
       "       1023, 5552, 5543, 2344, 4378, 5435, 2516, 3059, 2198, 1138, 2930,\n",
       "       1706, 5096,  374, 1334, 3308, 2221, 4595, 2483, 1214, 1095,  217,\n",
       "       2281, 1670,  402, 2149,  788, 5712,  569,  691, 4509,  632, 1951,\n",
       "       3792, 5629, 1797, 4673, 5164, 2931, 3052, 4996, 1198,  565, 1962,\n",
       "       1906,  508, 3970,  454, 1184, 2695, 4482,  624, 1635, 3947, 1137,\n",
       "       3130, 2110, 3515, 3653, 5732, 5406, 1982, 4671, 2903,  968, 4360,\n",
       "       3746, 1949,  818, 1656, 1996, 3941,  668, 4971,  924,  110,  226,\n",
       "       1196, 5121, 2888, 1149,  312, 3503, 3072, 3399, 3522, 3414, 4220,\n",
       "       2156, 3466, 4088, 1070,  900, 1446,  447, 1877, 5017,  239, 3783,\n",
       "       3928, 3950,  132, 1377, 5670, 3690, 1931, 5261, 2658, 4252],\n",
       "      dtype=int64)"
      ]
     },
     "execution_count": 19,
     "metadata": {},
     "output_type": "execute_result"
    }
   ],
   "source": [
    "df['Interest_Rate'].unique()  #ok, Integer"
   ]
  },
  {
   "cell_type": "code",
   "execution_count": 20,
   "id": "0d92d120",
   "metadata": {},
   "outputs": [
    {
     "data": {
      "text/plain": [
       "array([ 19114,  34847, 143162, ...,  37188,  20002,  39628])"
      ]
     },
     "execution_count": 20,
     "metadata": {},
     "output_type": "execute_result"
    }
   ],
   "source": [
    "df['Num_of_Loan'] = df['Num_of_Loan'].apply(lambda x: x.replace(\"_\", \"\"))#nok valeurs = '_'\n",
    "df['Num_of_Loan'] = df['Num_of_Loan'].apply(lambda x: x.replace(\"-\", \"\"))\n",
    "df['Num_of_Loan'] = df[\"Annual_Income\"].astype(int)\n",
    "df['Num_of_Loan'].unique() #String--> into int"
   ]
  },
  {
   "cell_type": "code",
   "execution_count": 21,
   "id": "c2c336e8",
   "metadata": {},
   "outputs": [
    {
     "data": {
      "text/plain": [
       "0        Auto Loan, Credit-Builder Loan, Personal Loan,...\n",
       "1        Auto Loan, Credit-Builder Loan, Personal Loan,...\n",
       "2        Auto Loan, Credit-Builder Loan, Personal Loan,...\n",
       "3        Auto Loan, Credit-Builder Loan, Personal Loan,...\n",
       "6                                      Credit-Builder Loan\n",
       "                               ...                        \n",
       "49993    Personal Loan, Auto Loan, Mortgage Loan, Stude...\n",
       "49996                          Auto Loan, and Student Loan\n",
       "49997                          Auto Loan, and Student Loan\n",
       "49998                          Auto Loan, and Student Loan\n",
       "49999                          Auto Loan, and Student Loan\n",
       "Name: Type_of_Loan, Length: 42704, dtype: object"
      ]
     },
     "execution_count": 21,
     "metadata": {},
     "output_type": "execute_result"
    }
   ],
   "source": [
    "df['Type_of_Loan'] = df['Type_of_Loan'].fillna(df['Type_of_Loan'].mode()[0]) \n",
    "df['Type_of_Loan'] #ok, String"
   ]
  },
  {
   "cell_type": "code",
   "execution_count": 22,
   "id": "89a37a1f",
   "metadata": {},
   "outputs": [
    {
     "data": {
      "text/plain": [
       "array([ 3,  4,  8,  6,  5,  9, 30, 29, 11,  2,  1, 16, 10, 24, 23, 12, 18,\n",
       "       17, 51, 34, 32, 45, 48, 25, 49, 43, 50, 22, 55, 52, 61, 59, 60, 31,\n",
       "       27, 15, 53, 14, 13,  7, 44, 20, 28, 57, 62, 56, 54, 41, 37, 19, 64,\n",
       "       36, 42, 21, 26, 33, 46, 38, 35, 40, 47, 39, 66, 58, 65, 63, 67],\n",
       "      dtype=int64)"
      ]
     },
     "execution_count": 22,
     "metadata": {},
     "output_type": "execute_result"
    }
   ],
   "source": [
    "df = df[df['Delay_from_due_date'] > 0]  #negative values, could be? \n",
    "df['Delay_from_due_date'].unique()"
   ]
  },
  {
   "cell_type": "code",
   "execution_count": 23,
   "id": "2c6a309f",
   "metadata": {},
   "outputs": [
    {
     "data": {
      "text/plain": [
       "0           7\n",
       "1           9\n",
       "3           5\n",
       "7           2\n",
       "8        1942\n",
       "         ... \n",
       "49992      25\n",
       "49993      25\n",
       "49997       5\n",
       "49998       6\n",
       "49999       5\n",
       "Name: Num_of_Delayed_Payment, Length: 38971, dtype: int32"
      ]
     },
     "execution_count": 23,
     "metadata": {},
     "output_type": "execute_result"
    }
   ],
   "source": [
    "#Un délai négatif pourrait signifier que la date de paiement a été dépassé sans paiement\n",
    "#dans Num_of_Delayed_payment il s’agit probablement d’erreurs\n",
    "#negative values, underscore values\n",
    "df = df.dropna(axis = 0, how = 'all',subset=['Num_of_Delayed_Payment'])\n",
    "df['Num_of_Delayed_Payment'] = df['Num_of_Delayed_Payment'].apply(lambda x: x.replace(\"_\", \"\"))\n",
    "df['Num_of_Delayed_Payment'] = df['Num_of_Delayed_Payment'].apply(lambda x: x.replace(\"-\", \"\"))\n",
    "df['Num_of_Delayed_Payment'] = df['Num_of_Delayed_Payment'].astype(int)\n",
    "df['Num_of_Delayed_Payment']"
   ]
  },
  {
   "cell_type": "code",
   "execution_count": 24,
   "id": "808d5722",
   "metadata": {},
   "outputs": [
    {
     "data": {
      "text/plain": [
       "0        11.27\n",
       "1        13.27\n",
       "3        11.27\n",
       "7         7.42\n",
       "8         7.10\n",
       "         ...  \n",
       "49992    18.31\n",
       "49993    18.31\n",
       "49997    13.50\n",
       "49998    11.50\n",
       "49999    11.50\n",
       "Name: Changed_Credit_Limit, Length: 38971, dtype: float64"
      ]
     },
     "execution_count": 24,
     "metadata": {},
     "output_type": "execute_result"
    }
   ],
   "source": [
    "df['Changed_Credit_Limit'] = df['Changed_Credit_Limit'].apply(lambda x: x.replace(\"_\", \"0\"))#could not convert string to float: ''\n",
    "df['Changed_Credit_Limit'] = df['Changed_Credit_Limit'].astype(float)\n",
    "df['Changed_Credit_Limit'] "
   ]
  },
  {
   "cell_type": "code",
   "execution_count": 25,
   "id": "013b66c8",
   "metadata": {},
   "outputs": [
    {
     "data": {
      "text/plain": [
       "0        2022.0\n",
       "1           4.0\n",
       "3           4.0\n",
       "7           5.0\n",
       "8           3.0\n",
       "          ...  \n",
       "49992       9.0\n",
       "49993      12.0\n",
       "49997       7.0\n",
       "49998       7.0\n",
       "49999       7.0\n",
       "Name: Num_Credit_Inquiries, Length: 38971, dtype: float64"
      ]
     },
     "execution_count": 25,
     "metadata": {},
     "output_type": "execute_result"
    }
   ],
   "source": [
    "df['Num_Credit_Inquiries'] = df['Num_Credit_Inquiries'].fillna(df['Num_Credit_Inquiries'].median()) #nan+ Float\n",
    "df['Num_Credit_Inquiries'] "
   ]
  },
  {
   "cell_type": "code",
   "execution_count": 26,
   "id": "1aae3b4e",
   "metadata": {},
   "outputs": [
    {
     "data": {
      "text/plain": [
       "array(['Good', 'Standard', 'Bad'], dtype=object)"
      ]
     },
     "execution_count": 26,
     "metadata": {},
     "output_type": "execute_result"
    }
   ],
   "source": [
    "df['Credit_Mix'] = df['Credit_Mix'].apply(lambda x: x.replace(\"_\", \"Standard\"))\n",
    "df['Credit_Mix'].unique() #nok '_'"
   ]
  },
  {
   "cell_type": "code",
   "execution_count": 27,
   "id": "9401ac45",
   "metadata": {},
   "outputs": [
    {
     "data": {
      "text/plain": [
       "array([ 809.98,  605.03, 1303.01, ...,  620.64, 3571.7 ,  502.38])"
      ]
     },
     "execution_count": 27,
     "metadata": {},
     "output_type": "execute_result"
    }
   ],
   "source": [
    "df['Outstanding_Debt'] = df['Outstanding_Debt'].apply(lambda x: x.replace(\"_\", \"\")) #nok object should be Float\n",
    "df['Outstanding_Debt'] = df['Outstanding_Debt'].astype(float)\n",
    "df['Outstanding_Debt'].unique()"
   ]
  },
  {
   "cell_type": "code",
   "execution_count": 28,
   "id": "427e8538",
   "metadata": {},
   "outputs": [
    {
     "data": {
      "text/plain": [
       "0        35.030402\n",
       "1        33.053114\n",
       "3        32.430559\n",
       "7        33.875167\n",
       "8        35.229707\n",
       "           ...    \n",
       "49992    32.391288\n",
       "49993    37.528511\n",
       "49997    36.858542\n",
       "49998    39.139840\n",
       "49999    34.108530\n",
       "Name: Credit_Utilization_Ratio, Length: 38971, dtype: float64"
      ]
     },
     "execution_count": 28,
     "metadata": {},
     "output_type": "execute_result"
    }
   ],
   "source": [
    "df['Credit_Utilization_Ratio'] #ok Float"
   ]
  },
  {
   "cell_type": "code",
   "execution_count": 29,
   "id": "847d83b6",
   "metadata": {},
   "outputs": [],
   "source": [
    "#df['Credit_History_Age']\n",
    "df['Credit_History_Age'] = df['Credit_History_Age'].fillna(df['Credit_History_Age'].mode()[0]) \n",
    "df['Credit_History_Age_Years'] = df['Credit_History_Age'].apply(lambda date: date.split(' ')[0])\n",
    "df['Credit_History_Age_Months'] = df['Credit_History_Age'].apply(lambda date: date.split(' ')[3])\n",
    "df['Credit_History_Age_Months'] = df['Credit_History_Age_Months'].astype(int)\n",
    "df['Credit_History_Age_Years'] = df['Credit_History_Age_Years'].astype(int)\n",
    "df=df.drop(['Credit_History_Age'], axis=1)\n",
    "\n",
    "#df['Credit_History_Age_Years'].unique()\n",
    "#df['Credit_History_Age_Months'].unique()"
   ]
  },
  {
   "cell_type": "code",
   "execution_count": 30,
   "id": "d6eb96d8",
   "metadata": {},
   "outputs": [
    {
     "data": {
      "text/plain": [
       "array(['No', 'Yes'], dtype=object)"
      ]
     },
     "execution_count": 30,
     "metadata": {},
     "output_type": "execute_result"
    }
   ],
   "source": [
    "df['Payment_of_Min_Amount'] = df['Payment_of_Min_Amount'].apply(lambda x: x.replace('NM', 'No'))#nok need to trasforme'NM'-->'No'\n",
    "df['Payment_of_Min_Amount'].unique() "
   ]
  },
  {
   "cell_type": "code",
   "execution_count": 31,
   "id": "ec019f24",
   "metadata": {},
   "outputs": [
    {
     "data": {
      "text/plain": [
       "0         49.574949\n",
       "1         49.574949\n",
       "3         49.574949\n",
       "7         18.816215\n",
       "8        246.992319\n",
       "            ...    \n",
       "49992     60.964772\n",
       "49993     60.964772\n",
       "49997     35.104023\n",
       "49998     35.104023\n",
       "49999     35.104023\n",
       "Name: Total_EMI_per_month, Length: 38971, dtype: float64"
      ]
     },
     "execution_count": 31,
     "metadata": {},
     "output_type": "execute_result"
    }
   ],
   "source": [
    "df['Total_EMI_per_month'] #ok Float"
   ]
  },
  {
   "cell_type": "code",
   "execution_count": 32,
   "id": "89126f42",
   "metadata": {},
   "outputs": [
    {
     "data": {
      "text/plain": [
       "0          236.642682\n",
       "1           21.465380\n",
       "3           39.082511\n",
       "7          153.534488\n",
       "8          397.503654\n",
       "             ...     \n",
       "49992      107.210742\n",
       "49993       71.794421\n",
       "49997    10000.000000\n",
       "49998       97.598580\n",
       "49999      220.457878\n",
       "Name: Amount_invested_monthly, Length: 38971, dtype: float64"
      ]
     },
     "execution_count": 32,
     "metadata": {},
     "output_type": "execute_result"
    }
   ],
   "source": [
    "df['Amount_invested_monthly'] = df['Amount_invested_monthly'].fillna(df['Amount_invested_monthly'].mode()[0]) #to save values need to use mode not mean, before transformation float\n",
    "df['Amount_invested_monthly'] = df['Amount_invested_monthly'].apply(lambda x: x.replace(\"_\", \"\"))\n",
    "df['Amount_invested_monthly'] = df['Amount_invested_monthly'].astype(float) #nok trasforme '236.64268203272135' -> 236.64268203272135\n",
    "df['Amount_invested_monthly']"
   ]
  },
  {
   "cell_type": "code",
   "execution_count": 33,
   "id": "95f9fa20",
   "metadata": {},
   "outputs": [
    {
     "data": {
      "text/plain": [
       "array(['Low_spent_Small_value_payments',\n",
       "       'High_spent_Medium_value_payments',\n",
       "       'Low_spent_Medium_value_payments',\n",
       "       'Low_spent_Large_value_payments',\n",
       "       'High_spent_Large_value_payments',\n",
       "       'High_spent_Small_value_payments'], dtype=object)"
      ]
     },
     "execution_count": 33,
     "metadata": {},
     "output_type": "execute_result"
    }
   ],
   "source": [
    "df['Payment_Behaviour'] = df['Payment_Behaviour'].apply(lambda x: x.replace('!@9#%8', df['Payment_Behaviour'].mode()[0])) #nok '!@9#%8'\n",
    "df['Payment_Behaviour'].unique()"
   ]
  },
  {
   "cell_type": "code",
   "execution_count": 34,
   "id": "399c60d7",
   "metadata": {},
   "outputs": [
    {
     "data": {
      "text/plain": [
       "0        186.266702\n",
       "1        361.444004\n",
       "3        343.826873\n",
       "7        421.447964\n",
       "8        854.226027\n",
       "            ...    \n",
       "49992    314.815153\n",
       "49993    350.231473\n",
       "49997    349.726332\n",
       "49998    463.238981\n",
       "49999    360.379683\n",
       "Name: Monthly_Balance, Length: 38971, dtype: float64"
      ]
     },
     "execution_count": 34,
     "metadata": {},
     "output_type": "execute_result"
    }
   ],
   "source": [
    "df['Monthly_Balance'] = df['Monthly_Balance'].fillna(df['Monthly_Balance'].mode()[0]) #to save values need to use mode not mean, before transformation float\n",
    "df['Monthly_Balance'] = df['Monthly_Balance'].apply(lambda x: x.replace(\"_\", \"\"))\n",
    "df['Monthly_Balance'] = df['Monthly_Balance'].astype(float)  #nok trasforme '236.64268203272135' -> 236.64268203272135\n",
    "df['Monthly_Balance']"
   ]
  },
  {
   "cell_type": "code",
   "execution_count": 35,
   "id": "a3b14346",
   "metadata": {},
   "outputs": [
    {
     "name": "stdout",
     "output_type": "stream",
     "text": [
      "<class 'pandas.core.frame.DataFrame'>\n",
      "Int64Index: 38971 entries, 0 to 49999\n",
      "Data columns (total 28 columns):\n",
      " #   Column                     Non-Null Count  Dtype  \n",
      "---  ------                     --------------  -----  \n",
      " 0   ID                         38971 non-null  object \n",
      " 1   Customer_ID                38971 non-null  object \n",
      " 2   Month                      38971 non-null  object \n",
      " 3   Name                       38971 non-null  object \n",
      " 4   Age                        38971 non-null  int32  \n",
      " 5   SSN                        38971 non-null  object \n",
      " 6   Occupation                 38971 non-null  object \n",
      " 7   Annual_Income              38971 non-null  float64\n",
      " 8   Monthly_Inhand_Salary      38971 non-null  float64\n",
      " 9   Num_Bank_Accounts          38971 non-null  int64  \n",
      " 10  Num_Credit_Card            38971 non-null  int64  \n",
      " 11  Interest_Rate              38971 non-null  int64  \n",
      " 12  Num_of_Loan                38971 non-null  int32  \n",
      " 13  Type_of_Loan               38971 non-null  object \n",
      " 14  Delay_from_due_date        38971 non-null  int64  \n",
      " 15  Num_of_Delayed_Payment     38971 non-null  int32  \n",
      " 16  Changed_Credit_Limit       38971 non-null  float64\n",
      " 17  Num_Credit_Inquiries       38971 non-null  float64\n",
      " 18  Credit_Mix                 38971 non-null  object \n",
      " 19  Outstanding_Debt           38971 non-null  float64\n",
      " 20  Credit_Utilization_Ratio   38971 non-null  float64\n",
      " 21  Payment_of_Min_Amount      38971 non-null  object \n",
      " 22  Total_EMI_per_month        38971 non-null  float64\n",
      " 23  Amount_invested_monthly    38971 non-null  float64\n",
      " 24  Payment_Behaviour          38971 non-null  object \n",
      " 25  Monthly_Balance            38971 non-null  float64\n",
      " 26  Credit_History_Age_Years   38971 non-null  int32  \n",
      " 27  Credit_History_Age_Months  38971 non-null  int32  \n",
      "dtypes: float64(9), int32(5), int64(4), object(10)\n",
      "memory usage: 7.9+ MB\n"
     ]
    }
   ],
   "source": [
    "df.info()"
   ]
  },
  {
   "cell_type": "code",
   "execution_count": 36,
   "id": "dac44c1d",
   "metadata": {},
   "outputs": [
    {
     "data": {
      "text/plain": [
       "ID                           0\n",
       "Customer_ID                  0\n",
       "Month                        0\n",
       "Name                         0\n",
       "Age                          0\n",
       "SSN                          0\n",
       "Occupation                   0\n",
       "Annual_Income                0\n",
       "Monthly_Inhand_Salary        0\n",
       "Num_Bank_Accounts            0\n",
       "Num_Credit_Card              0\n",
       "Interest_Rate                0\n",
       "Num_of_Loan                  0\n",
       "Type_of_Loan                 0\n",
       "Delay_from_due_date          0\n",
       "Num_of_Delayed_Payment       0\n",
       "Changed_Credit_Limit         0\n",
       "Num_Credit_Inquiries         0\n",
       "Credit_Mix                   0\n",
       "Outstanding_Debt             0\n",
       "Credit_Utilization_Ratio     0\n",
       "Payment_of_Min_Amount        0\n",
       "Total_EMI_per_month          0\n",
       "Amount_invested_monthly      0\n",
       "Payment_Behaviour            0\n",
       "Monthly_Balance              0\n",
       "Credit_History_Age_Years     0\n",
       "Credit_History_Age_Months    0\n",
       "dtype: int64"
      ]
     },
     "execution_count": 36,
     "metadata": {},
     "output_type": "execute_result"
    }
   ],
   "source": [
    "df.isna().sum()"
   ]
  },
  {
   "cell_type": "code",
   "execution_count": 37,
   "id": "1b0e6ed0",
   "metadata": {},
   "outputs": [
    {
     "data": {
      "text/plain": [
       "22.058"
      ]
     },
     "execution_count": 37,
     "metadata": {},
     "output_type": "execute_result"
    }
   ],
   "source": [
    "(50000-38971)/50000 *100 # 22% pertes,ok"
   ]
  },
  {
   "cell_type": "code",
   "execution_count": null,
   "id": "7eda672c",
   "metadata": {},
   "outputs": [],
   "source": []
  },
  {
   "cell_type": "code",
   "execution_count": null,
   "id": "bb491617",
   "metadata": {},
   "outputs": [],
   "source": []
  }
 ],
 "metadata": {
  "kernelspec": {
   "display_name": "Python 3 (ipykernel)",
   "language": "python",
   "name": "python3"
  },
  "language_info": {
   "codemirror_mode": {
    "name": "ipython",
    "version": 3
   },
   "file_extension": ".py",
   "mimetype": "text/x-python",
   "name": "python",
   "nbconvert_exporter": "python",
   "pygments_lexer": "ipython3",
   "version": "3.9.12"
  }
 },
 "nbformat": 4,
 "nbformat_minor": 5
}
