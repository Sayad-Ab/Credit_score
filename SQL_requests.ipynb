{
 "cells": [
  {
   "cell_type": "code",
   "execution_count": 1,
   "id": "ca465a9b",
   "metadata": {},
   "outputs": [],
   "source": [
    "import sqlite3, sqlalchemy\n",
    "from sqlalchemy import Table, Column, Integer, String, ForeignKey, MetaData, create_engine, text, inspect, Float\n",
    "import joblib"
   ]
  },
  {
   "cell_type": "code",
   "execution_count": 2,
   "id": "7d58836d",
   "metadata": {},
   "outputs": [],
   "source": [
    "engine = create_engine(\"sqlite:///credit_customer.db\")\n",
    "\n",
    "meta = MetaData()\n",
    "\n",
    "customer= Table(\n",
    "    'customer', meta, \n",
    "    Column('ID', String, primary_key=True), \n",
    "    Column('Customer_ID', String), \n",
    "    Column('Name', String),\n",
    "    Column('Age', Integer), \n",
    "    Column('SSN', String), \n",
    "    Column('Occupation', String), \n",
    "    Column('Annual_Income', Float),\n",
    "    Column('Monthly_Inhand_Salary', Float)        \n",
    ")"
   ]
  },
  {
   "cell_type": "code",
   "execution_count": 3,
   "id": "5292ea09",
   "metadata": {},
   "outputs": [],
   "source": [
    "credit= Table(\n",
    "    'credit', meta, \n",
    "    Column('ID_Credit', Integer, primary_key=True),\n",
    "    Column('ID', String, ForeignKey(\"customer.ID\")), \n",
    "    Column('Num_Bank_Accounts', Integer),\n",
    "    Column('Interest_Rate', Integer),\n",
    "    Column('Num_of_Loan', Integer), \n",
    "    Column('Type_of_Loan', String),\n",
    "    Column('Delay_from_due_date', Integer), \n",
    "    Column('Num_of_Delayed_Payment', Integer), \n",
    "    Column('Changed_Credit_Limit', Float),\n",
    "    Column('Num_Credit_Inquiries', Float),\n",
    "    Column('Credit_Mix', String),\n",
    "    Column('Outstanding_Debt', Float),\n",
    "    Column('Credit_Utilization_Ratio', Float), \n",
    "    Column('Payment_of_Min_Amount', String),\n",
    "    Column('Total_EMI_per_month', Float),\n",
    "    Column('Amount_invested_monthly', Float), \n",
    "    Column('Payment_Behaviour', String),\n",
    "    Column('Monthly_Balance', Float),\n",
    "    Column('Credit_History_Age_Years', Integer),\n",
    "    Column('Credit_History_Age_Months', Integer)    \n",
    ")"
   ]
  },
  {
   "cell_type": "code",
   "execution_count": 4,
   "id": "01456006",
   "metadata": {},
   "outputs": [],
   "source": [
    "meta.create_all(engine)"
   ]
  },
  {
   "cell_type": "code",
   "execution_count": 5,
   "id": "5f8ff662",
   "metadata": {},
   "outputs": [],
   "source": [
    "df_customer = joblib.load('./df_customer.pkl')#file with clean data\n",
    "values = list(zip(*map(df_customer.get, df_customer)))"
   ]
  },
  {
   "cell_type": "code",
   "execution_count": 6,
   "id": "94a94ff2",
   "metadata": {},
   "outputs": [],
   "source": [
    "with engine.connect() as connection:\n",
    "    with connection.begin() as transaction:\n",
    "        try:\n",
    "            # We indicate the format of a tuple of this table\n",
    "            markers = ','.join('?' * len(values[0])) \n",
    "            # We use the SQL language in text format where markers is the format of a tuple\n",
    "            ins = 'INSERT INTO {tablename} VALUES ({markers})'\n",
    "            # This particular format is specified using the format member function\n",
    "            ins = ins.format(tablename=customer.name, markers=markers)\n",
    "            # Finally we can use the tuples created by executing the SQL command\n",
    "            connection.execute(ins, values)\n",
    "        except:\n",
    "            transaction.rollback()\n",
    "            raise\n",
    "        else:\n",
    "            transaction.commit()"
   ]
  },
  {
   "cell_type": "code",
   "execution_count": 7,
   "id": "68f976ea",
   "metadata": {},
   "outputs": [],
   "source": [
    "df_credit = joblib.load('./df_credit.pkl')#file with clean data\n",
    "values_credit = list(zip(*map(df_credit.get, df_credit)))"
   ]
  },
  {
   "cell_type": "code",
   "execution_count": 8,
   "id": "65aed479",
   "metadata": {},
   "outputs": [],
   "source": [
    "with engine.connect() as connection:\n",
    "    with connection.begin() as transaction:\n",
    "        try:\n",
    "            # We indicate the format of a tuple of this table\n",
    "            markers = ','.join('?' * len(values_credit[0])) \n",
    "            # We use the SQL language in text format where markers is the format of a tuple\n",
    "            ins = 'INSERT INTO {tablename} VALUES ({markers})'\n",
    "            # This particular format is specified using the format member function\n",
    "            ins = ins.format(tablename=credit.name, markers=markers)\n",
    "            # Finally we can use the tuples created by executing the SQL command\n",
    "            connection.execute(ins, values_credit)\n",
    "        except:\n",
    "            transaction.rollback()\n",
    "            raise\n",
    "        else:\n",
    "            transaction.commit()"
   ]
  },
  {
   "cell_type": "code",
   "execution_count": 9,
   "id": "6e092638",
   "metadata": {},
   "outputs": [
    {
     "name": "stdout",
     "output_type": "stream",
     "text": [
      "[('0x160a', 'CUS_0xd40', 'Aaron Maashoh', 23, '821-00-0265', 'Scientist', 19114.12, 1824.8433333333328)]\n",
      "[(0, '0x160a', 3, 3, 19114, 'Auto Loan, Credit-Builder Loan, Personal Loan, and Home Equity Loan', 3, 7, 11.27, 2022.0, 'Good', 809.98, 35.03040185583525, 'No', 49.57494921489417, 236.64268203272135, 'Low_spent_Small_value_payments', 186.26670208571772, 22, 9)]\n"
     ]
    }
   ],
   "source": [
    "with engine.connect() as connection:\n",
    "    results = connection.execute(\"SELECT * FROM customer LIMIT 1;\")\n",
    "    print(results.fetchall())\n",
    "\n",
    "with engine.connect() as connection:\n",
    "    results = connection.execute(\"SELECT * FROM credit LIMIT 1;\")\n",
    "    print(results.fetchall())"
   ]
  },
  {
   "cell_type": "code",
   "execution_count": 10,
   "id": "aa22948f",
   "metadata": {},
   "outputs": [],
   "source": [
    "#sql = text('DROP TABLE IF EXISTS customer;')\n",
    "#result = engine.execute(sql)"
   ]
  },
  {
   "cell_type": "code",
   "execution_count": 11,
   "id": "0661e63b",
   "metadata": {},
   "outputs": [],
   "source": [
    "#sql = text('DROP TABLE IF EXISTS credit;')\n",
    "#result = engine.execute(sql)"
   ]
  },
  {
   "cell_type": "code",
   "execution_count": 12,
   "id": "87c0f9b1",
   "metadata": {},
   "outputs": [],
   "source": [
    "conn = engine.connect() #Instantiate the Connection class in a variable named conn"
   ]
  },
  {
   "cell_type": "code",
   "execution_count": 13,
   "id": "333238e8",
   "metadata": {},
   "outputs": [],
   "source": [
    "#joblib.dump(conn, './conn.pkl')\n",
    "\n",
    "#PicklingError: Can't pickle <function create_engine.<locals>.connect at 0x000001BB14874A60>: it's not found as sqlalchemy.engine.create.create_engine.<locals>.connect"
   ]
  },
  {
   "cell_type": "code",
   "execution_count": 20,
   "id": "14cf225f",
   "metadata": {},
   "outputs": [
    {
     "data": {
      "text/plain": [
       "[('Scientist', 24137255.0),\n",
       " ('Mechanic', 24017307.0),\n",
       " ('Lawyer', 24004088.0),\n",
       " ('Musician', 23960895.0),\n",
       " ('Engineer', 23941224.0),\n",
       " ('Architect', 23875413.0),\n",
       " ('Media_Manager', 23751475.0),\n",
       " ('Entrepreneur', 23711825.0),\n",
       " ('Journalist', 23572260.0),\n",
       " ('Developer', 23334223.0)]"
      ]
     },
     "execution_count": 20,
     "metadata": {},
     "output_type": "execute_result"
    }
   ],
   "source": [
    "#Find custumers with max Annual_Income and show there occupation\n",
    "stmt = text ( \"SELECT Occupation,Max(Annual_Income) as MaxIncome FROM customer \"\n",
    "             \" GROUP BY Occupation ORDER BY MaxIncome DESC LIMIT 10\" )\n",
    "result = conn.execute(stmt)\n",
    "result.fetchall()"
   ]
  },
  {
   "cell_type": "code",
   "execution_count": 53,
   "id": "79d3963a",
   "metadata": {},
   "outputs": [
    {
     "data": {
      "text/plain": [
       "[('Journalist', 7171.26),\n",
       " ('Mechanic', 7169.585),\n",
       " ('Architect', 7103.035),\n",
       " ('Manager', 7087.38),\n",
       " ('Lawyer', 7084.365),\n",
       " ('Teacher', 7079.32),\n",
       " ('Entrepreneur', 7077.87),\n",
       " ('Developer', 7059.455),\n",
       " ('Scientist', 7046.5),\n",
       " ('Accountant', 7021.91)]"
      ]
     },
     "execution_count": 53,
     "metadata": {},
     "output_type": "execute_result"
    }
   ],
   "source": [
    "#Find custumers with min Annual_Income and show there occupation\n",
    "stmt = text ( \"SELECT Occupation,MIN(Annual_Income) as MinIncome FROM customer \"\n",
    "             \" GROUP BY Occupation ORDER BY MinIncome DESC LIMIT 10\" )\n",
    "result = conn.execute(stmt)\n",
    "result.fetchall()"
   ]
  },
  {
   "cell_type": "code",
   "execution_count": 22,
   "id": "37c15738",
   "metadata": {},
   "outputs": [
    {
     "data": {
      "text/plain": [
       "[('Lawyer', 209794.51680994648),\n",
       " ('Scientist', 209158.45529821832),\n",
       " ('Journalist', 185826.77735661314),\n",
       " ('Mechanic', 176170.47286391206),\n",
       " ('Doctor', 173961.91018612927),\n",
       " ('Architect', 173063.70524696016),\n",
       " ('Musician', 168130.9838434677),\n",
       " ('Media_Manager', 165807.89449139545),\n",
       " ('Manager', 161830.06886201468),\n",
       " ('Accountant', 161360.28372716866)]"
      ]
     },
     "execution_count": 22,
     "metadata": {},
     "output_type": "execute_result"
    }
   ],
   "source": [
    "#Find custumers with average Annual_Income and show there occupation\n",
    "stmt = text ( \"SELECT Occupation,AVG(Annual_Income) as AvgIncome FROM customer \"\n",
    "             \" GROUP BY Occupation ORDER BY AvgIncome DESC LIMIT 10\" )\n",
    "result = conn.execute(stmt)\n",
    "result.fetchall()"
   ]
  },
  {
   "cell_type": "code",
   "execution_count": 24,
   "id": "40450166",
   "metadata": {},
   "outputs": [
    {
     "data": {
      "text/plain": [
       "[(44, 'Lawyer', 15204.633333333331),\n",
       " (45, 'Lawyer', 15204.633333333331),\n",
       " (47, 'Architect', 15167.18),\n",
       " (38, 'Architect', 15136.696666666665),\n",
       " (48, 'Media_Manager', 15115.19),\n",
       " (28, 'Engineer', 15101.94),\n",
       " (19, 'Accountant', 15090.076666666668),\n",
       " (25, 'Musician', 14978.336666666668),\n",
       " (19, 'Writer', 14960.25),\n",
       " (26, 'Mechanic', 14929.54)]"
      ]
     },
     "execution_count": 24,
     "metadata": {},
     "output_type": "execute_result"
    }
   ],
   "source": [
    "#Find custumers age with max Monthly_Inhand_Salary\n",
    "stmt = text ( \"SELECT Age,Occupation, Max(Monthly_Inhand_Salary) as MaxIncome FROM customer \"\n",
    "             \" GROUP BY Age, Occupation ORDER BY MaxIncome DESC LIMIT 10\" )\n",
    "result = conn.execute(stmt)\n",
    "result.fetchall()"
   ]
  },
  {
   "cell_type": "code",
   "execution_count": 25,
   "id": "445f43ce",
   "metadata": {},
   "outputs": [
    {
     "data": {
      "text/plain": [
       "[(50, 'Teacher', 7484.357708333333),\n",
       " (47, 'Architect', 7174.1701096491215),\n",
       " (54, 'Engineer', 7127.029916666668),\n",
       " (50, 'Journalist', 6863.971133826655),\n",
       " (50, 'Accountant', 6783.142699411936),\n",
       " (51, 'Lawyer', 6686.5755579717825),\n",
       " (50, 'Entrepreneur', 6580.346858258982),\n",
       " (48, 'Mechanic', 6464.175146127045),\n",
       " (49, 'Accountant', 6379.054512076755),\n",
       " (47, 'Developer', 6375.531020674111)]"
      ]
     },
     "execution_count": 25,
     "metadata": {},
     "output_type": "execute_result"
    }
   ],
   "source": [
    "#Find custumers age with average Monthly_Inhand_Salary\n",
    "stmt = text ( \"SELECT Age,Occupation, AVG(Monthly_Inhand_Salary) as AVGIncome FROM customer \"\n",
    "             \" GROUP BY Age, Occupation ORDER BY AVGIncome DESC LIMIT 10\" )\n",
    "result = conn.execute(stmt)\n",
    "result.fetchall()"
   ]
  },
  {
   "cell_type": "code",
   "execution_count": 54,
   "id": "e290c057",
   "metadata": {},
   "outputs": [
    {
     "data": {
      "text/plain": [
       "[(95, 'Entrepreneur', 5422.231059336125),\n",
       " (14, 'Lawyer', 3085.853333333333),\n",
       " (54, 'Musician', 3085.853333333333),\n",
       " (95, 'Writer', 3085.853333333333),\n",
       " (47, 'Architect', 3010.778333333333),\n",
       " (56, 'Engineer', 2968.570833333333),\n",
       " (49, 'Writer', 2819.603374504596),\n",
       " (56, 'Accountant', 2802.5939186025025),\n",
       " (51, 'Scientist', 2502.7133333333336),\n",
       " (48, 'Journalist', 2498.629093019256)]"
      ]
     },
     "execution_count": 54,
     "metadata": {},
     "output_type": "execute_result"
    }
   ],
   "source": [
    "#Find custumers age with MIN Monthly_Inhand_Salary\n",
    "stmt = text ( \"SELECT Age,Occupation, Min(Monthly_Inhand_Salary) as MinIncome FROM customer \"\n",
    "             \" GROUP BY Age, Occupation ORDER BY MinIncome DESC LIMIT 10\" )\n",
    "result = conn.execute(stmt)\n",
    "result.fetchall()"
   ]
  },
  {
   "cell_type": "code",
   "execution_count": 27,
   "id": "0e5b76fc",
   "metadata": {},
   "outputs": [
    {
     "data": {
      "text/plain": [
       "[('Paul Taylorm', 'Scientist'),\n",
       " ('Paul Taylorm', 'Scientist'),\n",
       " ('Patrick Ruckerw', 'Scientist'),\n",
       " ('Patrick Ruckerw', 'Scientist'),\n",
       " ('Patrick Ruckerw', 'Scientist'),\n",
       " ('Paritosh Bansalm', 'Scientist'),\n",
       " ('Paritosh Bansalm', 'Scientist'),\n",
       " ('Paritosh Bansalm', 'Scientist'),\n",
       " ('Parisa Hafeziu', 'Scientist'),\n",
       " ('Palmerc', 'Scientist')]"
      ]
     },
     "execution_count": 27,
     "metadata": {},
     "output_type": "execute_result"
    }
   ],
   "source": [
    "#Show Names which begins with a Pa and which occupation is Scientest\n",
    "stmt = text ( \"SELECT Name, Occupation FROM customer\"\n",
    "             \" WHERE Name LIKE 'Pa%' AND Occupation LIKE '%Scientist%' LIMIT 10\")\n",
    "result = conn.execute(stmt)\n",
    "result.fetchall()"
   ]
  },
  {
   "cell_type": "code",
   "execution_count": 52,
   "id": "0a938ed7",
   "metadata": {},
   "outputs": [
    {
     "data": {
      "text/plain": [
       "[('MrX', 3948), ('Stevex', 18), ('Langep', 18)]"
      ]
     },
     "execution_count": 52,
     "metadata": {},
     "output_type": "execute_result"
    }
   ],
   "source": [
    "#Find most frequent value in Name column( from the second value to avoid Nan)!!\n",
    "#fOUND OUT HOW TO SHOW FROM THE SECOND VALUE\n",
    "\n",
    "stmt = text ( \"SELECT Name, COUNT(Name) AS value_occurrence FROM customer\"\n",
    "             \" GROUP BY Name ORDER BY value_occurrence DESC LIMIT 3;\")\n",
    "\n",
    "result = conn.execute(stmt)\n",
    "result.fetchall()\n",
    "\n",
    "\n",
    "#MrX=Nan"
   ]
  },
  {
   "cell_type": "code",
   "execution_count": 61,
   "id": "4c915d62",
   "metadata": {},
   "outputs": [
    {
     "data": {
      "text/plain": [
       "[('Musician', 1086.1156203651738)]"
      ]
     },
     "execution_count": 61,
     "metadata": {},
     "output_type": "execute_result"
    }
   ],
   "source": [
    "#Find average amount invested monthly by musiciens\n",
    "stmt = text ( \"SELECT Occupation, AVG(Amount_invested_monthly) FROM (customer INNER JOIN credit ON customer.ID = credit.ID )\"\n",
    "              \"WHERE Occupation LIKE '%Musician%' LIMIT 10\" )\n",
    "result = conn.execute(stmt)\n",
    "result.fetchall()"
   ]
  },
  {
   "cell_type": "code",
   "execution_count": 63,
   "id": "394877a8",
   "metadata": {},
   "outputs": [
    {
     "data": {
      "text/plain": [
       "[('Lawyer', 1110.5319843204177)]"
      ]
     },
     "execution_count": 63,
     "metadata": {},
     "output_type": "execute_result"
    }
   ],
   "source": [
    "#Find average amount invested monthly by Lawyer\n",
    "stmt = text ( \"SELECT Occupation, AVG(Amount_invested_monthly) FROM (customer INNER JOIN credit ON customer.ID = credit.ID )\"\n",
    "              \"WHERE Occupation LIKE '%Lawyer%' LIMIT 10\" )\n",
    "result = conn.execute(stmt)\n",
    "result.fetchall()"
   ]
  },
  {
   "cell_type": "code",
   "execution_count": 67,
   "id": "1b4cbe84",
   "metadata": {},
   "outputs": [
    {
     "data": {
      "text/plain": [
       "[('Engineer', 23824706.0, 'High_spent_Medium_value_payments'),\n",
       " ('Lawyer', 20976455.0, 'High_spent_Medium_value_payments'),\n",
       " ('Media_Manager', 20601508.0, 'Low_spent_Small_value_payments'),\n",
       " ('Musician', 15717110.0, 'High_spent_Small_value_payments'),\n",
       " ('Developer', 13740470.0, 'High_spent_Small_value_payments'),\n",
       " ('Journalist', 11521978.0, 'Low_spent_Medium_value_payments'),\n",
       " ('Accountant', 11092049.0, 'Low_spent_Medium_value_payments'),\n",
       " ('Scientist', 10527110.0, 'High_spent_Small_value_payments'),\n",
       " ('Manager', 10125936.0, 'High_spent_Medium_value_payments'),\n",
       " ('Architect', 7873905.0, 'High_spent_Medium_value_payments'),\n",
       " ('Teacher', 4602545.0, 'High_spent_Large_value_payments'),\n",
       " ('Entrepreneur', 4148862.0, 'Low_spent_Small_value_payments'),\n",
       " ('Mechanic', 3492542.0, 'High_spent_Medium_value_payments'),\n",
       " ('Doctor', 3035017.0, 'High_spent_Medium_value_payments'),\n",
       " ('Writer', 671709.0, 'Low_spent_Small_value_payments')]"
      ]
     },
     "execution_count": 67,
     "metadata": {},
     "output_type": "execute_result"
    }
   ],
   "source": [
    "#Find \n",
    "stmt = text ( \"SELECT Occupation, Annual_Income, Payment_Behaviour FROM (customer INNER JOIN credit ON customer.ID = credit.ID )\"\n",
    "              \"WHERE Annual_Income > 500000\" \n",
    "             \"GROUP BY Occupation ORDER BY Annual_Income DESC\" )\n",
    "result = conn.execute(stmt)\n",
    "result.fetchall()"
   ]
  },
  {
   "cell_type": "code",
   "execution_count": 70,
   "id": "c97b0a0a",
   "metadata": {},
   "outputs": [
    {
     "data": {
      "text/plain": [
       "[('Accountant', 2628),\n",
       " ('Architect', 2632),\n",
       " ('Developer', 2635),\n",
       " ('Doctor', 2552),\n",
       " ('Engineer', 2676),\n",
       " ('Entrepreneur', 2600),\n",
       " ('Journalist', 2563),\n",
       " ('Lawyer', 2815),\n",
       " ('Manager', 2522),\n",
       " ('Mechanic', 2638),\n",
       " ('Media_Manager', 2615),\n",
       " ('Musician', 2434),\n",
       " ('Scientist', 2582),\n",
       " ('Teacher', 2603),\n",
       " ('Writer', 2476)]"
      ]
     },
     "execution_count": 70,
     "metadata": {},
     "output_type": "execute_result"
    }
   ],
   "source": [
    "#Show all occupations\n",
    "stmt = text ( \"SELECT Occupation, COUNT(*) FROM customer GROUP BY Occupation\" )\n",
    "result = conn.execute(stmt)\n",
    "result.fetchall()"
   ]
  },
  {
   "cell_type": "code",
   "execution_count": 79,
   "id": "aa9ae939",
   "metadata": {},
   "outputs": [
    {
     "data": {
      "text/plain": [
       "[('Scientist', 'Bad', 23994243.0, 'Low_spent_Small_value_payments'),\n",
       " ('Scientist', 'Bad', 23967713.0, 'Low_spent_Small_value_payments'),\n",
       " ('Architect', 'Bad', 23875413.0, 'Low_spent_Small_value_payments'),\n",
       " ('Engineer', 'Bad', 23824706.0, 'High_spent_Medium_value_payments'),\n",
       " ('Musician', 'Bad', 23421410.0, 'Low_spent_Small_value_payments'),\n",
       " ('Engineer', 'Bad', 23420380.0, 'High_spent_Small_value_payments'),\n",
       " ('Lawyer', 'Bad', 23324584.0, 'High_spent_Medium_value_payments'),\n",
       " ('Lawyer', 'Bad', 23213897.0, 'Low_spent_Large_value_payments'),\n",
       " ('Manager', 'Bad', 23022922.0, 'High_spent_Medium_value_payments'),\n",
       " ('Entrepreneur', 'Bad', 23005365.0, 'Low_spent_Medium_value_payments')]"
      ]
     },
     "execution_count": 79,
     "metadata": {},
     "output_type": "execute_result"
    }
   ],
   "source": [
    "#Show\n",
    "\n",
    "stmt = text ( \"SELECT Occupation, Credit_Mix,Annual_Income, Payment_Behaviour FROM (customer INNER JOIN credit ON customer.ID = credit.ID )\"\n",
    "              \"WHERE Credit_Mix  LIKE '%Bad%' ORDER BY Annual_Income DESC LIMIT 10\")\n",
    "             \n",
    "result = conn.execute(stmt)\n",
    "result.fetchall()"
   ]
  },
  {
   "cell_type": "code",
   "execution_count": 80,
   "id": "345ca059",
   "metadata": {},
   "outputs": [
    {
     "data": {
      "text/plain": [
       "[('Scientist', 'Good', 24112304.0, 'High_spent_Large_value_payments'),\n",
       " ('Media_Manager', 'Good', 23751475.0, 'Low_spent_Small_value_payments'),\n",
       " ('Developer', 'Good', 23334223.0, 'Low_spent_Small_value_payments'),\n",
       " ('Journalist', 'Good', 22705386.0, 'Low_spent_Small_value_payments'),\n",
       " ('Developer', 'Good', 22444909.0, 'High_spent_Large_value_payments'),\n",
       " ('Developer', 'Good', 21631150.0, 'High_spent_Medium_value_payments'),\n",
       " ('Accountant', 'Good', 21485760.0, 'Low_spent_Large_value_payments'),\n",
       " ('Scientist', 'Good', 20696625.0, 'High_spent_Large_value_payments'),\n",
       " ('Developer', 'Good', 20103710.0, 'Low_spent_Medium_value_payments'),\n",
       " ('Lawyer', 'Good', 20055893.0, 'High_spent_Medium_value_payments')]"
      ]
     },
     "execution_count": 80,
     "metadata": {},
     "output_type": "execute_result"
    }
   ],
   "source": [
    "stmt = text ( \"SELECT Occupation, Credit_Mix,Annual_Income, Payment_Behaviour FROM (customer INNER JOIN credit ON customer.ID = credit.ID )\"\n",
    "              \"WHERE Credit_Mix  LIKE '%Good%' ORDER BY Annual_Income DESC LIMIT 10\")\n",
    "             \n",
    "result = conn.execute(stmt)\n",
    "result.fetchall()"
   ]
  },
  {
   "cell_type": "code",
   "execution_count": 81,
   "id": "359f676e",
   "metadata": {},
   "outputs": [
    {
     "data": {
      "text/plain": [
       "[(18, 'Musician', 'Home Equity Loan, Credit-Builder Loan, Debt Consolidation Loan, Payday Loan, and Home Equity Loan'),\n",
       " (18, 'Musician', 'Home Equity Loan, Credit-Builder Loan, Debt Consolidation Loan, Payday Loan, and Home Equity Loan'),\n",
       " (18, 'Musician', 'Home Equity Loan, Credit-Builder Loan, Debt Consolidation Loan, Payday Loan, and Home Equity Loan'),\n",
       " (18, 'Media_Manager', 'Home Equity Loan, Mortgage Loan, Debt Consolidation Loan, Home Equity Loan, Personal Loan, and Personal Loan'),\n",
       " (18, 'Scientist', 'Payday Loan, and Not Specified'),\n",
       " (18, 'Scientist', 'Payday Loan, and Not Specified'),\n",
       " (18, 'Scientist', 'Payday Loan, and Not Specified'),\n",
       " (18, 'Manager', 'Mortgage Loan, Not Specified, Credit-Builder Loan, Debt Consolidation Loan, Not Specified, Mortgage Loan, and Student Loan'),\n",
       " (18, 'Manager', 'Mortgage Loan, Not Specified, Credit-Builder Loan, Debt Consolidation Loan, Not Specified, Mortgage Loan, and Student Loan'),\n",
       " (18, 'Manager', 'Mortgage Loan, Not Specified, Credit-Builder Loan, Debt Consolidation Loan, Not Specified, Mortgage Loan, and Student Loan')]"
      ]
     },
     "execution_count": 81,
     "metadata": {},
     "output_type": "execute_result"
    }
   ],
   "source": [
    "stmt = text ( \"SELECT Age, Occupation, Type_of_Loan FROM (customer INNER JOIN credit ON customer.ID = credit.ID )\"\n",
    "              \"WHERE Age = 18 LIMIT 10\" )\n",
    "result = conn.execute(stmt)\n",
    "result.fetchall()"
   ]
  },
  {
   "cell_type": "code",
   "execution_count": 87,
   "id": "b50ff0e4",
   "metadata": {},
   "outputs": [
    {
     "data": {
      "text/plain": [
       "[(40, 'Developer', 'Home Equity Loan, Student Loan, and Debt Consolidation Loan'),\n",
       " (40, 'Developer', 'Home Equity Loan, Student Loan, and Debt Consolidation Loan'),\n",
       " (40, 'Developer', 'Home Equity Loan, Student Loan, and Debt Consolidation Loan'),\n",
       " (40, 'Developer', 'Home Equity Loan, Student Loan, and Debt Consolidation Loan'),\n",
       " (40, 'Developer', 'Home Equity Loan, Mortgage Loan, Mortgage Loan, Not Specified, and Student Loan'),\n",
       " (40, 'Developer', 'Home Equity Loan, Mortgage Loan, Mortgage Loan, Not Specified, and Student Loan'),\n",
       " (40, 'Developer', 'Home Equity Loan, Mortgage Loan, Mortgage Loan, Not Specified, and Student Loan'),\n",
       " (40, 'Developer', 'Home Equity Loan, Payday Loan, Credit-Builder Loan, Personal Loan, Debt Consolidation Loan, Home Equity Loan, Debt Consolidation Loan, and Student Loan'),\n",
       " (40, 'Developer', 'Home Equity Loan, Payday Loan, Credit-Builder Loan, Personal Loan, Debt Consolidation Loan, Home Equity Loan, Debt Consolidation Loan, and Student Loan'),\n",
       " (40, 'Developer', 'Home Equity Loan, Payday Loan, Credit-Builder Loan, Personal Loan, Debt Consolidation Loan, Home Equity Loan, Debt Consolidation Loan, and Student Loan'),\n",
       " (40, 'Developer', 'Home Equity Loan, Payday Loan, Credit-Builder Loan, Personal Loan, Debt Consolidation Loan, Home Equity Loan, Debt Consolidation Loan, and Student Loan'),\n",
       " (40, 'Developer', 'Personal Loan, Auto Loan, Mortgage Loan, Auto Loan, Credit-Builder Loan, Auto Loan, Student Loan, Personal Loan, and Personal Loan'),\n",
       " (40, 'Developer', 'Credit-Builder Loan, and Student Loan'),\n",
       " (40, 'Developer', 'Credit-Builder Loan, and Student Loan'),\n",
       " (40, 'Developer', 'Student Loan, and Debt Consolidation Loan'),\n",
       " (40, 'Developer', 'Student Loan, and Debt Consolidation Loan'),\n",
       " (40, 'Developer', 'Payday Loan, Student Loan, Not Specified, and Personal Loan'),\n",
       " (40, 'Developer', 'Payday Loan, Student Loan, Not Specified, and Personal Loan'),\n",
       " (40, 'Developer', 'Payday Loan, Student Loan, Not Specified, and Personal Loan'),\n",
       " (40, 'Developer', 'Payday Loan, Student Loan, Not Specified, and Personal Loan')]"
      ]
     },
     "execution_count": 87,
     "metadata": {},
     "output_type": "execute_result"
    }
   ],
   "source": [
    "stmt = text ( \"SELECT Age, Occupation, Type_of_Loan FROM (customer INNER JOIN credit ON customer.ID = credit.ID )\"\n",
    "              \"WHERE Age = 40 AND Occupation='Developer'  LIMIT 20\" )\n",
    "result = conn.execute(stmt)\n",
    "result.fetchall()"
   ]
  },
  {
   "cell_type": "code",
   "execution_count": 90,
   "id": "2097cdeb",
   "metadata": {},
   "outputs": [
    {
     "data": {
      "text/plain": [
       "[(40, 'Developer', 'Home Equity Loan, Student Loan, and Debt Consolidation Loan'),\n",
       " (40, 'Developer', 'Home Equity Loan, Student Loan, and Debt Consolidation Loan'),\n",
       " (40, 'Developer', 'Home Equity Loan, Student Loan, and Debt Consolidation Loan'),\n",
       " (40, 'Developer', 'Home Equity Loan, Student Loan, and Debt Consolidation Loan'),\n",
       " (40, 'Developer', 'Home Equity Loan, Mortgage Loan, Mortgage Loan, Not Specified, and Student Loan'),\n",
       " (40, 'Developer', 'Home Equity Loan, Mortgage Loan, Mortgage Loan, Not Specified, and Student Loan'),\n",
       " (40, 'Developer', 'Home Equity Loan, Mortgage Loan, Mortgage Loan, Not Specified, and Student Loan'),\n",
       " (40, 'Developer', 'Home Equity Loan, Payday Loan, Credit-Builder Loan, Personal Loan, Debt Consolidation Loan, Home Equity Loan, Debt Consolidation Loan, and Student Loan'),\n",
       " (40, 'Developer', 'Home Equity Loan, Payday Loan, Credit-Builder Loan, Personal Loan, Debt Consolidation Loan, Home Equity Loan, Debt Consolidation Loan, and Student Loan'),\n",
       " (40, 'Developer', 'Home Equity Loan, Payday Loan, Credit-Builder Loan, Personal Loan, Debt Consolidation Loan, Home Equity Loan, Debt Consolidation Loan, and Student Loan')]"
      ]
     },
     "execution_count": 90,
     "metadata": {},
     "output_type": "execute_result"
    }
   ],
   "source": [
    "stmt = text ( \"SELECT Age, Occupation, Type_of_Loan FROM (customer INNER JOIN credit ON customer.ID = credit.ID )\"\n",
    "              \"WHERE Age = 40 AND Occupation='Developer'  LIMIT 10\" )\n",
    "result = conn.execute(stmt)\n",
    "result.fetchall()"
   ]
  },
  {
   "cell_type": "code",
   "execution_count": 91,
   "id": "cc0480ef",
   "metadata": {},
   "outputs": [
    {
     "data": {
      "text/plain": [
       "[(18, 'Musician', 'Home Equity Loan, Credit-Builder Loan, Debt Consolidation Loan, Payday Loan, and Home Equity Loan'),\n",
       " (18, 'Musician', 'Home Equity Loan, Credit-Builder Loan, Debt Consolidation Loan, Payday Loan, and Home Equity Loan'),\n",
       " (18, 'Musician', 'Home Equity Loan, Credit-Builder Loan, Debt Consolidation Loan, Payday Loan, and Home Equity Loan'),\n",
       " (18, 'Media_Manager', 'Home Equity Loan, Mortgage Loan, Debt Consolidation Loan, Home Equity Loan, Personal Loan, and Personal Loan'),\n",
       " (18, 'Developer', 'Home Equity Loan, Credit-Builder Loan, Student Loan, and Personal Loan'),\n",
       " (18, 'Developer', 'Home Equity Loan, Credit-Builder Loan, Student Loan, and Personal Loan'),\n",
       " (18, 'Entrepreneur', 'Debt Consolidation Loan, Home Equity Loan, and Not Specified'),\n",
       " (18, 'Entrepreneur', 'Debt Consolidation Loan, Home Equity Loan, and Not Specified'),\n",
       " (18, 'Entrepreneur', 'Debt Consolidation Loan, Home Equity Loan, and Not Specified'),\n",
       " (18, 'Engineer', 'Personal Loan, Credit-Builder Loan, Mortgage Loan, Credit-Builder Loan, Personal Loan, and Home Equity Loan')]"
      ]
     },
     "execution_count": 91,
     "metadata": {},
     "output_type": "execute_result"
    }
   ],
   "source": [
    "#Home\n",
    "\n",
    "stmt = text ( \"SELECT Age, Occupation, Type_of_Loan FROM (customer INNER JOIN credit ON customer.ID = credit.ID )\"\n",
    "              \"WHERE Age = 18 AND Type_of_Loan LIKE '%Home%'  LIMIT 10\" )\n",
    "result = conn.execute(stmt)\n",
    "result.fetchall()"
   ]
  },
  {
   "cell_type": "code",
   "execution_count": null,
   "id": "79e33d7a",
   "metadata": {},
   "outputs": [],
   "source": []
  },
  {
   "cell_type": "code",
   "execution_count": null,
   "id": "6e033c8c",
   "metadata": {},
   "outputs": [],
   "source": []
  },
  {
   "cell_type": "code",
   "execution_count": null,
   "id": "1682d9f3",
   "metadata": {},
   "outputs": [],
   "source": []
  },
  {
   "cell_type": "code",
   "execution_count": null,
   "id": "10c7d037",
   "metadata": {},
   "outputs": [],
   "source": []
  },
  {
   "cell_type": "code",
   "execution_count": null,
   "id": "c8a8e9db",
   "metadata": {},
   "outputs": [],
   "source": []
  },
  {
   "cell_type": "code",
   "execution_count": null,
   "id": "50261f00",
   "metadata": {},
   "outputs": [],
   "source": []
  }
 ],
 "metadata": {
  "kernelspec": {
   "display_name": "Python 3 (ipykernel)",
   "language": "python",
   "name": "python3"
  },
  "language_info": {
   "codemirror_mode": {
    "name": "ipython",
    "version": 3
   },
   "file_extension": ".py",
   "mimetype": "text/x-python",
   "name": "python",
   "nbconvert_exporter": "python",
   "pygments_lexer": "ipython3",
   "version": "3.9.12"
  }
 },
 "nbformat": 4,
 "nbformat_minor": 5
}
